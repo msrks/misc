{
 "cells": [
  {
   "cell_type": "code",
   "execution_count": 4,
   "metadata": {},
   "outputs": [],
   "source": [
    "import numpy as np\n",
    "from scipy import signal\n",
    "from matplotlib import pyplot as plt\n",
    "%matplotlib inline"
   ]
  },
  {
   "cell_type": "code",
   "execution_count": 5,
   "metadata": {},
   "outputs": [],
   "source": [
    "#バターワースフィルタ（ローパス）\n",
    "def lowpass(x, samplerate, fp, fs, gpass, gstop):\n",
    "    fn = samplerate / 2                           #ナイキスト周波数\n",
    "    wp = fp / fn                                  #ナイキスト周波数で通過域端周波数を正規化\n",
    "    ws = fs / fn                                  #ナイキスト周波数で阻止域端周波数を正規化\n",
    "    N, Wn = signal.buttord(wp, ws, gpass, gstop)  #オーダーとバターワースの正規化周波数を計算\n",
    "    b, a = signal.butter(N, Wn, \"low\")            #フィルタ伝達関数の分子と分母を計算\n",
    "    y = signal.filtfilt(b, a, x)                  #信号に対してフィルタをかける\n",
    "    return y                                      #フィルタ後の信号を返す"
   ]
  },
  {
   "cell_type": "code",
   "execution_count": 6,
   "metadata": {},
   "outputs": [],
   "source": [
    "samplerate = 25600                                   #波形のサンプリングレート\n",
    "x = np.arange(0, 12800) / samplerate                 #波形生成のための時間軸の作成\n",
    "data = np.random.normal(loc=0, scale=1, size=len(x)) #ガウシアンノイズを生成\n",
    " \n",
    "fp = 3000       #通過域端周波数[Hz]\n",
    "fs = 6000       #阻止域端周波数[Hz]\n",
    "gpass = 3       #通過域端最大損失[dB]\n",
    "gstop = 40      #阻止域端最小損失[dB]\n",
    " \n",
    "data_filt = lowpass(data, samplerate, fp, fs, gpass, gstop)"
   ]
  },
  {
   "cell_type": "code",
   "execution_count": 7,
   "metadata": {},
   "outputs": [],
   "source": [
    "samplerate = 25600\n",
    "x = np.arange(0, 12800) / samplerate  # 波形生成のための間軸の作成\n",
    "data = np.sin(2.0 * np.pi * 50 * x) + 0.3 * np.random.normal(loc=0, scale=1, size=len(x)) #サイン波にガウシアンノイズを重畳\n",
    "\n",
    "fp = 200       #通過域端周波数[Hz]\n",
    "fs = 400       #阻止域端周波数[Hz]\n",
    "gpass = 3      #通過域端最大損失[dB]\n",
    "gstop = 40     #阻止域端最小損失[dB]"
   ]
  },
  {
   "cell_type": "code",
   "execution_count": null,
   "metadata": {},
   "outputs": [],
   "source": []
  }
 ],
 "metadata": {
  "kernelspec": {
   "display_name": "Python 3",
   "language": "python",
   "name": "python3"
  },
  "language_info": {
   "codemirror_mode": {
    "name": "ipython",
    "version": 3
   },
   "file_extension": ".py",
   "mimetype": "text/x-python",
   "name": "python",
   "nbconvert_exporter": "python",
   "pygments_lexer": "ipython3",
   "version": "3.7.4"
  }
 },
 "nbformat": 4,
 "nbformat_minor": 2
}
