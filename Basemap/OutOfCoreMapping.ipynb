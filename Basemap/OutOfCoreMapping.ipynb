{
 "cells": [
  {
   "cell_type": "markdown",
   "metadata": {},
   "source": [
    "# Visualizing Map in Japan with Matplotlib/Basemap"
   ]
  },
  {
   "cell_type": "markdown",
   "metadata": {},
   "source": [
    "*@rikipafe, August 20 2015*"
   ]
  },
  {
   "cell_type": "markdown",
   "metadata": {},
   "source": [
    "### Install pre-requisite requirements.\n",
    "[http://matplotlib.org/basemap/users/installing.html]"
   ]
  },
  {
   "cell_type": "code",
   "execution_count": 18,
   "metadata": {
    "collapsed": false,
    "scrolled": true
   },
   "outputs": [],
   "source": [
    "%matplotlib inline\n",
    "import matplotlib.pyplot as plt\n",
    "from mpl_toolkits.basemap import Basemap"
   ]
  },
  {
   "cell_type": "markdown",
   "metadata": {},
   "source": [
    "## Loading The OpenStreetMap Data with Pandas\n",
    "\n",
    "* [Open Street Map](http://openstreetmap.org).\n",
    "* [OSM-x-tractor](http://osm-x-tractor.org/Data.aspx)"
   ]
  },
  {
   "cell_type": "code",
   "execution_count": 19,
   "metadata": {
    "collapsed": false
   },
   "outputs": [
    {
     "data": {
      "text/plain": [
       "Index([u'﻿\"osmid\"', u'name', u'amenity', u'emergency', u'geological', u'historic', u'leisure', u'man_made', u'office', u'shop', u'sport', u'tourism', u'craft', u'Longitude', u'Latitude'], dtype='object')"
      ]
     },
     "execution_count": 19,
     "metadata": {},
     "output_type": "execute_result"
    }
   ],
   "source": [
    "import pandas as pd\n",
    "data = pd.read_csv('POIAsia.csv', nrows=5)\n",
    "data.columns"
   ]
  },
  {
   "cell_type": "code",
   "execution_count": 20,
   "metadata": {
    "collapsed": false
   },
   "outputs": [
    {
     "data": {
      "text/html": [
       "<div style=\"max-height:1000px;max-width:1500px;overflow:auto;\">\n",
       "<table border=\"1\" class=\"dataframe\">\n",
       "  <thead>\n",
       "    <tr style=\"text-align: right;\">\n",
       "      <th></th>\n",
       "      <th>name</th>\n",
       "      <th>amenity</th>\n",
       "      <th>Longitude</th>\n",
       "      <th>Latitude</th>\n",
       "    </tr>\n",
       "  </thead>\n",
       "  <tbody>\n",
       "    <tr>\n",
       "      <th>0</th>\n",
       "      <td>Sagada Municipal Hall</td>\n",
       "      <td>public_building</td>\n",
       "      <td>120.900729</td>\n",
       "      <td>17.084194</td>\n",
       "    </tr>\n",
       "    <tr>\n",
       "      <th>1</th>\n",
       "      <td>East Point</td>\n",
       "      <td>NaN</td>\n",
       "      <td>120.620201</td>\n",
       "      <td>14.385618</td>\n",
       "    </tr>\n",
       "    <tr>\n",
       "      <th>2</th>\n",
       "      <td>Intramuros</td>\n",
       "      <td>NaN</td>\n",
       "      <td>120.975330</td>\n",
       "      <td>14.590586</td>\n",
       "    </tr>\n",
       "    <tr>\n",
       "      <th>3</th>\n",
       "      <td>NaN</td>\n",
       "      <td>place_of_worship</td>\n",
       "      <td>44.397175</td>\n",
       "      <td>33.325580</td>\n",
       "    </tr>\n",
       "    <tr>\n",
       "      <th>4</th>\n",
       "      <td>NaN</td>\n",
       "      <td>place_of_worship</td>\n",
       "      <td>44.395485</td>\n",
       "      <td>33.325715</td>\n",
       "    </tr>\n",
       "  </tbody>\n",
       "</table>\n",
       "</div>"
      ],
      "text/plain": [
       "                    name           amenity   Longitude   Latitude\n",
       "0  Sagada Municipal Hall   public_building  120.900729  17.084194\n",
       "1             East Point               NaN  120.620201  14.385618\n",
       "2             Intramuros               NaN  120.975330  14.590586\n",
       "3                    NaN  place_of_worship   44.397175  33.325580\n",
       "4                    NaN  place_of_worship   44.395485  33.325715"
      ]
     },
     "execution_count": 20,
     "metadata": {},
     "output_type": "execute_result"
    }
   ],
   "source": [
    "columns = [\"name\", \"amenity\", \"Longitude\", \"Latitude\"]\n",
    "data = pd.read_csv('POIAsia.csv', usecols=columns)\n",
    "data.head()"
   ]
  },
  {
   "cell_type": "code",
   "execution_count": 21,
   "metadata": {
    "collapsed": true
   },
   "outputs": [],
   "source": [
    "with_name = data[data.name.notnull()]\n",
    "with_amenity = data[data.amenity.notnull()]"
   ]
  },
  {
   "cell_type": "markdown",
   "metadata": {},
   "source": [
    "## Diving Into the Data: Geography of Coffee\n",
    "\n",
    "One thing we can do with this data is pull-out certain points of interest and compare their distribution on a map.\n",
    "Here we'll try to reproduce a recent [Reddit Post](https://www.reddit.com/r/MapPorn/comments/2s2a3f/coffee_shop_geography_starbucks_vs_dunkin_donuts/) which maps the distribution of Dunkin Donuts and Starbucks locations in the US.\n",
    "\n",
    "First, we must further filter the data by the name column.\n",
    "Dask lets us use Pandas-style masking and vectorized string operations, so we can do this as follows:"
   ]
  },
  {
   "cell_type": "code",
   "execution_count": 22,
   "metadata": {
    "collapsed": false
   },
   "outputs": [
    {
     "data": {
      "text/plain": [
       "セブン-イレブン               3468\n",
       "Сбербанк               3383\n",
       "7-Eleven               2960\n",
       "К-150                  2506\n",
       "ファミリーマート               2486\n",
       "ローソン                   2442\n",
       "Продукты               2079\n",
       "Магнит                 1904\n",
       "К-200                  1620\n",
       "К-100                  1337\n",
       "Аптека                 1282\n",
       "Т-100                  1124\n",
       "Лукойл                 1110\n",
       "ENEOS                  1020\n",
       "マクドナルド                  926\n",
       "Шиномонтаж              920\n",
       "McDonald's              830\n",
       "KFC                     812\n",
       "К-300                   773\n",
       "サンクス                    747\n",
       "Petron                  732\n",
       "Shell                   723\n",
       "K-150                   713\n",
       "サークルK                   698\n",
       "Masjid                  667\n",
       "АЗС                     628\n",
       "7-11                    620\n",
       "Магазин                 599\n",
       "セブンイレブン                 587\n",
       "Supermarket             579\n",
       "                       ... \n",
       "Subway                  275\n",
       "Цветы                   272\n",
       "Mosque                  268\n",
       "ケンタッキーフライドチキン           266\n",
       "Т-150                   265\n",
       "СТО                     252\n",
       "State Bank of India     248\n",
       "PNB                     246\n",
       "デイリーヤマザキ                244\n",
       "Монетка                 244\n",
       "SDN                     243\n",
       "ローソンストア100              240\n",
       "消火器                     240\n",
       "みずほ銀行                   238\n",
       "Indian Oil              227\n",
       "Почта                   225\n",
       "ВТБ24                   224\n",
       "Мария-Ра                224\n",
       "Metrobank               223\n",
       "タリーズコーヒー                222\n",
       "三井のリパーク                 219\n",
       "三菱東京UFJ銀行               217\n",
       "Chowking                214\n",
       "自販機                     212\n",
       "ПГ К-150                208\n",
       "Автосервис              207\n",
       "pagoda                  202\n",
       "Family Mart             201\n",
       "スリーエフ                   200\n",
       "ESSO                    198\n",
       "dtype: int64"
      ]
     },
     "execution_count": 22,
     "metadata": {},
     "output_type": "execute_result"
    }
   ],
   "source": [
    "with_name.name.value_counts().head(100)"
   ]
  },
  {
   "cell_type": "code",
   "execution_count": 23,
   "metadata": {
    "collapsed": false
   },
   "outputs": [
    {
     "data": {
      "text/html": [
       "<div style=\"max-height:1000px;max-width:1500px;overflow:auto;\">\n",
       "<table border=\"1\" class=\"dataframe\">\n",
       "  <thead>\n",
       "    <tr style=\"text-align: right;\">\n",
       "      <th></th>\n",
       "      <th>name</th>\n",
       "      <th>amenity</th>\n",
       "      <th>Longitude</th>\n",
       "      <th>Latitude</th>\n",
       "    </tr>\n",
       "  </thead>\n",
       "  <tbody>\n",
       "    <tr>\n",
       "      <th>5597</th>\n",
       "      <td>Family Mart</td>\n",
       "      <td>NaN</td>\n",
       "      <td>139.724303</td>\n",
       "      <td>35.954237</td>\n",
       "    </tr>\n",
       "    <tr>\n",
       "      <th>5619</th>\n",
       "      <td>Family Mart</td>\n",
       "      <td>NaN</td>\n",
       "      <td>140.112652</td>\n",
       "      <td>36.078337</td>\n",
       "    </tr>\n",
       "    <tr>\n",
       "      <th>5763</th>\n",
       "      <td>Family Mart</td>\n",
       "      <td>NaN</td>\n",
       "      <td>139.407293</td>\n",
       "      <td>35.634007</td>\n",
       "    </tr>\n",
       "    <tr>\n",
       "      <th>5918</th>\n",
       "      <td>Family Mart</td>\n",
       "      <td>NaN</td>\n",
       "      <td>139.401532</td>\n",
       "      <td>35.613129</td>\n",
       "    </tr>\n",
       "    <tr>\n",
       "      <th>6035</th>\n",
       "      <td>Family Mart</td>\n",
       "      <td>NaN</td>\n",
       "      <td>139.359265</td>\n",
       "      <td>35.554238</td>\n",
       "    </tr>\n",
       "    <tr>\n",
       "      <th>6172</th>\n",
       "      <td>Family Mart</td>\n",
       "      <td>NaN</td>\n",
       "      <td>139.339455</td>\n",
       "      <td>35.600702</td>\n",
       "    </tr>\n",
       "    <tr>\n",
       "      <th>6773</th>\n",
       "      <td>Family Mart</td>\n",
       "      <td>NaN</td>\n",
       "      <td>139.423080</td>\n",
       "      <td>35.557969</td>\n",
       "    </tr>\n",
       "    <tr>\n",
       "      <th>7662</th>\n",
       "      <td>family mart</td>\n",
       "      <td>NaN</td>\n",
       "      <td>139.339671</td>\n",
       "      <td>35.636150</td>\n",
       "    </tr>\n",
       "    <tr>\n",
       "      <th>8203</th>\n",
       "      <td>Family Mart</td>\n",
       "      <td>NaN</td>\n",
       "      <td>133.262998</td>\n",
       "      <td>35.498108</td>\n",
       "    </tr>\n",
       "    <tr>\n",
       "      <th>9335</th>\n",
       "      <td>Family Mart</td>\n",
       "      <td>NaN</td>\n",
       "      <td>136.264399</td>\n",
       "      <td>35.377516</td>\n",
       "    </tr>\n",
       "    <tr>\n",
       "      <th>11958</th>\n",
       "      <td>Family Mart</td>\n",
       "      <td>NaN</td>\n",
       "      <td>139.648556</td>\n",
       "      <td>35.419065</td>\n",
       "    </tr>\n",
       "    <tr>\n",
       "      <th>12148</th>\n",
       "      <td>Family Mart</td>\n",
       "      <td>NaN</td>\n",
       "      <td>139.626196</td>\n",
       "      <td>35.927868</td>\n",
       "    </tr>\n",
       "    <tr>\n",
       "      <th>14175</th>\n",
       "      <td>Family Mart</td>\n",
       "      <td>NaN</td>\n",
       "      <td>139.909797</td>\n",
       "      <td>35.827330</td>\n",
       "    </tr>\n",
       "    <tr>\n",
       "      <th>15348</th>\n",
       "      <td>Family Mart 厚木旭町店</td>\n",
       "      <td>NaN</td>\n",
       "      <td>139.365952</td>\n",
       "      <td>35.438091</td>\n",
       "    </tr>\n",
       "    <tr>\n",
       "      <th>17182</th>\n",
       "      <td>Family Mart</td>\n",
       "      <td>NaN</td>\n",
       "      <td>140.860829</td>\n",
       "      <td>38.275937</td>\n",
       "    </tr>\n",
       "    <tr>\n",
       "      <th>17195</th>\n",
       "      <td>Family Mart</td>\n",
       "      <td>NaN</td>\n",
       "      <td>140.871368</td>\n",
       "      <td>38.259305</td>\n",
       "    </tr>\n",
       "    <tr>\n",
       "      <th>26135</th>\n",
       "      <td>뉴훼미리마트 (New Family Mart)</td>\n",
       "      <td>NaN</td>\n",
       "      <td>127.083773</td>\n",
       "      <td>37.554101</td>\n",
       "    </tr>\n",
       "    <tr>\n",
       "      <th>26223</th>\n",
       "      <td>훼미리마트 (Family Mart)</td>\n",
       "      <td>NaN</td>\n",
       "      <td>126.998739</td>\n",
       "      <td>37.582527</td>\n",
       "    </tr>\n",
       "    <tr>\n",
       "      <th>26225</th>\n",
       "      <td>훼미리마트 (Family Mart)</td>\n",
       "      <td>NaN</td>\n",
       "      <td>126.883730</td>\n",
       "      <td>37.517174</td>\n",
       "    </tr>\n",
       "    <tr>\n",
       "      <th>26227</th>\n",
       "      <td>훼미리마트 (Family Mart)</td>\n",
       "      <td>NaN</td>\n",
       "      <td>126.894344</td>\n",
       "      <td>37.482472</td>\n",
       "    </tr>\n",
       "    <tr>\n",
       "      <th>26228</th>\n",
       "      <td>훼밀리마트 (Family Mart)</td>\n",
       "      <td>NaN</td>\n",
       "      <td>126.944302</td>\n",
       "      <td>37.543656</td>\n",
       "    </tr>\n",
       "    <tr>\n",
       "      <th>26231</th>\n",
       "      <td>훼미리마트 (Family Mart)</td>\n",
       "      <td>NaN</td>\n",
       "      <td>126.980395</td>\n",
       "      <td>37.572593</td>\n",
       "    </tr>\n",
       "    <tr>\n",
       "      <th>26232</th>\n",
       "      <td>훼미리마트 (Family Mart)</td>\n",
       "      <td>NaN</td>\n",
       "      <td>126.945117</td>\n",
       "      <td>37.565291</td>\n",
       "    </tr>\n",
       "    <tr>\n",
       "      <th>26249</th>\n",
       "      <td>시흥태풍훼미리마트 (Siheungtaepung Family Mart)</td>\n",
       "      <td>NaN</td>\n",
       "      <td>126.906230</td>\n",
       "      <td>37.453611</td>\n",
       "    </tr>\n",
       "    <tr>\n",
       "      <th>26355</th>\n",
       "      <td>훼미리마트 (Family Mart)</td>\n",
       "      <td>NaN</td>\n",
       "      <td>129.056782</td>\n",
       "      <td>35.152493</td>\n",
       "    </tr>\n",
       "    <tr>\n",
       "      <th>26369</th>\n",
       "      <td>서원 훼밀리 마트 (Seowon Family Mart)</td>\n",
       "      <td>NaN</td>\n",
       "      <td>129.104773</td>\n",
       "      <td>35.215916</td>\n",
       "    </tr>\n",
       "    <tr>\n",
       "      <th>26647</th>\n",
       "      <td>굿패밀리마트 (Gut Family Mart)</td>\n",
       "      <td>NaN</td>\n",
       "      <td>128.977619</td>\n",
       "      <td>35.079894</td>\n",
       "    </tr>\n",
       "    <tr>\n",
       "      <th>26648</th>\n",
       "      <td>탑훼미리마트 (Tap Family Mart)</td>\n",
       "      <td>NaN</td>\n",
       "      <td>129.023640</td>\n",
       "      <td>35.083796</td>\n",
       "    </tr>\n",
       "    <tr>\n",
       "      <th>26660</th>\n",
       "      <td>탑훼미리마트 (Tap Family Mart)</td>\n",
       "      <td>NaN</td>\n",
       "      <td>129.096194</td>\n",
       "      <td>35.135051</td>\n",
       "    </tr>\n",
       "    <tr>\n",
       "      <th>26669</th>\n",
       "      <td>탑훼미리마트 (Tap Family Mart)</td>\n",
       "      <td>NaN</td>\n",
       "      <td>129.007701</td>\n",
       "      <td>35.106630</td>\n",
       "    </tr>\n",
       "    <tr>\n",
       "      <th>...</th>\n",
       "      <td>...</td>\n",
       "      <td>...</td>\n",
       "      <td>...</td>\n",
       "      <td>...</td>\n",
       "    </tr>\n",
       "    <tr>\n",
       "      <th>1159664</th>\n",
       "      <td>Family Mart</td>\n",
       "      <td>NaN</td>\n",
       "      <td>100.557577</td>\n",
       "      <td>13.740613</td>\n",
       "    </tr>\n",
       "    <tr>\n",
       "      <th>1167387</th>\n",
       "      <td>Family Mart</td>\n",
       "      <td>NaN</td>\n",
       "      <td>100.530548</td>\n",
       "      <td>13.729518</td>\n",
       "    </tr>\n",
       "    <tr>\n",
       "      <th>1167405</th>\n",
       "      <td>Family Mart</td>\n",
       "      <td>NaN</td>\n",
       "      <td>100.532407</td>\n",
       "      <td>13.730295</td>\n",
       "    </tr>\n",
       "    <tr>\n",
       "      <th>1169032</th>\n",
       "      <td>Family Mart</td>\n",
       "      <td>NaN</td>\n",
       "      <td>100.563415</td>\n",
       "      <td>13.735077</td>\n",
       "    </tr>\n",
       "    <tr>\n",
       "      <th>1170291</th>\n",
       "      <td>Family Mart</td>\n",
       "      <td>NaN</td>\n",
       "      <td>100.394148</td>\n",
       "      <td>13.709361</td>\n",
       "    </tr>\n",
       "    <tr>\n",
       "      <th>1170566</th>\n",
       "      <td>Family Mart</td>\n",
       "      <td>NaN</td>\n",
       "      <td>99.971251</td>\n",
       "      <td>12.471271</td>\n",
       "    </tr>\n",
       "    <tr>\n",
       "      <th>1174774</th>\n",
       "      <td>全家便利商店 (Family Mart) 桃園明德店</td>\n",
       "      <td>NaN</td>\n",
       "      <td>121.311717</td>\n",
       "      <td>24.990569</td>\n",
       "    </tr>\n",
       "    <tr>\n",
       "      <th>1174775</th>\n",
       "      <td>全家便利商店 (Family Mart) 桃園朝陽店</td>\n",
       "      <td>NaN</td>\n",
       "      <td>121.313644</td>\n",
       "      <td>24.995684</td>\n",
       "    </tr>\n",
       "    <tr>\n",
       "      <th>1174776</th>\n",
       "      <td>全家便利商店 (Family Mart) 桃園站前店</td>\n",
       "      <td>NaN</td>\n",
       "      <td>121.312852</td>\n",
       "      <td>24.989653</td>\n",
       "    </tr>\n",
       "    <tr>\n",
       "      <th>1174777</th>\n",
       "      <td>全家便利商店 (Family Mart) 桃園車站店</td>\n",
       "      <td>NaN</td>\n",
       "      <td>121.313658</td>\n",
       "      <td>24.990018</td>\n",
       "    </tr>\n",
       "    <tr>\n",
       "      <th>1174785</th>\n",
       "      <td>全家便利商店 (Family Mart) 八德瑞德店</td>\n",
       "      <td>NaN</td>\n",
       "      <td>121.296456</td>\n",
       "      <td>24.926142</td>\n",
       "    </tr>\n",
       "    <tr>\n",
       "      <th>1174786</th>\n",
       "      <td>全家便利商店 (Family Mart) 大溪介壽店</td>\n",
       "      <td>NaN</td>\n",
       "      <td>121.291486</td>\n",
       "      <td>24.918204</td>\n",
       "    </tr>\n",
       "    <tr>\n",
       "      <th>1184147</th>\n",
       "      <td>Family Mart</td>\n",
       "      <td>NaN</td>\n",
       "      <td>99.961873</td>\n",
       "      <td>12.447396</td>\n",
       "    </tr>\n",
       "    <tr>\n",
       "      <th>1202647</th>\n",
       "      <td>Family Mart</td>\n",
       "      <td>NaN</td>\n",
       "      <td>120.987572</td>\n",
       "      <td>14.535214</td>\n",
       "    </tr>\n",
       "    <tr>\n",
       "      <th>1202933</th>\n",
       "      <td>Family Mart 熱海本町商店街店</td>\n",
       "      <td>NaN</td>\n",
       "      <td>139.072825</td>\n",
       "      <td>35.096856</td>\n",
       "    </tr>\n",
       "    <tr>\n",
       "      <th>1203516</th>\n",
       "      <td>Family Mart</td>\n",
       "      <td>NaN</td>\n",
       "      <td>121.042487</td>\n",
       "      <td>14.604815</td>\n",
       "    </tr>\n",
       "    <tr>\n",
       "      <th>1209533</th>\n",
       "      <td>Family Mart</td>\n",
       "      <td>NaN</td>\n",
       "      <td>100.712383</td>\n",
       "      <td>13.795942</td>\n",
       "    </tr>\n",
       "    <tr>\n",
       "      <th>1216608</th>\n",
       "      <td>Family Mart</td>\n",
       "      <td>NaN</td>\n",
       "      <td>121.005628</td>\n",
       "      <td>14.638768</td>\n",
       "    </tr>\n",
       "    <tr>\n",
       "      <th>1219467</th>\n",
       "      <td>Family Mart</td>\n",
       "      <td>NaN</td>\n",
       "      <td>121.033969</td>\n",
       "      <td>14.629486</td>\n",
       "    </tr>\n",
       "    <tr>\n",
       "      <th>1221893</th>\n",
       "      <td>Family Mart</td>\n",
       "      <td>NaN</td>\n",
       "      <td>139.772339</td>\n",
       "      <td>35.655868</td>\n",
       "    </tr>\n",
       "    <tr>\n",
       "      <th>1223686</th>\n",
       "      <td>Family Mart</td>\n",
       "      <td>NaN</td>\n",
       "      <td>121.063529</td>\n",
       "      <td>14.583158</td>\n",
       "    </tr>\n",
       "    <tr>\n",
       "      <th>1224793</th>\n",
       "      <td>Family Mart</td>\n",
       "      <td>NaN</td>\n",
       "      <td>121.061935</td>\n",
       "      <td>14.586819</td>\n",
       "    </tr>\n",
       "    <tr>\n",
       "      <th>1225787</th>\n",
       "      <td>Family Mart</td>\n",
       "      <td>NaN</td>\n",
       "      <td>121.029384</td>\n",
       "      <td>14.549771</td>\n",
       "    </tr>\n",
       "    <tr>\n",
       "      <th>1229753</th>\n",
       "      <td>Family Mart</td>\n",
       "      <td>NaN</td>\n",
       "      <td>139.630702</td>\n",
       "      <td>35.295821</td>\n",
       "    </tr>\n",
       "    <tr>\n",
       "      <th>1230489</th>\n",
       "      <td>Family Mart</td>\n",
       "      <td>NaN</td>\n",
       "      <td>98.819040</td>\n",
       "      <td>8.034068</td>\n",
       "    </tr>\n",
       "    <tr>\n",
       "      <th>1230490</th>\n",
       "      <td>Family Mart</td>\n",
       "      <td>NaN</td>\n",
       "      <td>98.819592</td>\n",
       "      <td>8.033526</td>\n",
       "    </tr>\n",
       "    <tr>\n",
       "      <th>1230494</th>\n",
       "      <td>Family Mart</td>\n",
       "      <td>NaN</td>\n",
       "      <td>98.820580</td>\n",
       "      <td>8.032805</td>\n",
       "    </tr>\n",
       "    <tr>\n",
       "      <th>1231845</th>\n",
       "      <td>Family Mart</td>\n",
       "      <td>NaN</td>\n",
       "      <td>99.990255</td>\n",
       "      <td>9.709785</td>\n",
       "    </tr>\n",
       "    <tr>\n",
       "      <th>1234658</th>\n",
       "      <td>Family Mart</td>\n",
       "      <td>NaN</td>\n",
       "      <td>141.160119</td>\n",
       "      <td>38.374885</td>\n",
       "    </tr>\n",
       "    <tr>\n",
       "      <th>1236031</th>\n",
       "      <td>Family Mart</td>\n",
       "      <td>NaN</td>\n",
       "      <td>141.672219</td>\n",
       "      <td>39.011410</td>\n",
       "    </tr>\n",
       "  </tbody>\n",
       "</table>\n",
       "<p>329 rows × 4 columns</p>\n",
       "</div>"
      ],
      "text/plain": [
       "                                           name amenity   Longitude   Latitude\n",
       "5597                                Family Mart     NaN  139.724303  35.954237\n",
       "5619                                Family Mart     NaN  140.112652  36.078337\n",
       "5763                                Family Mart     NaN  139.407293  35.634007\n",
       "5918                                Family Mart     NaN  139.401532  35.613129\n",
       "6035                                Family Mart     NaN  139.359265  35.554238\n",
       "6172                                Family Mart     NaN  139.339455  35.600702\n",
       "6773                                Family Mart     NaN  139.423080  35.557969\n",
       "7662                                family mart     NaN  139.339671  35.636150\n",
       "8203                                Family Mart     NaN  133.262998  35.498108\n",
       "9335                                Family Mart     NaN  136.264399  35.377516\n",
       "11958                               Family Mart     NaN  139.648556  35.419065\n",
       "12148                               Family Mart     NaN  139.626196  35.927868\n",
       "14175                               Family Mart     NaN  139.909797  35.827330\n",
       "15348                         Family Mart 厚木旭町店     NaN  139.365952  35.438091\n",
       "17182                               Family Mart     NaN  140.860829  38.275937\n",
       "17195                               Family Mart     NaN  140.871368  38.259305\n",
       "26135                  뉴훼미리마트 (New Family Mart)     NaN  127.083773  37.554101\n",
       "26223                       훼미리마트 (Family Mart)     NaN  126.998739  37.582527\n",
       "26225                       훼미리마트 (Family Mart)     NaN  126.883730  37.517174\n",
       "26227                       훼미리마트 (Family Mart)     NaN  126.894344  37.482472\n",
       "26228                       훼밀리마트 (Family Mart)     NaN  126.944302  37.543656\n",
       "26231                       훼미리마트 (Family Mart)     NaN  126.980395  37.572593\n",
       "26232                       훼미리마트 (Family Mart)     NaN  126.945117  37.565291\n",
       "26249    시흥태풍훼미리마트 (Siheungtaepung Family Mart)     NaN  126.906230  37.453611\n",
       "26355                       훼미리마트 (Family Mart)     NaN  129.056782  35.152493\n",
       "26369            서원 훼밀리 마트 (Seowon Family Mart)     NaN  129.104773  35.215916\n",
       "26647                  굿패밀리마트 (Gut Family Mart)     NaN  128.977619  35.079894\n",
       "26648                  탑훼미리마트 (Tap Family Mart)     NaN  129.023640  35.083796\n",
       "26660                  탑훼미리마트 (Tap Family Mart)     NaN  129.096194  35.135051\n",
       "26669                  탑훼미리마트 (Tap Family Mart)     NaN  129.007701  35.106630\n",
       "...                                         ...     ...         ...        ...\n",
       "1159664                             Family Mart     NaN  100.557577  13.740613\n",
       "1167387                             Family Mart     NaN  100.530548  13.729518\n",
       "1167405                             Family Mart     NaN  100.532407  13.730295\n",
       "1169032                             Family Mart     NaN  100.563415  13.735077\n",
       "1170291                             Family Mart     NaN  100.394148  13.709361\n",
       "1170566                             Family Mart     NaN   99.971251  12.471271\n",
       "1174774              全家便利商店 (Family Mart) 桃園明德店     NaN  121.311717  24.990569\n",
       "1174775              全家便利商店 (Family Mart) 桃園朝陽店     NaN  121.313644  24.995684\n",
       "1174776              全家便利商店 (Family Mart) 桃園站前店     NaN  121.312852  24.989653\n",
       "1174777              全家便利商店 (Family Mart) 桃園車站店     NaN  121.313658  24.990018\n",
       "1174785              全家便利商店 (Family Mart) 八德瑞德店     NaN  121.296456  24.926142\n",
       "1174786              全家便利商店 (Family Mart) 大溪介壽店     NaN  121.291486  24.918204\n",
       "1184147                             Family Mart     NaN   99.961873  12.447396\n",
       "1202647                             Family Mart     NaN  120.987572  14.535214\n",
       "1202933                    Family Mart 熱海本町商店街店     NaN  139.072825  35.096856\n",
       "1203516                             Family Mart     NaN  121.042487  14.604815\n",
       "1209533                             Family Mart     NaN  100.712383  13.795942\n",
       "1216608                             Family Mart     NaN  121.005628  14.638768\n",
       "1219467                             Family Mart     NaN  121.033969  14.629486\n",
       "1221893                             Family Mart     NaN  139.772339  35.655868\n",
       "1223686                             Family Mart     NaN  121.063529  14.583158\n",
       "1224793                             Family Mart     NaN  121.061935  14.586819\n",
       "1225787                             Family Mart     NaN  121.029384  14.549771\n",
       "1229753                             Family Mart     NaN  139.630702  35.295821\n",
       "1230489                             Family Mart     NaN   98.819040   8.034068\n",
       "1230490                             Family Mart     NaN   98.819592   8.033526\n",
       "1230494                             Family Mart     NaN   98.820580   8.032805\n",
       "1231845                             Family Mart     NaN   99.990255   9.709785\n",
       "1234658                             Family Mart     NaN  141.160119  38.374885\n",
       "1236031                             Family Mart     NaN  141.672219  39.011410\n",
       "\n",
       "[329 rows x 4 columns]"
      ]
     },
     "execution_count": 23,
     "metadata": {},
     "output_type": "execute_result"
    }
   ],
   "source": [
    "with_name[with_name.name.str.contains('[Ff]amily [Mm]art')]"
   ]
  },
  {
   "cell_type": "code",
   "execution_count": 25,
   "metadata": {
    "collapsed": false
   },
   "outputs": [],
   "source": [
    "sevenEleven = with_name[with_name.name.str.contains('セブン-イレブン')|\n",
    "                        with_name.name.str.contains('セブンイレブン')|\n",
    "                        with_name.name.str.contains('7-11')|\n",
    "                        with_name.name.str.contains('7-[Ee]leven')|\n",
    "                        with_name.name.str.contains('[Ss]even [Ee]leven')]\n",
    "familyMart = with_name[with_name.name.str.contains('ファミリーマート')|\n",
    "                      with_name.name.str.contains('[Ff]amily [Mm]art')]\n",
    "lawson = with_name[with_name.name.str.contains('ローソン')|\n",
    "                      with_name.name.str.contains('[Ll]awson')]"
   ]
  },
  {
   "cell_type": "markdown",
   "metadata": {},
   "source": [
    "To see how many results we have, we can use a ``count()`` call and pass it to ``dd.compute()`` to see the results.\n",
    "This is the point when we are finally actually loading the data and computing quantities from the values:"
   ]
  },
  {
   "cell_type": "code",
   "execution_count": 26,
   "metadata": {
    "collapsed": false
   },
   "outputs": [
    {
     "name": "stdout",
     "output_type": "stream",
     "text": [
      "8820 3252 3628\n"
     ]
    }
   ],
   "source": [
    "print sevenEleven.name.count(), familyMart.name.count(), lawson.name.count()"
   ]
  },
  {
   "cell_type": "markdown",
   "metadata": {},
   "source": [
    "We find about 5300 Starbucks and 1300 Dunkin Donuts locations in the global dataset; this is far fewer than the true numbers for these chains, which are around [12000 Starbucks and 8000 Dunkin Donuts](https://www.factual.com/data/t/restaurants-us) in the United States alone!\n",
    "Evidently, the OpenStreetMap data is not all that complete.\n",
    "From my own anecdotal experience with the dataset, I've found that the data tends to be fairly complete in dense urban areas, while missing many details in more sparsely-populated locations.\n",
    "\n",
    "Despite this incompleteness, let's push-on with the data we have and see what we can discover.\n",
    "We can start by computing and extracting the latitude and longitude from the graphs we have generated.\n",
    "We will do this in a single ``dd.compute()`` call, so that the data will be ingested only once:"
   ]
  },
  {
   "cell_type": "code",
   "execution_count": 34,
   "metadata": {
    "collapsed": false
   },
   "outputs": [],
   "source": [
    "%matplotlib inline\n",
    "import matplotlib.pyplot as plt\n",
    "from mpl_toolkits.basemap import Basemap\n",
    "\n",
    "def draw_USA():\n",
    "    \"\"\"initialize a basemap centered on the continental USA\"\"\"\n",
    "    plt.figure(figsize=(14, 10))\n",
    "    return Basemap(projection='lcc', resolution='l',\n",
    "                   llcrnrlon=120, urcrnrlon=160,\n",
    "                   llcrnrlat=22, urcrnrlat=49,\n",
    "                   lat_1=33, lat_2=45, lon_0=130,\n",
    "                   area_thresh=10000)"
   ]
  },
  {
   "cell_type": "markdown",
   "metadata": {},
   "source": [
    "Now that we have this data, we can use matplotlib's [basemap](http://matplotlib.org/basemap/) toolkit to visualize the results on a map:"
   ]
  },
  {
   "cell_type": "code",
   "execution_count": 42,
   "metadata": {
    "collapsed": false
   },
   "outputs": [
    {
     "data": {
      "image/png": "[encoded data removed]",
      "text/plain": [
       "<matplotlib.figure.Figure at 0x101521a10>"
      ]
     },
     "metadata": {},
     "output_type": "display_data"
    }
   ],
   "source": [
    "m = draw_USA()\n",
    "    \n",
    "# Draw map background\n",
    "m.fillcontinents(color='white', lake_color='#eeeeee')\n",
    "m.drawstates(color='lightgray')\n",
    "m.drawcoastlines(color='lightgray')\n",
    "m.drawcountries(color='lightgray')\n",
    "m.drawmapboundary(fill_color='#eeeeee')\n",
    "\n",
    "# Plot the values in Starbucks Green and Dunkin Donuts Orange\n",
    "style = dict(s=1, marker='o', alpha=0.2, zorder=2)\n",
    "m.scatter(sevenEleven.Longitude.values,\n",
    "          sevenEleven.Latitude.values, latlon=True,\n",
    "          label=\"sevenEleven\", color='red', **style)\n",
    "#m.scatter(familyMart.Longitude.values,\n",
    "#          familyMart.Latitude.values, latlon=True,\n",
    "#          label=\"familyMart\", color='blue', **style)\n",
    "#m.scatter(lawson.Longitude.values,\n",
    "#          lawson.Latitude.values, latlon=True,\n",
    "#          label=\"lawson\", color='green', **style)\n",
    "plt.legend(loc='lower right', frameon=False);"
   ]
  },
  {
   "cell_type": "code",
   "execution_count": 39,
   "metadata": {
    "collapsed": false
   },
   "outputs": [
    {
     "data": {
      "image/png": "[encoded data removed]",
      "text/plain": [
       "<matplotlib.figure.Figure at 0x106f14ed0>"
      ]
     },
     "metadata": {},
     "output_type": "display_data"
    }
   ],
   "source": [
    "m = draw_USA()\n",
    "    \n",
    "# Draw map background\n",
    "m.fillcontinents(color='white', lake_color='#eeeeee')\n",
    "m.drawstates(color='lightgray')\n",
    "m.drawcoastlines(color='lightgray')\n",
    "m.drawcountries(color='lightgray')\n",
    "m.drawmapboundary(fill_color='#eeeeee')\n",
    "\n",
    "# Plot the values in Starbucks Green and Dunkin Donuts Orange\n",
    "style = dict(s=1, marker='o', alpha=0.2, zorder=2)\n",
    "#m.scatter(sevenEleven.Longitude.values,\n",
    "#          sevenEleven.Latitude.values, latlon=True,\n",
    "#          label=\"sevenEleven\", color='red', **style)\n",
    "#m.scatter(familyMart.Longitude.values,\n",
    "#          familyMart.Latitude.values, latlon=True,\n",
    "#          label=\"familyMart\", color='blue', **style)\n",
    "m.scatter(lawson.Longitude.values,\n",
    "          lawson.Latitude.values, latlon=True,\n",
    "          label=\"lawson\", color='green', **style)\n",
    "plt.legend(loc='lower right', frameon=False);"
   ]
  },
  {
   "cell_type": "code",
   "execution_count": 41,
   "metadata": {
    "collapsed": false
   },
   "outputs": [
    {
     "data": {
      "image/png": "[encoded data removed]",
      "text/plain": [
       "<matplotlib.figure.Figure at 0x1071dfe50>"
      ]
     },
     "metadata": {},
     "output_type": "display_data"
    }
   ],
   "source": [
    "m = draw_USA()\n",
    "    \n",
    "# Draw map background\n",
    "m.fillcontinents(color='white', lake_color='#eeeeee')\n",
    "m.drawstates(color='lightgray')\n",
    "m.drawcoastlines(color='lightgray')\n",
    "m.drawcountries(color='lightgray')\n",
    "m.drawmapboundary(fill_color='#eeeeee')\n",
    "\n",
    "# Plot the values in Starbucks Green and Dunkin Donuts Orange\n",
    "style = dict(s=1, marker='o', alpha=0.2, zorder=2)\n",
    "#m.scatter(sevenEleven.Longitude.values,\n",
    "#          sevenEleven.Latitude.values, latlon=True,\n",
    "#          label=\"sevenEleven\", color='red', **style)\n",
    "m.scatter(familyMart.Longitude.values,\n",
    "          familyMart.Latitude.values, latlon=True,\n",
    "          label=\"familyMart\", color='blue', **style)\n",
    "#m.scatter(lawson.Longitude.values,\n",
    "#          lawson.Latitude.values, latlon=True,\n",
    "#          label=\"lawson\", color='green', **style)\n",
    "plt.legend(loc='lower right', frameon=False);"
   ]
  },
  {
   "cell_type": "markdown",
   "metadata": {},
   "source": [
    "## Fast Food Nation\n",
    "\n",
    "Let's look at a different set of this data, via the \"amenity\" column.\n",
    "We can call the ``count()`` method to check how many rows of the data have ``amenity`` specified:"
   ]
  },
  {
   "cell_type": "code",
   "execution_count": 29,
   "metadata": {
    "collapsed": false
   },
   "outputs": [
    {
     "data": {
      "text/plain": [
       "757082"
      ]
     },
     "execution_count": 29,
     "metadata": {},
     "output_type": "execute_result"
    }
   ],
   "source": [
    "with_amenity.amenity.count()"
   ]
  },
  {
   "cell_type": "markdown",
   "metadata": {},
   "source": [
    "We see just over five million rows with an amenity label.\n",
    "With Pandas' ``value_counts()`` function, we can examine the most common of these labels in the dataset.\n",
    "Here the ``head()`` call triggers a computation:"
   ]
  },
  {
   "cell_type": "code",
   "execution_count": 30,
   "metadata": {
    "collapsed": false
   },
   "outputs": [
    {
     "data": {
      "text/plain": [
       "school              65773\n",
       "restaurant          65433\n",
       "place_of_worship    58351\n",
       "fuel                47487\n",
       "hospital            40687\n",
       "kindergarten        38507\n",
       "bank                33488\n",
       "post_office         28768\n",
       "cafe                27362\n",
       "parking             25229\n",
       "police              23834\n",
       "social_facility     23235\n",
       "pharmacy            21082\n",
       "fast_food           19864\n",
       "atm                 19604\n",
       "toilets             14784\n",
       "public_building     14201\n",
       "bench               11727\n",
       "drinking_water       9908\n",
       "dentist              8880\n",
       "dtype: int64"
      ]
     },
     "execution_count": 30,
     "metadata": {},
     "output_type": "execute_result"
    }
   ],
   "source": [
    "with_amenity.amenity.value_counts().head(20)"
   ]
  },
  {
   "cell_type": "code",
   "execution_count": 31,
   "metadata": {
    "collapsed": false
   },
   "outputs": [
    {
     "data": {
      "text/plain": [
       "マクドナルド           919\n",
       "McDonald's       778\n",
       "KFC              709\n",
       "松屋               489\n",
       "Jollibee         411\n",
       "すき家              397\n",
       "モスバーガー           349\n",
       "吉野家              335\n",
       "ケンタッキーフライドチキン    263\n",
       "Subway           227\n",
       "CoCo壱番屋          173\n",
       "Chowking         159\n",
       "dtype: int64"
      ]
     },
     "execution_count": 31,
     "metadata": {},
     "output_type": "execute_result"
    }
   ],
   "source": [
    "is_fastfood = with_amenity.amenity.str.contains('fast_food')\n",
    "fastfood = with_amenity[is_fastfood]\n",
    "fastfood.name.value_counts().head(12)"
   ]
  },
  {
   "cell_type": "code",
   "execution_count": 32,
   "metadata": {
    "collapsed": false
   },
   "outputs": [],
   "source": [
    "lat, lon = fastfood.Latitude, fastfood.Longitude"
   ]
  },
  {
   "cell_type": "code",
   "execution_count": 33,
   "metadata": {
    "collapsed": false
   },
   "outputs": [
    {
     "ename": "NameError",
     "evalue": "name 'draw_JPN' is not defined",
     "output_type": "error",
     "traceback": [
      "\u001b[0;31m---------------------------------------------------------------------------\u001b[0m",
      "\u001b[0;31mNameError\u001b[0m                                 Traceback (most recent call last)",
      "\u001b[0;32m<ipython-input-33-d91386c1c369>\u001b[0m in \u001b[0;36m<module>\u001b[0;34m()\u001b[0m\n\u001b[0;32m----> 1\u001b[0;31m \u001b[0mm\u001b[0m \u001b[0;34m=\u001b[0m \u001b[0mdraw_JPN\u001b[0m\u001b[0;34m(\u001b[0m\u001b[0;34m)\u001b[0m\u001b[0;34m\u001b[0m\u001b[0m\n\u001b[0m\u001b[1;32m      2\u001b[0m \u001b[0;34m\u001b[0m\u001b[0m\n\u001b[1;32m      3\u001b[0m \u001b[0;31m# Draw map background\u001b[0m\u001b[0;34m\u001b[0m\u001b[0;34m\u001b[0m\u001b[0m\n\u001b[1;32m      4\u001b[0m \u001b[0mm\u001b[0m\u001b[0;34m.\u001b[0m\u001b[0mfillcontinents\u001b[0m\u001b[0;34m(\u001b[0m\u001b[0mcolor\u001b[0m\u001b[0;34m=\u001b[0m\u001b[0;34m'white'\u001b[0m\u001b[0;34m,\u001b[0m \u001b[0mlake_color\u001b[0m\u001b[0;34m=\u001b[0m\u001b[0;34m'#eeeeee'\u001b[0m\u001b[0;34m)\u001b[0m\u001b[0;34m\u001b[0m\u001b[0m\n\u001b[1;32m      5\u001b[0m \u001b[0mm\u001b[0m\u001b[0;34m.\u001b[0m\u001b[0mdrawstates\u001b[0m\u001b[0;34m(\u001b[0m\u001b[0mcolor\u001b[0m\u001b[0;34m=\u001b[0m\u001b[0;34m'lightgray'\u001b[0m\u001b[0;34m)\u001b[0m\u001b[0;34m\u001b[0m\u001b[0m\n",
      "\u001b[0;31mNameError\u001b[0m: name 'draw_JPN' is not defined"
     ]
    }
   ],
   "source": [
    "m = draw_JPN()\n",
    "    \n",
    "# Draw map background\n",
    "m.fillcontinents(color='white', lake_color='#eeeeee')\n",
    "m.drawstates(color='lightgray')\n",
    "m.drawcoastlines(color='lightgray')\n",
    "m.drawcountries(color='lightgray')\n",
    "m.drawmapboundary(fill_color='#eeeeee')\n",
    "\n",
    "# Plot the values in Starbucks Green and Dunkin Donuts Orange\n",
    "style = dict(s=5, marker='o', alpha=0.5, zorder=2)\n",
    "m.scatter(lon, lat, size=10)"
   ]
  },
  {
   "cell_type": "code",
   "execution_count": null,
   "metadata": {
    "collapsed": false
   },
   "outputs": [],
   "source": [
    "m = draw_JPN()\n",
    "    \n",
    "m.drawmapboundary(fill_color='#ffffff', linewidth=0)\n",
    "m.fillcontinents(color=\"#fcfcfc\", lake_color='#ffffff', zorder=1)\n",
    "\n",
    "m.scatter(lon.values, lat.values, latlon=True,\n",
    "          s=1, marker='o', alpha=0.1, zorder=2);"
   ]
  },
  {
   "cell_type": "markdown",
   "metadata": {},
   "source": [
    "Here I've purposely left-out the geographical borders; we see that with fast food locations alone, we can see the major cities, and even trace-out some of the major interstate routes!\n",
    "I suspect that, like above, this data is far from complete, especially in more rural areas.\n",
    "I would love to see how a *full* fast-food-nation map would look, but after poking around it seems that most available data on that is proprietary (though FlowingData has an [interesting visualization](http://flowingdata.com/2014/06/24/burger-place-geography/) in the same spirit)."
   ]
  },
  {
   "cell_type": "markdown",
   "metadata": {},
   "source": [
    "## Pubs of the British Isles\n",
    "\n",
    "Let's take a look at one last example, reproducing a [post](http://ramiro.org/notebook/mapping-pubs/?imm_mid=0d697c&cmp=em-data-na-na-newsltr_20150812) by Ramiro Gomez, a developer in Berlin whose website is definitely worth clicking around for a bit.\n",
    "Here we will extract all the pub locations from the dataset, and use them to visualize a small island nation with an astounding density of these establishments.\n",
    "\n",
    "We'll start by filtering the amenities for the word \"pub\" (being careful to use regular expressions which mark word boundaries, so that we don't match things like \"public toilet\"):"
   ]
  },
  {
   "cell_type": "code",
   "execution_count": null,
   "metadata": {
    "collapsed": false
   },
   "outputs": [],
   "source": [
    "is_pub = with_amenity.amenity.str.contains(r'\\bpub\\b')\n",
    "pubs = with_amenity[is_pub]\n",
    "pubs.amenity.count().compute()"
   ]
  },
  {
   "cell_type": "markdown",
   "metadata": {},
   "source": [
    "We have about 95,000 world-wide points of interest with \"pub\" in the label.\n",
    "\n",
    "Next, as above, we can extract the longitude and latitude arrays from our data:"
   ]
  },
  {
   "cell_type": "code",
   "execution_count": null,
   "metadata": {
    "collapsed": false
   },
   "outputs": [],
   "source": [
    "lon, lat = dd.compute(pubs.Longitude, pubs.Latitude)"
   ]
  },
  {
   "cell_type": "markdown",
   "metadata": {},
   "source": [
    "Finally, with a few lines of Basemap code, we can visualize the results:"
   ]
  },
  {
   "cell_type": "code",
   "execution_count": null,
   "metadata": {
    "collapsed": false
   },
   "outputs": [],
   "source": [
    "fig, ax = plt.subplots(figsize=(10, 15))\n",
    "m = Basemap(projection='mill',\n",
    "            lon_0=-5.23636, lat_0=53.866772,\n",
    "            llcrnrlon=-10.65073, llcrnrlat=49.16209,\n",
    "            urcrnrlon=1.76334, urcrnrlat=60.860699)\n",
    "m.drawmapboundary(fill_color='#ffffff', linewidth=.0)\n",
    "x, y = m(lon.values, lat.values)\n",
    "m.scatter(x, y, s=1, marker=',', color=\"steelblue\", alpha=0.8);"
   ]
  },
  {
   "cell_type": "markdown",
   "metadata": {},
   "source": [
    "The pub locations alone are enough to make out most of the borders and contours of the islands!"
   ]
  },
  {
   "cell_type": "markdown",
   "metadata": {},
   "source": [
    "---"
   ]
  },
  {
   "cell_type": "markdown",
   "metadata": {},
   "source": [
    "The above visualizations are fun, but have merely scraped the surface of what can be done with this data – what interesting geographical visualizations can you come up with using these data and tools?\n",
    "\n",
    "Thanks for reading!"
   ]
  },
  {
   "cell_type": "markdown",
   "metadata": {},
   "source": [
    "<small>\n",
    "This post was written entirely in the IPython notebook.  You can [download](http://jakevdp.github.io/downloads/notebooks/OutOfCoreMapping.ipynb) this notebook, or see a static view on [nbviewer](http://nbviewer.ipython.org/url/jakevdp.github.io/downloads/notebooks/OutOfCoreMapping.ipynb).\n",
    "</small>"
   ]
  }
 ],
 "metadata": {
  "kernelspec": {
   "display_name": "Python 2",
   "language": "python",
   "name": "python2"
  },
  "language_info": {
   "codemirror_mode": {
    "name": "ipython",
    "version": 2
   },
   "file_extension": ".py",
   "mimetype": "text/x-python",
   "name": "python",
   "nbconvert_exporter": "python",
   "pygments_lexer": "ipython2",
   "version": "2.7.9"
  }
 },
 "nbformat": 4,
 "nbformat_minor": 0
}
