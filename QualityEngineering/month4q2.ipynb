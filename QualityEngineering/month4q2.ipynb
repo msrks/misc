{
 "cells": [
  {
   "cell_type": "code",
   "execution_count": 1,
   "metadata": {
    "collapsed": false,
    "scrolled": true
   },
   "outputs": [
    {
     "name": "stdout",
     "output_type": "stream",
     "text": [
      "Populating the interactive namespace from numpy and matplotlib\n"
     ]
    }
   ],
   "source": [
    "%pylab inline\n",
    "import pandas as pd\n",
    "pd.set_option('display.precision', 4)"
   ]
  },
  {
   "cell_type": "code",
   "execution_count": 2,
   "metadata": {
    "collapsed": true
   },
   "outputs": [],
   "source": [
    "def plotEffect(df,margin=0.5):\n",
    "    fig,axes = plt.subplots(1,df.index.size,sharey=True)\n",
    "    fig.set_size_inches(df.index.size*1.5,2)\n",
    "    for i in arange(df.index.size):\n",
    "        ax = axes[i]\n",
    "        ax.plot(df.columns,df.ix[i,:],'o-')\n",
    "        ax.set_xlim(0.7,3.3)\n",
    "        ax.set_ylim(df.min().min()-margin,df.max().max()+margin)\n",
    "        ax.set_title(df.index[i])\n",
    "        ax.set_xticks([1,2,3])\n",
    "    print \"\\n効果図\"\n",
    "    plt.tight_layout()\n",
    "    plt.show()"
   ]
  },
  {
   "cell_type": "code",
   "execution_count": 17,
   "metadata": {
    "collapsed": true
   },
   "outputs": [],
   "source": [
    "# 静特性および、望目特性の2乗和分解\n",
    "def staticProp(A,M=1,ve=False,calcSN=False):\n",
    "    # Degree of Freedom\n",
    "    Ft = A.size\n",
    "    Fm = 1\n",
    "    Fe = Ft - Fm\n",
    "    # Squared Sum\n",
    "    St = np.dot(A,A)\n",
    "    Sm = (A.mean()**2)*A.size # Sm = m*n\n",
    "    Se = St - Sm\n",
    "    # Variance\n",
    "    Vm = Sm/Fm\n",
    "    Ve = Se/Fe\n",
    "    # Contribution\n",
    "    Pm = (Sm-Ve)/St *1.\n",
    "    Pe = (Se+Ve)/St *1.\n",
    "    Pt = Pm+Pe\n",
    "    \n",
    "    # 品質水準計算のためにVeを返す\n",
    "    if ve==True:\n",
    "        return Ve\n",
    "    \n",
    "    # calcSNratio[db]\n",
    "    if calcSN==True:\n",
    "        eta = ((Sm-Ve)/A.size/M/M)/Ve #eq(8.3)\n",
    "        return 10*np.log10(eta)\n",
    "    \n",
    "    # 有意な偏りmがあるか判定\n",
    "    if Vm>Ve:\n",
    "        data = {'F': [Fm,Fe,Ft], 'S':[Sm,Se,St], 'V':[Vm,Ve,nan], 'rho':[Pm,Pe,Pt]}\n",
    "        df = pd.DataFrame(data=data, index=[\"m\",\"e\",\"T\"])\n",
    "        print df\n",
    "    else:\n",
    "        data = {'F': [Fm,Fe,Ft,Ft], 'S':[Sm,Se,St,St], 'V':[Vm,Ve,nan,St/Ft], 'rho':[Pm,Pe,Pt,Pt]}\n",
    "        df = pd.DataFrame(data=data, index=[\"m\",\"e\",\"T\",\"(e)\"])\n",
    "        print df\n",
    "        print\n",
    "        print \"Vm < Ve より、m を e にプールした\""
   ]
  },
  {
   "cell_type": "code",
   "execution_count": 4,
   "metadata": {
    "collapsed": true
   },
   "outputs": [],
   "source": [
    "# 動特性の２乗和分解\n",
    "def dynamicProp(M,A, calcSN=False, calcS=False, calcB=False, calcStandardSN=False):\n",
    "    # Degree of Freedom\n",
    "    Ft = len(A.index)*len(A.columns)\n",
    "    Fb = 1\n",
    "    Fnb = len(A.index) - 1\n",
    "    Fe = Ft - Fb - Fnb\n",
    "    Fn = Fnb + Fe\n",
    "    # Squared Sum\n",
    "    St = (A*A).sum().sum() #eq(4.7)\n",
    "    L = np.asarray(A).dot(M) # A[3,3]とM[3,1]の行列積[3,1]\n",
    "    r = (M*M).sum()\n",
    "    Sb = (L.sum())**2/len(A.index)/r #eq(4.8)\n",
    "    Snb = (L*L).sum()/r - Sb #eq(4.9)\n",
    "    Se = St - Sb - Snb\n",
    "    Sn = Snb + Se\n",
    "    # Variance\n",
    "    Vb = Sb/Fb\n",
    "    Vnb = Snb/Fnb\n",
    "    Ve = Se/Fe\n",
    "    Vn = Sn/Fn\n",
    "    \n",
    "    # calcSNratio[db]\n",
    "    if calcSN==True:\n",
    "        eta = (1./len(A.index)/r*(Sb-Ve))/Vn #eq(4.15)\n",
    "        return 10*np.log10(eta)\n",
    "    \n",
    "    # calc Standard SN ratio[db]\n",
    "    if calcStandardSN==True:\n",
    "        eta = (Sb-Ve)/Vn #eq(7.8)\n",
    "        return 10*np.log10(eta)\n",
    "    \n",
    "    # calcS[db]\n",
    "    if calcS==True:\n",
    "        S = (1./len(A.index)/r*(Sb-Ve))\n",
    "        return 10*np.log10(S)\n",
    "    \n",
    "    # calcB\n",
    "    if calcB==True:\n",
    "        beta = L.mean()/r\n",
    "        return beta\n",
    "    \n",
    "    # PrintTable\n",
    "    data = {'F': [Fb,Fnb,Fe,Fn,Ft], 'S':[Sb,Snb,Se,Sn,St], 'V':[Vb,Vnb,Ve,Vn,nan]}\n",
    "    df = pd.DataFrame(data=data, index=[\"b\",\"N*b\",\"e\",\"(N)\",\"T\"])\n",
    "    print df"
   ]
  },
  {
   "cell_type": "markdown",
   "metadata": {},
   "source": [
    "## 4ヶ月目 - 問2\n",
    ">次のような簡単な交流回路において抵抗Rと自己インダクタンスLの交流回路の出力電流yは、次式で与えられ、その単位はアンペア(A)である。\n",
    "$$y=\\frac{V}{\\sqrt{R^2+(2\\pi{fL})^2}}$$\n",
    "制御因子はR、Lのに因子、誤差因子は、制御因子の中心値からのばらつきと入力交流電圧Vおよび入力周波数fの4因子を調合する。<br>\n",
    "以下に制御因子と誤差因子の調合条件を示す。"
   ]
  },
  {
   "cell_type": "markdown",
   "metadata": {},
   "source": [
    "###1) 制御因子をテキスト注5.1に示された直交表$L_9$の1列~2列にわりつけたとき、<br>No.1について出力yの計算値を得るための計算条件を示し、$N_1, N_2$のyの計算値(小数2位まで）を求めよ。"
   ]
  },
  {
   "cell_type": "code",
   "execution_count": 5,
   "metadata": {
    "collapsed": false
   },
   "outputs": [
    {
     "name": "stdout",
     "output_type": "stream",
     "text": [
      "\n",
      "標準SN比の水準別合計\n",
      "          R      L    V   f    計算値y\n",
      "対応列　    1.0  2.000  NaN NaN     NaN\n",
      "水準番号    1.0  1.000  NaN NaN     NaN\n",
      "中心値　    5.0  0.010  NaN NaN     NaN\n",
      "N1の水準値  5.5  0.011   90  60  13.066\n",
      "N2の水準値  4.5  0.009  110  50  20.698\n"
     ]
    }
   ],
   "source": [
    "r_1,r_2,r_3 = 5,10,15\n",
    "l_1,l_2,l_3 = 0.01,0.02,0.03\n",
    "r11,r12 = r_1*1.1,r_1*0.9 \n",
    "l11,l12 = l_1*1.1,l_1*0.9\n",
    "v1,v2 = 90,110\n",
    "f1,f2 = 60,50\n",
    "y11 = v1/((r11**2+(2*np.pi*f1*l11)**2)**0.5)\n",
    "y12 = v2/((r12**2+(2*np.pi*f2*l12)**2)**0.5)\n",
    "calcCondition = pd.DataFrame([[1,2,nan,nan,nan],\n",
    "                              [1,1,nan,nan,nan],\n",
    "                              [r_1,l_1,nan,nan,nan],\n",
    "                              [r11,l11,v1,f1,y11],\n",
    "                              [r12,l12,v2,f2,y12]],\n",
    "                             index=[\"対応列　\",\"水準番号\",\"中心値　\",\"N1の水準値\",\"N2の水準値\"],\n",
    "                             columns=[\"R\",\"L\",\"V\",\"f\",\"計算値y\"])\n",
    "print \"\\n標準SN比の水準別合計\\n\",calcCondition"
   ]
  },
  {
   "cell_type": "markdown",
   "metadata": {},
   "source": [
    "###2) $L_9$のSN比(db)と感度S(db)は次表のようである。前問の結果があっていることを確認し、最適条件と初期条件$R_2L_2$のSN比と感度Sを推定せよ。"
   ]
  },
  {
   "cell_type": "markdown",
   "metadata": {},
   "source": [
    "(1)の結果よりSN比を求める。"
   ]
  },
  {
   "cell_type": "code",
   "execution_count": 6,
   "metadata": {
    "collapsed": false
   },
   "outputs": [
    {
     "name": "stdout",
     "output_type": "stream",
     "text": [
      "   F        S        V    rho\n",
      "m  1  569.997  569.997  0.903\n",
      "e  1   29.124   29.124  0.097\n",
      "T  2  599.121      NaN  1.000\n"
     ]
    },
    {
     "data": {
      "text/plain": [
       "9.6781596920740629"
      ]
     },
     "execution_count": 6,
     "metadata": {},
     "output_type": "execute_result"
    }
   ],
   "source": [
    "staticProp(np.array([y11,y12]))\n",
    "staticProp(np.array([y11,y12]),calcSN=True)"
   ]
  },
  {
   "cell_type": "markdown",
   "metadata": {},
   "source": [
    ">なぜか合わないんですが・・"
   ]
  },
  {
   "cell_type": "markdown",
   "metadata": {},
   "source": [
    "####気をとりなおして、最適条件と初期条件のSN比と感度Sを求める。"
   ]
  },
  {
   "cell_type": "code",
   "execution_count": 7,
   "metadata": {
    "collapsed": false
   },
   "outputs": [
    {
     "name": "stdout",
     "output_type": "stream",
     "text": [
      "\n",
      "L9によるわりつけとSN比と感度\n",
      "   R  L  e1  e2    SN     S\n",
      "1  1  1   1   1   7.6  29.2\n",
      "2  1  2   2   2   7.6  23.2\n",
      "3  1  3   3   3   7.6  19.7\n",
      "4  2  1   2   3   9.7  24.3\n",
      "5  2  2   3   1   8.6  21.4\n",
      "6  2  3   1   2   8.1  18.8\n",
      "7  3  1   3   2  10.4  19.9\n",
      "8  3  2   1   3   9.6  18.6\n",
      "9  3  3   2   1   8.9  17.0\n"
     ]
    }
   ],
   "source": [
    "L9 = pd.DataFrame([[1,1,1,1,7.6,29.2],\n",
    "                    [1,2,2,2,7.6,23.2],\n",
    "                    [1,3,3,3,7.6,19.7],\n",
    "                    [2,1,2,3,9.7,24.3],\n",
    "                    [2,2,3,1,8.6,21.4],\n",
    "                    [2,3,1,2,8.1,18.8],\n",
    "                    [3,1,3,2,10.4,19.9],\n",
    "                    [3,2,1,3,9.6,18.6],\n",
    "                    [3,3,2,1,8.9,17.0]],\n",
    "                    index=list(\"123456789\"),\n",
    "                    columns=[\"R\",\"L\",\"e1\",\"e2\",\"SN\",\"S\"])\n",
    "print \"\\nL9によるわりつけとSN比と感度\\n\",L9"
   ]
  },
  {
   "cell_type": "code",
   "execution_count": 8,
   "metadata": {
    "collapsed": false,
    "scrolled": true
   },
   "outputs": [
    {
     "name": "stdout",
     "output_type": "stream",
     "text": [
      "\n",
      "SN比の水準別平均\n",
      "        1      2      3\n",
      "R   7.600  8.800  9.633\n",
      "L   9.233  8.600  8.200\n",
      "e1  8.433  8.733  8.867\n",
      "e2  8.367  8.700  8.967\n",
      "\n",
      "効果図\n"
     ]
    },
    {
     "data": {
      "image/png": "[encoded data removed]",
      "text/plain": [
       "<matplotlib.figure.Figure at 0x1134eafd0>"
      ]
     },
     "metadata": {},
     "output_type": "display_data"
    }
   ],
   "source": [
    "SNave = pd.DataFrame([[L9[L9[\"R\"]==1][\"SN\"].mean(), L9[L9[\"R\"]==2][\"SN\"].mean(), L9[L9[\"R\"]==3][\"SN\"].mean()],\n",
    "                        [L9[L9[\"L\"]==1][\"SN\"].mean(), L9[L9[\"L\"]==2][\"SN\"].mean(), L9[L9[\"L\"]==3][\"SN\"].mean()],\n",
    "                        [L9[L9[\"e1\"]==1][\"SN\"].mean(),L9[L9[\"e1\"]==2][\"SN\"].mean(),L9[L9[\"e1\"]==3][\"SN\"].mean()],\n",
    "                        [L9[L9[\"e2\"]==1][\"SN\"].mean(),L9[L9[\"e2\"]==2][\"SN\"].mean(),L9[L9[\"e2\"]==3][\"SN\"].mean()]],\n",
    "                        index=[\"R\",\"L\",\"e1\",\"e2\"],\n",
    "                        columns=[\"1\",\"2\",\"3\"])\n",
    "print \"\\nSN比の水準別平均\\n\",SNave\n",
    "plotEffect(SNave)"
   ]
  },
  {
   "cell_type": "code",
   "execution_count": 9,
   "metadata": {
    "collapsed": false
   },
   "outputs": [
    {
     "name": "stdout",
     "output_type": "stream",
     "text": [
      "\n",
      "感度Sの水準別平均\n",
      "         1       2       3\n",
      "R   24.033  21.500  18.500\n",
      "L   24.467  21.067  18.500\n",
      "e1  22.200  21.500  20.333\n",
      "e2  22.533  20.633  20.867\n",
      "\n",
      "効果図\n"
     ]
    },
    {
     "data": {
      "image/png": "[encoded data removed]",
      "text/plain": [
       "<matplotlib.figure.Figure at 0x11370ab90>"
      ]
     },
     "metadata": {},
     "output_type": "display_data"
    }
   ],
   "source": [
    "Save = pd.DataFrame([[L9[L9[\"R\"]==1][\"S\"].mean(), L9[L9[\"R\"]==2][\"S\"].mean(), L9[L9[\"R\"]==3][\"S\"].mean()],\n",
    "                        [L9[L9[\"L\"]==1][\"S\"].mean(), L9[L9[\"L\"]==2][\"S\"].mean(), L9[L9[\"L\"]==3][\"S\"].mean()],\n",
    "                        [L9[L9[\"e1\"]==1][\"S\"].mean(),L9[L9[\"e1\"]==2][\"S\"].mean(),L9[L9[\"e1\"]==3][\"S\"].mean()],\n",
    "                        [L9[L9[\"e2\"]==1][\"S\"].mean(),L9[L9[\"e2\"]==2][\"S\"].mean(),L9[L9[\"e2\"]==3][\"S\"].mean()]],\n",
    "                        index=[\"R\",\"L\",\"e1\",\"e2\"],\n",
    "                        columns=[\"1\",\"2\",\"3\"])\n",
    "print \"\\n感度Sの水準別平均\\n\",Save\n",
    "plotEffect(Save)"
   ]
  },
  {
   "cell_type": "markdown",
   "metadata": {},
   "source": [
    "SN比の効果図より、最適条件はR3L1。（初期条件はR2L2)"
   ]
  },
  {
   "cell_type": "code",
   "execution_count": 10,
   "metadata": {
    "collapsed": false
   },
   "outputs": [
    {
     "name": "stdout",
     "output_type": "stream",
     "text": [
      "最適条件のSN比は、10.2(db)\n",
      "現行条件のSN比は、8.7(db)\n"
     ]
    }
   ],
   "source": [
    "ave = SNave.sum(1)[0]/3\n",
    "eta_opt = SNave.ix[\"R\",\"3\"]+SNave.ix[\"L\",\"1\"]-ave\n",
    "eta_ini = SNave.ix[\"R\",\"2\"]+SNave.ix[\"L\",\"2\"]-ave\n",
    "print \"最適条件のSN比は、%.1f(db)\"%eta_opt\n",
    "print \"現行条件のSN比は、%.1f(db)\"%eta_ini"
   ]
  },
  {
   "cell_type": "code",
   "execution_count": 11,
   "metadata": {
    "collapsed": false
   },
   "outputs": [
    {
     "name": "stdout",
     "output_type": "stream",
     "text": [
      "最適条件の感度Sは、21.6(db)。\n",
      "現行条件の感度Sは、21.2(db)。\n"
     ]
    }
   ],
   "source": [
    "ave = Save.sum(1)[0]/3\n",
    "s_opt = Save.ix[\"R\",\"3\"]+Save.ix[\"L\",\"1\"]-ave\n",
    "s_ini = Save.ix[\"R\",\"2\"]+Save.ix[\"L\",\"2\"]-ave\n",
    "print \"最適条件の感度Sは、%.1f(db)。\"%s_opt\n",
    "print \"現行条件の感度Sは、%.1f(db)。\"%s_ini"
   ]
  },
  {
   "cell_type": "markdown",
   "metadata": {},
   "source": [
    "###3) 出力の目標値が10Aであるとき、どのような条件がよいかを検討し、<br>そのチューニング条件のSN比と感度Sを推定せよ。"
   ]
  },
  {
   "cell_type": "markdown",
   "metadata": {},
   "source": [
    "最適条件R3L1における出力電流yは、"
   ]
  },
  {
   "cell_type": "code",
   "execution_count": 12,
   "metadata": {
    "collapsed": false
   },
   "outputs": [
    {
     "name": "stdout",
     "output_type": "stream",
     "text": [
      "6.82(A)\n"
     ]
    }
   ],
   "source": [
    "r_1,r_2,r_3 = 5,10,15\n",
    "l_1,l_2,l_3 = 0.01,0.02,0.03\n",
    "v1,v2 = 90,110\n",
    "f1,f2 = 60,50\n",
    "print \"%.2f(A)\"%(105/((r_3**2+(2*np.pi*55*l_1)**2)**0.5))"
   ]
  },
  {
   "cell_type": "markdown",
   "metadata": {},
   "source": [
    "目標値10Aであるから、感度が足りてない。<br>\n",
    "最適条件ではLは下図よりもっとも高感度の水準に設定されているので、<br>\n",
    "Rを調整して感度をあげるしかない。<br><br>\n",
    "たとえばR2L1における出力電流を計算してやると、"
   ]
  },
  {
   "cell_type": "code",
   "execution_count": 13,
   "metadata": {
    "collapsed": false
   },
   "outputs": [
    {
     "name": "stdout",
     "output_type": "stream",
     "text": [
      "9.92(A)\n"
     ]
    }
   ],
   "source": [
    "r_1,r_2,r_3 = 5,10,15\n",
    "l_1,l_2,l_3 = 0.01,0.02,0.03\n",
    "v1,v2 = 90,110\n",
    "f1,f2 = 60,50\n",
    "print \"%.2f(A)\"%(105/((r_2**2+(2*np.pi*55*l_1)**2)**0.5))"
   ]
  },
  {
   "cell_type": "markdown",
   "metadata": {},
   "source": [
    "これはほぼ目標通りの値である。<br>\n",
    "したがって、目標出力電流にチューニングした最適条件はR2L1である。<br>\n",
    "このとき、SN比と感度Sは、"
   ]
  },
  {
   "cell_type": "code",
   "execution_count": 14,
   "metadata": {
    "collapsed": false
   },
   "outputs": [
    {
     "name": "stdout",
     "output_type": "stream",
     "text": [
      "チューニング条件のSN比は、9.4(db)\n",
      "チューニング条件の感度Sは、24.6(db)。\n"
     ]
    }
   ],
   "source": [
    "ave = SNave.sum(1)[0]/3\n",
    "eta_tune = SNave.ix[\"R\",\"2\"]+SNave.ix[\"L\",\"1\"]-ave\n",
    "ave = Save.sum(1)[0]/3\n",
    "s_tune = Save.ix[\"R\",\"2\"]+Save.ix[\"L\",\"1\"]-ave\n",
    "print \"チューニング条件のSN比は、%.1f(db)\"%eta_tune\n",
    "print \"チューニング条件の感度Sは、%.1f(db)。\"%s_tune"
   ]
  },
  {
   "cell_type": "markdown",
   "metadata": {},
   "source": [
    "参考のため効果図を下に再掲する。"
   ]
  },
  {
   "cell_type": "code",
   "execution_count": 15,
   "metadata": {
    "collapsed": false
   },
   "outputs": [
    {
     "name": "stdout",
     "output_type": "stream",
     "text": [
      "\n",
      "SN比(db)の\n",
      "\n",
      "効果図\n"
     ]
    },
    {
     "data": {
      "image/png": "[encoded data removed]",
      "text/plain": [
       "<matplotlib.figure.Figure at 0x11348ab10>"
      ]
     },
     "metadata": {},
     "output_type": "display_data"
    },
    {
     "name": "stdout",
     "output_type": "stream",
     "text": [
      "\n",
      "感度S(db)の\n",
      "\n",
      "効果図\n"
     ]
    },
    {
     "data": {
      "image/png": "[encoded data removed]",
      "text/plain": [
       "<matplotlib.figure.Figure at 0x1135b5210>"
      ]
     },
     "metadata": {},
     "output_type": "display_data"
    }
   ],
   "source": [
    "print \"\\nSN比(db)の\"\n",
    "plotEffect(SNave)\n",
    "print \"\\n感度S(db)の\"\n",
    "plotEffect(Save)"
   ]
  },
  {
   "cell_type": "code",
   "execution_count": 16,
   "metadata": {
    "collapsed": false
   },
   "outputs": [
    {
     "data": {
      "application/json": {
       "Software versions": [
        {
         "module": "Python",
         "version": "2.7.9 64bit [GCC 4.2.1 Compatible Apple LLVM 6.0 (clang-600.0.56)]"
        },
        {
         "module": "IPython",
         "version": "3.0.0-dev"
        },
        {
         "module": "OS",
         "version": "Darwin 14.4.0 x86_64 i386 64bit"
        },
        {
         "module": "numpy",
         "version": "1.10.0.dev+a02f5c8"
        },
        {
         "module": "matplotlib",
         "version": "1.4.2"
        },
        {
         "module": "pandas",
         "version": "0.16.0"
        },
        {
         "module": "ipython",
         "version": "3.0.0.dev0"
        },
        {
         "module": "version_information",
         "version": "1.0.3"
        }
       ]
      },
      "text/html": [
       "<table><tr><th>Software</th><th>Version</th></tr><tr><td>Python</td><td>2.7.9 64bit [GCC 4.2.1 Compatible Apple LLVM 6.0 (clang-600.0.56)]</td></tr><tr><td>IPython</td><td>3.0.0-dev</td></tr><tr><td>OS</td><td>Darwin 14.4.0 x86_64 i386 64bit</td></tr><tr><td>numpy</td><td>1.10.0.dev+a02f5c8</td></tr><tr><td>matplotlib</td><td>1.4.2</td></tr><tr><td>pandas</td><td>0.16.0</td></tr><tr><td>ipython</td><td>3.0.0.dev0</td></tr><tr><td>version_information</td><td>1.0.3</td></tr><tr><td colspan='2'>Sun Jul 26 16:20:27 2015 JST</td></tr></table>"
      ],
      "text/latex": [
       "\\begin{tabular}{|l|l|}\\hline\n",
       "{\\bf Software} & {\\bf Version} \\\\ \\hline\\hline\n",
       "Python & 2.7.9 64bit [GCC 4.2.1 Compatible Apple LLVM 6.0 (clang-600.0.56)] \\\\ \\hline\n",
       "IPython & 3.0.0-dev \\\\ \\hline\n",
       "OS & Darwin 14.4.0 x86\\_64 i386 64bit \\\\ \\hline\n",
       "numpy & 1.10.0.dev+a02f5c8 \\\\ \\hline\n",
       "matplotlib & 1.4.2 \\\\ \\hline\n",
       "pandas & 0.16.0 \\\\ \\hline\n",
       "ipython & 3.0.0.dev0 \\\\ \\hline\n",
       "version_information & 1.0.3 \\\\ \\hline\n",
       "\\hline \\multicolumn{2}{|l|}{Sun Jul 26 16:20:27 2015 JST} \\\\ \\hline\n",
       "\\end{tabular}\n"
      ],
      "text/plain": [
       "Software versions\n",
       "Python 2.7.9 64bit [GCC 4.2.1 Compatible Apple LLVM 6.0 (clang-600.0.56)]\n",
       "IPython 3.0.0-dev\n",
       "OS Darwin 14.4.0 x86_64 i386 64bit\n",
       "numpy 1.10.0.dev+a02f5c8\n",
       "matplotlib 1.4.2\n",
       "pandas 0.16.0\n",
       "ipython 3.0.0.dev0\n",
       "version_information 1.0.3\n",
       "Sun Jul 26 16:20:27 2015 JST"
      ]
     },
     "execution_count": 16,
     "metadata": {},
     "output_type": "execute_result"
    }
   ],
   "source": [
    "%load_ext version_information\n",
    "%version_information numpy, matplotlib, pandas, ipython, version_information"
   ]
  }
 ],
 "metadata": {
  "kernelspec": {
   "display_name": "Python 2",
   "language": "python",
   "name": "python2"
  },
  "language_info": {
   "codemirror_mode": {
    "name": "ipython",
    "version": 2
   },
   "file_extension": ".py",
   "mimetype": "text/x-python",
   "name": "python",
   "nbconvert_exporter": "python",
   "pygments_lexer": "ipython2",
   "version": "2.7.9"
  }
 },
 "nbformat": 4,
 "nbformat_minor": 0
}
