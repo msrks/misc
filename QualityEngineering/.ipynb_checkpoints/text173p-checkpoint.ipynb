{
 "cells": [
  {
   "cell_type": "code",
   "execution_count": 3,
   "metadata": {
    "collapsed": false,
    "scrolled": true
   },
   "outputs": [
    {
     "name": "stdout",
     "output_type": "stream",
     "text": [
      "Using matplotlib backend: MacOSX\n",
      "Populating the interactive namespace from numpy and matplotlib\n"
     ]
    }
   ],
   "source": [
    "%pylab"
   ]
  },
  {
   "cell_type": "code",
   "execution_count": 4,
   "metadata": {
    "collapsed": true
   },
   "outputs": [],
   "source": [
    "# eq(10.8)\n",
    "def calcL0(A,delta,B,C,n0,u0,D0,l,rho_m):\n",
    "    L0 = B/n0 + C/u0 + A/(delta**2)*((D0**2)/3+((n0+1)/2+l)*(D0**2)/u0+(rho_m**2))\n",
    "    return L0\n",
    "# eq(10.9)\n",
    "def calcN(A,delta,B,u0,D0):\n",
    "    n = np.sqrt(2*u0*B/A)*delta/D0\n",
    "    return n\n",
    "# eq(10.10)\n",
    "def calcD(A,delta,C,u0,D0):\n",
    "    D = (3*C/A*D0*D0/u0*delta*delta)**0.25\n",
    "    return D\n",
    "# eq(10.11)\n",
    "def calcU(u0,D,D0):\n",
    "    u = u0*((D/D0)**2)\n",
    "    return u\n",
    "# eq(10.12)\n",
    "def calcL(A,delta,B,C,n,u,D,l,rho_m):\n",
    "    L = B/n + C/u + A/(delta**2)*((D**2)/3+((n+1)/2+l)*(D**2)/u+(rho_m**2))\n",
    "    return L\n",
    "# eq(10.13)\n",
    "def calcCp(delta,D,n,l,u,rho_m):\n",
    "    Cp = 2*delta/6/np.sqrt((D**2)/3+((n+1)/2+l)*(D**2)/u+(rho_m**2))\n",
    "    return Cp"
   ]
  },
  {
   "cell_type": "markdown",
   "metadata": {},
   "source": [
    "## 教科書 10.3.3"
   ]
  },
  {
   "cell_type": "markdown",
   "metadata": {},
   "source": [
    "テキストの式eq(10.8)~eq(10.13)に次のパラメータを代入して計算"
   ]
  },
  {
   "cell_type": "code",
   "execution_count": 5,
   "metadata": {
    "collapsed": true
   },
   "outputs": [],
   "source": [
    "A = 900.\n",
    "delta = 30.\n",
    "B = 120.\n",
    "C = 1200.\n",
    "n0 = 75.\n",
    "u0 = 300.\n",
    "D0 = 10.\n",
    "l = 5.\n",
    "rho_m = 0. # 計測誤差は、最適システムでも変わらないので比較においては無視する"
   ]
  },
  {
   "cell_type": "markdown",
   "metadata": {},
   "source": [
    "####年間利益"
   ]
  },
  {
   "cell_type": "code",
   "execution_count": 8,
   "metadata": {
    "collapsed": false
   },
   "outputs": [
    {
     "name": "stdout",
     "output_type": "stream",
     "text": [
      "現行での損失は、53.3(円/個)\n",
      "最適フィードバック制御システム\n",
      "- 最適計測間隔:26個\n",
      "- 最適調整限界:5um\n",
      "- 最適化後の平均調整間隔の予測値:103個\n",
      "における損失は、33.9(円/個)\n",
      "\n",
      "最適システムによる利益は、19.4(円/個)\n",
      "年間生産量は、252000(個)\n",
      "したがって、最適システムでは年間4887552(円)の利益になる\n",
      "したがって、最適システムでは年間489(万円)の利益になる\n",
      "\n"
     ]
    }
   ],
   "source": [
    "L0 = calcL0(A,delta,B,C,n0,u0,D0,l,rho_m)\n",
    "n = calcN(A,delta,B,u0,D0)\n",
    "D = calcD(A,delta,C,u0,D0)\n",
    "u = calcU(u0,D,D0)\n",
    "L = calcL(A,delta,B,C,n,u,D,l,rho_m)\n",
    "print \"現行での損失は、%.1f(円/個)\"%L0\n",
    "print \"最適フィードバック制御システム\"\n",
    "print \"- 最適計測間隔:%d個\"%n\n",
    "print \"- 最適調整限界:%dum\"%D\n",
    "print \"- 最適化後の平均調整間隔の予測値:%d個\"%u\n",
    "print \"における損失は、%.1f(円/個)\\n\"%L\n",
    "\n",
    "print \"最適システムによる利益は、%.1f(円/個)\"%(L0-L)\n",
    "print \"年間生産量は、%d(個)\"%(150*1680)\n",
    "print \"したがって、最適システムでは年間%d(円)の利益になる\"%((L0-L)*(150*1680))\n",
    "print \"したがって、最適システムでは年間%d(万円)の利益になる\\n\"%(((L0-L)*(150*1680))/10000.+1)#float2intの調整"
   ]
  },
  {
   "cell_type": "markdown",
   "metadata": {},
   "source": [
    "###2) 現行システムと最適システムの工程能力指数を求めよ。"
   ]
  },
  {
   "cell_type": "code",
   "execution_count": 9,
   "metadata": {
    "collapsed": false
   },
   "outputs": [
    {
     "name": "stdout",
     "output_type": "stream",
     "text": [
      "現行システムの工程能力指数は、1.45\n",
      "最適システムの工程能力指数は、2.37\n"
     ]
    }
   ],
   "source": [
    "print \"現行システムの工程能力指数は、%.2f\"%calcCp(delta,D0,n0,l,u0,rho_m)\n",
    "print \"最適システムの工程能力指数は、%.2f\"%calcCp(delta,D ,n ,l,u ,rho_m)"
   ]
  },
  {
   "cell_type": "code",
   "execution_count": 6,
   "metadata": {
    "collapsed": false
   },
   "outputs": [
    {
     "data": {
      "application/json": {
       "Software versions": [
        {
         "module": "Python",
         "version": "2.7.9 64bit [GCC 4.2.1 Compatible Apple LLVM 6.0 (clang-600.0.56)]"
        },
        {
         "module": "IPython",
         "version": "3.0.0-dev"
        },
        {
         "module": "OS",
         "version": "Darwin 14.4.0 x86_64 i386 64bit"
        },
        {
         "module": "numpy",
         "version": "1.10.0.dev+a02f5c8"
        },
        {
         "module": "version_information",
         "version": "1.0.3"
        }
       ]
      },
      "text/html": [
       "<table><tr><th>Software</th><th>Version</th></tr><tr><td>Python</td><td>2.7.9 64bit [GCC 4.2.1 Compatible Apple LLVM 6.0 (clang-600.0.56)]</td></tr><tr><td>IPython</td><td>3.0.0-dev</td></tr><tr><td>OS</td><td>Darwin 14.4.0 x86_64 i386 64bit</td></tr><tr><td>numpy</td><td>1.10.0.dev+a02f5c8</td></tr><tr><td>version_information</td><td>1.0.3</td></tr><tr><td colspan='2'>Sun Jul 26 18:43:10 2015 JST</td></tr></table>"
      ],
      "text/latex": [
       "\\begin{tabular}{|l|l|}\\hline\n",
       "{\\bf Software} & {\\bf Version} \\\\ \\hline\\hline\n",
       "Python & 2.7.9 64bit [GCC 4.2.1 Compatible Apple LLVM 6.0 (clang-600.0.56)] \\\\ \\hline\n",
       "IPython & 3.0.0-dev \\\\ \\hline\n",
       "OS & Darwin 14.4.0 x86\\_64 i386 64bit \\\\ \\hline\n",
       "numpy & 1.10.0.dev+a02f5c8 \\\\ \\hline\n",
       "version_information & 1.0.3 \\\\ \\hline\n",
       "\\hline \\multicolumn{2}{|l|}{Sun Jul 26 18:43:10 2015 JST} \\\\ \\hline\n",
       "\\end{tabular}\n"
      ],
      "text/plain": [
       "Software versions\n",
       "Python 2.7.9 64bit [GCC 4.2.1 Compatible Apple LLVM 6.0 (clang-600.0.56)]\n",
       "IPython 3.0.0-dev\n",
       "OS Darwin 14.4.0 x86_64 i386 64bit\n",
       "numpy 1.10.0.dev+a02f5c8\n",
       "version_information 1.0.3\n",
       "Sun Jul 26 18:43:10 2015 JST"
      ]
     },
     "execution_count": 6,
     "metadata": {},
     "output_type": "execute_result"
    }
   ],
   "source": [
    "%load_ext version_information\n",
    "%version_information numpy, version_information"
   ]
  }
 ],
 "metadata": {
  "kernelspec": {
   "display_name": "Python 3",
   "language": "python",
   "name": "python3"
  },
  "language_info": {
   "codemirror_mode": {
    "name": "ipython",
    "version": 3
   },
   "file_extension": ".py",
   "mimetype": "text/x-python",
   "name": "python",
   "nbconvert_exporter": "python",
   "pygments_lexer": "ipython3",
   "version": "3.5.0"
  }
 },
 "nbformat": 4,
 "nbformat_minor": 0
}
