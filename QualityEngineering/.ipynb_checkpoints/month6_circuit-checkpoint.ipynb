{
 "cells": [
  {
   "cell_type": "code",
   "execution_count": 1,
   "metadata": {
    "collapsed": false,
    "scrolled": true
   },
   "outputs": [
    {
     "name": "stdout",
     "output_type": "stream",
     "text": [
      "Populating the interactive namespace from numpy and matplotlib\n"
     ]
    }
   ],
   "source": [
    "%pylab inline\n",
    "import pandas as pd\n",
    "pd.set_option('display.precision', 4)"
   ]
  },
  {
   "cell_type": "code",
   "execution_count": 2,
   "metadata": {
    "collapsed": true
   },
   "outputs": [],
   "source": [
    "def plotEffect(df,margin=0.5):\n",
    "    fig,axes = plt.subplots(1,df.index.size,sharey=True)\n",
    "    fig.set_size_inches(df.index.size*1.5,2)\n",
    "    for i in arange(df.index.size):\n",
    "        ax = axes[i]\n",
    "        ax.plot(df.columns,df.ix[i,:],'o-')\n",
    "        ax.set_xlim(0.7,3.3)\n",
    "        ax.set_ylim(df.min().min()-margin,df.max().max()+margin)\n",
    "        ax.set_title(df.index[i])\n",
    "        ax.set_xticks([1,2,3])\n",
    "    print \"\\n効果図\"\n",
    "    plt.tight_layout()\n",
    "    plt.show()"
   ]
  },
  {
   "cell_type": "code",
   "execution_count": 3,
   "metadata": {
    "collapsed": true
   },
   "outputs": [],
   "source": [
    "# 静特性および、望目特性の2乗和分解\n",
    "def staticProp(A,M=1,ve=False,calcSN=False):\n",
    "    # Degree of Freedom\n",
    "    Ft = A.size\n",
    "    Fm = 1\n",
    "    Fe = Ft - Fm\n",
    "    # Squared Sum\n",
    "    St = np.dot(A,A)\n",
    "    Sm = (A.mean()**2)*A.size # Sm = m*n\n",
    "    Se = St - Sm\n",
    "    # Variance\n",
    "    Vm = Sm/Fm\n",
    "    Ve = Se/Fe\n",
    "    # Contribution\n",
    "    Pm = (Sm-Ve)/St *1.\n",
    "    Pe = (Se+Ve)/St *1.\n",
    "    Pt = Pm+Pe\n",
    "    \n",
    "    # 品質水準計算のためにVeを返す\n",
    "    if ve==True:\n",
    "        return Ve\n",
    "    \n",
    "    # calcSNratio[db]\n",
    "    if calcSN==True:\n",
    "        eta = ((Sm-Ve)/A.size/M/M)/Ve #eq(8.3)\n",
    "        return 10*np.log10(eta)\n",
    "    \n",
    "    # 有意な偏りmがあるか判定\n",
    "    if Vm>Ve:\n",
    "        data = {'F': [Fm,Fe,Ft], 'S':[Sm,Se,St], 'V':[Vm,Ve,nan], 'rho':[Pm,Pe,Pt]}\n",
    "        df = pd.DataFrame(data=data, index=[\"m\",\"e\",\"T\"])\n",
    "        print df\n",
    "    else:\n",
    "        data = {'F': [Fm,Fe,Ft,Ft], 'S':[Sm,Se,St,St], 'V':[Vm,Ve,nan,St/Ft], 'rho':[Pm,Pe,Pt,Pt]}\n",
    "        df = pd.DataFrame(data=data, index=[\"m\",\"e\",\"T\",\"(e)\"])\n",
    "        print df\n",
    "        print\n",
    "        print \"Vm < Ve より、m を e にプールした\""
   ]
  },
  {
   "cell_type": "code",
   "execution_count": 4,
   "metadata": {
    "collapsed": true
   },
   "outputs": [],
   "source": [
    "# 動特性の２乗和分解\n",
    "def dynamicProp(M,A, calcSN=False, calcS=False, calcB=False, calcStandardSN=False):\n",
    "    # Degree of Freedom\n",
    "    Ft = len(A.index)*len(A.columns)\n",
    "    Fb = 1\n",
    "    Fnb = len(A.index) - 1\n",
    "    Fe = Ft - Fb - Fnb\n",
    "    Fn = Fnb + Fe\n",
    "    # Squared Sum\n",
    "    St = (A*A).sum().sum() #eq(4.7)\n",
    "    L = np.asarray(A).dot(M) # A[3,3]とM[3,1]の行列積[3,1]\n",
    "    r = (M*M).sum()\n",
    "    Sb = (L.sum())**2/len(A.index)/r #eq(4.8)\n",
    "    Snb = (L*L).sum()/r - Sb #eq(4.9)\n",
    "    Se = St - Sb - Snb\n",
    "    Sn = Snb + Se\n",
    "    # Variance\n",
    "    Vb = Sb/Fb\n",
    "    Vnb = Snb/Fnb\n",
    "    Ve = Se/Fe\n",
    "    Vn = Sn/Fn\n",
    "    \n",
    "    # calcSNratio[db]\n",
    "    if calcSN==True:\n",
    "        eta = (1./len(A.index)/r*(Sb-Ve))/Vn #eq(4.15)\n",
    "        return 10*np.log10(eta)\n",
    "    \n",
    "    # calc Standard SN ratio[db]\n",
    "    if calcStandardSN==True:\n",
    "        eta = (Sb-Ve)/Vn #eq(7.8)\n",
    "        return 10*np.log10(eta)\n",
    "    \n",
    "    # calcS[db]\n",
    "    if calcS==True:\n",
    "        S = (1./len(A.index)/r*(Sb-Ve))\n",
    "        return 10*np.log10(S)\n",
    "    \n",
    "    # calcB\n",
    "    if calcB==True:\n",
    "        beta = L.mean()/r\n",
    "        return beta\n",
    "    \n",
    "    # PrintTable\n",
    "    data = {'F': [Fb,Fnb,Fe,Fn,Ft], 'S':[Sb,Snb,Se,Sn,St], 'V':[Vb,Vnb,Ve,Vn,nan]}\n",
    "    df = pd.DataFrame(data=data, index=[\"b\",\"N*b\",\"e\",\"(N)\",\"T\"])\n",
    "    print df"
   ]
  },
  {
   "cell_type": "markdown",
   "metadata": {},
   "source": [
    "## 6ヶ月目\n",
    ">会社の都合上、具体的な回路図を出すことはできないので、下図の簡単な交流回路に関してパラメータ設計を行うことにする。<br>"
   ]
  },
  {
   "cell_type": "code",
   "execution_count": 18,
   "metadata": {
    "collapsed": false
   },
   "outputs": [
    {
     "data": {
      "text/plain": [
       "<matplotlib.image.AxesImage at 0x107b90fd0>"
      ]
     },
     "execution_count": 18,
     "metadata": {},
     "output_type": "execute_result"
    },
    {
     "data": {
      "image/png": "[encoded data removed]",
      "text/plain": [
       "<matplotlib.figure.Figure at 0x107b98850>"
      ]
     },
     "metadata": {},
     "output_type": "display_data"
    }
   ],
   "source": [
    "im = plt.imread(\"rcCircuit.png\")\n",
    "plt.axis('off')\n",
    "plt.imshow(im)"
   ]
  },
  {
   "cell_type": "markdown",
   "metadata": {},
   "source": [
    "抵抗がR($\\Omega$)、キャパシタ容量をC($F$)の上図の交流回路において、<br>\n",
    "入力電流の振幅をE($V$)、入力信号の周波数f($Hz$)とすると複素インピーダンスZは次の式をみたす。\n",
    "$$\\frac{1}{Z}=\\frac{1}{Z_R}+\\frac{1}{Z_C}=\\frac{1}{R}+2\\pi{f}C$$\n",
    "逆数をとって変形すると、以下の式になる。\n",
    "$$Z=\\frac{R-2\\pi{f}CR^2j}{1+(2\\pi{f}CR)^2}$$<br>\n",
    "$$|Z|=\\sqrt{Z_{Re}^2+Z_{Im}^2}=\\frac{\\sqrt{R^2+(2\\pi{f}CR^2)^2}}{1+(2\\pi{f}CR)^2}=\\frac{R}{\\sqrt{1+(2\\pi{f}CR)^2}}$$\n",
    "出力電流の振幅I($A$)は、\n",
    "$$I=\\frac{E}{|Z|}=\\frac{\\sqrt{1+(2\\pi{f}CR)^2}}{R}E$$\n",
    "制御因子はR、Cの2因子、誤差因子は、制御因子の中心値からのばらつきと、<br>\n",
    "入力交流電圧Vおよび入力周波数fの4因子を調合する。<br>\n",
    "以下に制御因子と誤差因子の調合条件を示す。"
   ]
  },
  {
   "cell_type": "markdown",
   "metadata": {},
   "source": [
    "> めんどくさくなってきたから、別のネタにしようかな。。"
   ]
  },
  {
   "cell_type": "code",
   "execution_count": null,
   "metadata": {
    "collapsed": true
   },
   "outputs": [],
   "source": []
  }
 ],
 "metadata": {
  "kernelspec": {
   "display_name": "Python 3",
   "language": "python",
   "name": "python3"
  },
  "language_info": {
   "codemirror_mode": {
    "name": "ipython",
    "version": 3
   },
   "file_extension": ".py",
   "mimetype": "text/x-python",
   "name": "python",
   "nbconvert_exporter": "python",
   "pygments_lexer": "ipython3",
   "version": "3.5.0"
  }
 },
 "nbformat": 4,
 "nbformat_minor": 0
}
