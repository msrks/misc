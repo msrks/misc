{
 "cells": [
  {
   "cell_type": "code",
   "execution_count": 1,
   "metadata": {
    "collapsed": false,
    "scrolled": true
   },
   "outputs": [
    {
     "name": "stdout",
     "output_type": "stream",
     "text": [
      "Populating the interactive namespace from numpy and matplotlib\n"
     ]
    }
   ],
   "source": [
    "%pylab inline\n",
    "import pandas as pd\n",
    "pd.set_option('display.precision', 5)"
   ]
  },
  {
   "cell_type": "code",
   "execution_count": 2,
   "metadata": {
    "collapsed": false
   },
   "outputs": [],
   "source": [
    "# 静特性および、望目特性の2乗和分解\n",
    "def staticProp(A,M=1,ve=False,calcSN=False):\n",
    "    # Degree of Freedom\n",
    "    Ft = A.size\n",
    "    Fm = 1\n",
    "    Fe = Ft - Fm\n",
    "    # Squared Sum\n",
    "    St = np.dot(A,A)\n",
    "    Sm = (A.mean()**2)*A.size # Sm = m*n\n",
    "    Se = St - Sm\n",
    "    # Variance\n",
    "    Vm = Sm/Fm\n",
    "    Ve = Se/Fe\n",
    "    # Contribution\n",
    "    Pm = (Sm-Ve)/St *1.\n",
    "    Pe = (Se+Ve)/St *1.\n",
    "    Pt = Pm+Pe\n",
    "    \n",
    "    # 品質水準計算のためにVeを返す\n",
    "    if ve==True:\n",
    "        return Ve\n",
    "    \n",
    "    # calcSNratio[db]\n",
    "    if calcSN==True:\n",
    "        eta = ((Sm-Ve)/A.size/M/M)/Ve #eq(8.3)\n",
    "        return 10*np.log10(eta)\n",
    "    \n",
    "    # 有意な偏りmがあるか判定\n",
    "    if Vm>Ve:\n",
    "        data = {'F': [Fm,Fe,Ft], 'S':[Sm,Se,St], 'V':[Vm,Ve,nan], 'rho':[Pm,Pe,Pt]}\n",
    "        df = pd.DataFrame(data=data, index=[\"m\",\"e\",\"T\"])\n",
    "        print df\n",
    "    else:\n",
    "        data = {'F': [Fm,Fe,Ft,Ft], 'S':[Sm,Se,St,St], 'V':[Vm,Ve,nan,St/Ft], 'rho':[Pm,Pe,Pt,Pt]}\n",
    "        df = pd.DataFrame(data=data, index=[\"m\",\"e\",\"T\",\"(e)\"])\n",
    "        print df\n",
    "        print\n",
    "        print \"Vm < Ve より、m を e にプールした\""
   ]
  },
  {
   "cell_type": "markdown",
   "metadata": {},
   "source": [
    "## 1ヶ月目 - 問2\n",
    ">ある製品に使われる信号処理用ICの機能限界は$\\pm$0.6Vで、それを超えると、ユーザーは修理を依頼するが、その平均損失は3000円である。"
   ]
  },
  {
   "cell_type": "markdown",
   "metadata": {},
   "source": [
    "---"
   ]
  },
  {
   "cell_type": "markdown",
   "metadata": {},
   "source": [
    "###1) 製造で規格外になったときの損失は85円/台である。製造の許容差を求めよ。"
   ]
  },
  {
   "cell_type": "markdown",
   "metadata": {},
   "source": [
    "最適な許容差$x$は、次式を満たすよう\"バランス\"した場合である。\n",
    "$$\\frac{3000}{0.6^2} = \\frac{85}{x^2} $$\n",
    "これを解くと、"
   ]
  },
  {
   "cell_type": "code",
   "execution_count": 3,
   "metadata": {
    "collapsed": false,
    "scrolled": true
   },
   "outputs": [
    {
     "name": "stdout",
     "output_type": "stream",
     "text": [
      "許容差は、0.10(V)\n"
     ]
    }
   ],
   "source": [
    "x = 0.6*np.sqrt(85./3000)\n",
    "print \"許容差は、%.2f(V)\"%x"
   ]
  },
  {
   "cell_type": "markdown",
   "metadata": {},
   "source": [
    "###2) 現行製造条件$A_1$、新製造条件$A_2$について、各々12個ずつについて目標値からの差を調べたデータ（単位 V）は次のようであった。$A_1$, $A_2$の品質水準を求めよ。"
   ]
  },
  {
   "cell_type": "code",
   "execution_count": 4,
   "metadata": {
    "collapsed": false
   },
   "outputs": [],
   "source": [
    "A1 = np.asarray([0.05, -0.06 , -0.05, 0., 0.06, 0.07, -0.09, 0.06, 0., -0.01, 0.06, 0.05])\n",
    "A2 = np.asarray([0.09, 0.03, 0.01, 0.07, 0.05, 0.08, 0.06, 0.06, 0.04, 0.04, 0.05, 0.06])"
   ]
  },
  {
   "cell_type": "markdown",
   "metadata": {},
   "source": [
    "品質水準を次式で計算する\n",
    "$$ L = \\frac{A_0}{\\Delta_0^2}\\sigma^2 = \\frac{A_0}{\\Delta_0^2}V_T$$"
   ]
  },
  {
   "cell_type": "code",
   "execution_count": 5,
   "metadata": {
    "collapsed": false
   },
   "outputs": [
    {
     "name": "stdout",
     "output_type": "stream",
     "text": [
      "A1の品質水準は、24.3\n",
      "A2の品質水準は、27.4\n"
     ]
    }
   ],
   "source": [
    "# 品質水準を計算する\n",
    "def qualityLevel(A, Ao, Do): \n",
    "    Vt= np.dot(A,A)/A.size\n",
    "    L = Ao/(Do**2)*Vt\n",
    "    return L\n",
    "\n",
    "print \"A1の品質水準は、%.1f\"%qualityLevel(A1,3000,0.6)\n",
    "print \"A2の品質水準は、%.1f\"%qualityLevel(A2,3000,0.6)"
   ]
  },
  {
   "cell_type": "markdown",
   "metadata": {},
   "source": [
    "###3) 目標値からの偏りは、工程条件のある因子を調整すれば、平均値を目標値に近づけることができる。調整した時の$A_1$, $A_2$の品質水準を求め、(2)の結果と比較せよ。"
   ]
  },
  {
   "cell_type": "code",
   "execution_count": 6,
   "metadata": {
    "collapsed": false,
    "scrolled": true
   },
   "outputs": [
    {
     "name": "stdout",
     "output_type": "stream",
     "text": [
      "A1の分散分析表\n",
      "      F       S       V   rho\n",
      "m     1  0.0016  0.0016 -0.04\n",
      "e    11  0.0334  0.0030  1.04\n",
      "T    12  0.0350     NaN  1.00\n",
      "(e)  12  0.0350  0.0029  1.00\n",
      "\n",
      "Vm < Ve より、m を e にプールした\n"
     ]
    }
   ],
   "source": [
    "print \"A1の分散分析表\"\n",
    "staticProp(A1)"
   ]
  },
  {
   "cell_type": "code",
   "execution_count": 7,
   "metadata": {
    "collapsed": false,
    "scrolled": false
   },
   "outputs": [
    {
     "name": "stdout",
     "output_type": "stream",
     "text": [
      "A2の分散分析表\n",
      "    F       S       V     rho\n",
      "m   1  0.0341  0.0341  0.8542\n",
      "e  11  0.0053  0.0005  0.1458\n",
      "T  12  0.0394     NaN  1.0000\n"
     ]
    }
   ],
   "source": [
    "print \"A2の分散分析表\"\n",
    "staticProp(A2)"
   ]
  },
  {
   "cell_type": "code",
   "execution_count": 8,
   "metadata": {
    "collapsed": false
   },
   "outputs": [
    {
     "name": "stdout",
     "output_type": "stream",
     "text": [
      "A1は、Vm < Ve より調整できない\n",
      "A2の調整した時の品質水準は、4.0\n"
     ]
    }
   ],
   "source": [
    "print \"A1は、Vm < Ve より調整できない\"\n",
    "Ve = staticProp(A2,ve=True)\n",
    "L = 3000/(0.6**2)*Ve\n",
    "print \"A2の調整した時の品質水準は、%.1f\"%L"
   ]
  },
  {
   "cell_type": "markdown",
   "metadata": {},
   "source": [
    "###4) 新製造条件の場合、1台あたり17円のコストアップになるとき、平均値を調整したときの$A_1, A_2$の特質を検討せよ。"
   ]
  },
  {
   "cell_type": "markdown",
   "metadata": {},
   "source": [
    "#### $A_1$の特質\n",
    "$A_1$に関しては(3)より平均値を調整しない。<br>\n",
    "したがって$A_1$の品質は(2)で求めた$24.3$(円/台)"
   ]
  },
  {
   "cell_type": "markdown",
   "metadata": {},
   "source": [
    "#### $A_2$の特質\n",
    "$A_2$に関しては新製造条件での品質は、<br>\n",
    "$ 4(Q.Level) + 17(Cost) = 21$(円/台)<br>"
   ]
  },
  {
   "cell_type": "markdown",
   "metadata": {},
   "source": [
    "したがって、平均値を調整すると$A_2$の特質の方が、<br>\n",
    "$3$(円/台) 優れている"
   ]
  },
  {
   "cell_type": "code",
   "execution_count": 9,
   "metadata": {
    "collapsed": false
   },
   "outputs": [
    {
     "data": {
      "application/json": {
       "Software versions": [
        {
         "module": "Python",
         "version": "2.7.9 64bit [GCC 4.2.1 Compatible Apple LLVM 6.0 (clang-600.0.56)]"
        },
        {
         "module": "IPython",
         "version": "3.0.0-dev"
        },
        {
         "module": "OS",
         "version": "Darwin 14.4.0 x86_64 i386 64bit"
        },
        {
         "module": "numpy",
         "version": "1.10.0.dev+a02f5c8"
        },
        {
         "module": "matplotlib",
         "version": "1.4.2"
        },
        {
         "module": "pandas",
         "version": "0.16.0"
        },
        {
         "module": "ipython",
         "version": "3.0.0.dev0"
        },
        {
         "module": "version_information",
         "version": "1.0.3"
        }
       ]
      },
      "text/html": [
       "<table><tr><th>Software</th><th>Version</th></tr><tr><td>Python</td><td>2.7.9 64bit [GCC 4.2.1 Compatible Apple LLVM 6.0 (clang-600.0.56)]</td></tr><tr><td>IPython</td><td>3.0.0-dev</td></tr><tr><td>OS</td><td>Darwin 14.4.0 x86_64 i386 64bit</td></tr><tr><td>numpy</td><td>1.10.0.dev+a02f5c8</td></tr><tr><td>matplotlib</td><td>1.4.2</td></tr><tr><td>pandas</td><td>0.16.0</td></tr><tr><td>ipython</td><td>3.0.0.dev0</td></tr><tr><td>version_information</td><td>1.0.3</td></tr><tr><td colspan='2'>Sun Jul 26 17:22:00 2015 JST</td></tr></table>"
      ],
      "text/latex": [
       "\\begin{tabular}{|l|l|}\\hline\n",
       "{\\bf Software} & {\\bf Version} \\\\ \\hline\\hline\n",
       "Python & 2.7.9 64bit [GCC 4.2.1 Compatible Apple LLVM 6.0 (clang-600.0.56)] \\\\ \\hline\n",
       "IPython & 3.0.0-dev \\\\ \\hline\n",
       "OS & Darwin 14.4.0 x86\\_64 i386 64bit \\\\ \\hline\n",
       "numpy & 1.10.0.dev+a02f5c8 \\\\ \\hline\n",
       "matplotlib & 1.4.2 \\\\ \\hline\n",
       "pandas & 0.16.0 \\\\ \\hline\n",
       "ipython & 3.0.0.dev0 \\\\ \\hline\n",
       "version_information & 1.0.3 \\\\ \\hline\n",
       "\\hline \\multicolumn{2}{|l|}{Sun Jul 26 17:22:00 2015 JST} \\\\ \\hline\n",
       "\\end{tabular}\n"
      ],
      "text/plain": [
       "Software versions\n",
       "Python 2.7.9 64bit [GCC 4.2.1 Compatible Apple LLVM 6.0 (clang-600.0.56)]\n",
       "IPython 3.0.0-dev\n",
       "OS Darwin 14.4.0 x86_64 i386 64bit\n",
       "numpy 1.10.0.dev+a02f5c8\n",
       "matplotlib 1.4.2\n",
       "pandas 0.16.0\n",
       "ipython 3.0.0.dev0\n",
       "version_information 1.0.3\n",
       "Sun Jul 26 17:22:00 2015 JST"
      ]
     },
     "execution_count": 9,
     "metadata": {},
     "output_type": "execute_result"
    }
   ],
   "source": [
    "%load_ext version_information\n",
    "%version_information numpy, matplotlib, pandas, ipython, version_information"
   ]
  }
 ],
 "metadata": {
  "kernelspec": {
   "display_name": "Python 2",
   "language": "python",
   "name": "python2"
  },
  "language_info": {
   "codemirror_mode": {
    "name": "ipython",
    "version": 2
   },
   "file_extension": ".py",
   "mimetype": "text/x-python",
   "name": "python",
   "nbconvert_exporter": "python",
   "pygments_lexer": "ipython2",
   "version": "2.7.9"
  }
 },
 "nbformat": 4,
 "nbformat_minor": 0
}
