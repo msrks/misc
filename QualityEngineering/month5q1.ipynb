{
 "cells": [
  {
   "cell_type": "code",
   "execution_count": 1,
   "metadata": {
    "collapsed": false,
    "scrolled": true
   },
   "outputs": [
    {
     "name": "stdout",
     "output_type": "stream",
     "text": [
      "Populating the interactive namespace from numpy and matplotlib\n"
     ]
    }
   ],
   "source": [
    "%pylab inline\n",
    "import pandas as pd\n",
    "pd.set_option('display.precision', 4)"
   ]
  },
  {
   "cell_type": "code",
   "execution_count": 2,
   "metadata": {
    "collapsed": true
   },
   "outputs": [],
   "source": [
    "def plotEffect(df,margin=0.5):\n",
    "    fig,axes = plt.subplots(1,df.index.size,sharey=True)\n",
    "    fig.set_size_inches(df.index.size*1.5,2)\n",
    "    for i in arange(df.index.size):\n",
    "        ax = axes[i]\n",
    "        ax.plot(df.columns,df.ix[i,:],'o-')\n",
    "        ax.set_xlim(0.7,3.3)\n",
    "        ax.set_ylim(df.min().min()-margin,df.max().max()+margin)\n",
    "        ax.set_title(df.index[i])\n",
    "        ax.set_xticks([1,2,3])\n",
    "    print \"\\n効果図\"\n",
    "    plt.tight_layout()\n",
    "    plt.show()"
   ]
  },
  {
   "cell_type": "markdown",
   "metadata": {},
   "source": [
    "## 5ヶ月目 - 問1\n",
    ">風速計用プロペラの最適設計をするために、A~Hの制御因子(略)を取り上げて実験した。<br>\n",
    "信号因子Mとして風速を\n",
    "$$M_1=0.9, M_2=1.8, M_3=2.7 (m/s)$$\n",
    "誤差因子Nを$N_1,N_2$として回転数yをデータとして、y=$\\beta{M}$に対するSN比と感度を求めた。<br>\n",
    "わりつけおよびSN比$\\eta$と感度S, 補助表(水準別平均)は以下のよう(略)である。"
   ]
  },
  {
   "cell_type": "markdown",
   "metadata": {},
   "source": [
    "###1) SN比の最適条件を指摘しSN比を推定せよ。当初案がA1B2C1D1E2F2G3H1であるとき、利得を推定せよ。"
   ]
  },
  {
   "cell_type": "code",
   "execution_count": 3,
   "metadata": {
    "collapsed": false,
    "scrolled": true
   },
   "outputs": [
    {
     "name": "stdout",
     "output_type": "stream",
     "text": [
      "\n",
      "標準SN比の水準別平均\n",
      "       1      2      3\n",
      "A   0.68  17.66    NaN\n",
      "B   3.44  10.94  13.13\n",
      "C   9.79   6.05  11.66\n",
      "D   7.97   6.68  12.86\n",
      "E  12.90   8.45   6.16\n",
      "F  15.26   6.81   5.44\n",
      "G   6.23  11.36   9.92\n",
      "H   9.04  12.60   5.88\n",
      "\n",
      "効果図\n"
     ]
    },
    {
     "data": {
      "image/png": "[encoded data removed]",
      "text/plain": [
       "<matplotlib.figure.Figure at 0x10c4b4810>"
      ]
     },
     "metadata": {},
     "output_type": "display_data"
    }
   ],
   "source": [
    "SNave = pd.DataFrame([[0.68,17.66,nan],\n",
    "                      [3.44,10.94,13.13],\n",
    "                      [9.79,6.05,11.66],\n",
    "                      [7.97,6.68,12.86],\n",
    "                      [12.90,8.45,6.16],\n",
    "                      [15.26,6.81,5.44],\n",
    "                      [6.23,11.36,9.92],\n",
    "                      [9.04,12.60,5.88]],\n",
    "                     index=list(\"ABCDEFGH\"),\n",
    "                     columns=[\"1\",\"2\",\"3\"])\n",
    "print \"\\n標準SN比の水準別平均\\n\",SNave\n",
    "plotEffect(SNave)"
   ]
  },
  {
   "cell_type": "markdown",
   "metadata": {},
   "source": [
    "最適条件はA2B3C3D3E1F1G2H2。"
   ]
  },
  {
   "cell_type": "code",
   "execution_count": 4,
   "metadata": {
    "collapsed": false
   },
   "outputs": [
    {
     "name": "stdout",
     "output_type": "stream",
     "text": [
      "最適条件のSN比は、43.24(db)\n",
      "現行条件のSN比は、-0.59(db)\n",
      "\n",
      "利得は、43.83(db)。真数に直すと、24154。\n"
     ]
    }
   ],
   "source": [
    "ave = SNave.sum(1)[0]/2\n",
    "eta_opt = SNave.ix[\"A\",\"2\"]+SNave.ix[\"B\",\"3\"]+SNave.ix[\"C\",\"3\"]+SNave.ix[\"D\",\"3\"]\\\n",
    "+SNave.ix[\"E\",\"1\"]+SNave.ix[\"F\",\"1\"]+SNave.ix[\"G\",\"2\"]+SNave.ix[\"H\",\"2\"]-7*ave\n",
    "eta_ini = SNave.ix[\"A\",\"1\"]+SNave.ix[\"B\",\"2\"]+SNave.ix[\"C\",\"1\"]+SNave.ix[\"D\",\"1\"]\\\n",
    "+SNave.ix[\"E\",\"2\"]+SNave.ix[\"F\",\"2\"]+SNave.ix[\"G\",\"3\"]+SNave.ix[\"H\",\"1\"]-7*ave\n",
    "eta_diff = eta_opt-eta_ini\n",
    "print \"最適条件のSN比は、%.2f(db)\"%eta_opt\n",
    "print \"現行条件のSN比は、%.2f(db)\"%eta_ini\n",
    "print \"\\n利得は、%.2f(db)。真数に直すと、%d。\"%(eta_diff, 10**(eta_diff/10))"
   ]
  },
  {
   "cell_type": "markdown",
   "metadata": {},
   "source": [
    "###2)最適設計のプロペラを用いた風速計の誤差範囲を求めよ。"
   ]
  },
  {
   "cell_type": "markdown",
   "metadata": {},
   "source": [
    "テキストのeq(9.8)より、誤差範囲は\n",
    "$$\\pm\\frac{3}{\\sqrt{\\eta(真数)}}$$\n",
    "したがって、"
   ]
  },
  {
   "cell_type": "code",
   "execution_count": 5,
   "metadata": {
    "collapsed": false
   },
   "outputs": [
    {
     "name": "stdout",
     "output_type": "stream",
     "text": [
      "\n",
      "誤差範囲は+-0.019\n",
      "\n"
     ]
    }
   ],
   "source": [
    "print \"\\n誤差範囲は+-%.3f\\n\"%(3/np.sqrt(10**(eta_diff/10)))"
   ]
  },
  {
   "cell_type": "code",
   "execution_count": 6,
   "metadata": {
    "collapsed": false
   },
   "outputs": [
    {
     "data": {
      "application/json": {
       "Software versions": [
        {
         "module": "Python",
         "version": "2.7.9 64bit [GCC 4.2.1 Compatible Apple LLVM 6.0 (clang-600.0.56)]"
        },
        {
         "module": "IPython",
         "version": "3.0.0-dev"
        },
        {
         "module": "OS",
         "version": "Darwin 14.4.0 x86_64 i386 64bit"
        },
        {
         "module": "numpy",
         "version": "1.10.0.dev+a02f5c8"
        },
        {
         "module": "matplotlib",
         "version": "1.4.2"
        },
        {
         "module": "pandas",
         "version": "0.16.0"
        },
        {
         "module": "ipython",
         "version": "3.0.0.dev0"
        },
        {
         "module": "version_information",
         "version": "1.0.3"
        }
       ]
      },
      "text/html": [
       "<table><tr><th>Software</th><th>Version</th></tr><tr><td>Python</td><td>2.7.9 64bit [GCC 4.2.1 Compatible Apple LLVM 6.0 (clang-600.0.56)]</td></tr><tr><td>IPython</td><td>3.0.0-dev</td></tr><tr><td>OS</td><td>Darwin 14.4.0 x86_64 i386 64bit</td></tr><tr><td>numpy</td><td>1.10.0.dev+a02f5c8</td></tr><tr><td>matplotlib</td><td>1.4.2</td></tr><tr><td>pandas</td><td>0.16.0</td></tr><tr><td>ipython</td><td>3.0.0.dev0</td></tr><tr><td>version_information</td><td>1.0.3</td></tr><tr><td colspan='2'>Sun Jul 26 17:00:31 2015 JST</td></tr></table>"
      ],
      "text/latex": [
       "\\begin{tabular}{|l|l|}\\hline\n",
       "{\\bf Software} & {\\bf Version} \\\\ \\hline\\hline\n",
       "Python & 2.7.9 64bit [GCC 4.2.1 Compatible Apple LLVM 6.0 (clang-600.0.56)] \\\\ \\hline\n",
       "IPython & 3.0.0-dev \\\\ \\hline\n",
       "OS & Darwin 14.4.0 x86\\_64 i386 64bit \\\\ \\hline\n",
       "numpy & 1.10.0.dev+a02f5c8 \\\\ \\hline\n",
       "matplotlib & 1.4.2 \\\\ \\hline\n",
       "pandas & 0.16.0 \\\\ \\hline\n",
       "ipython & 3.0.0.dev0 \\\\ \\hline\n",
       "version_information & 1.0.3 \\\\ \\hline\n",
       "\\hline \\multicolumn{2}{|l|}{Sun Jul 26 17:00:31 2015 JST} \\\\ \\hline\n",
       "\\end{tabular}\n"
      ],
      "text/plain": [
       "Software versions\n",
       "Python 2.7.9 64bit [GCC 4.2.1 Compatible Apple LLVM 6.0 (clang-600.0.56)]\n",
       "IPython 3.0.0-dev\n",
       "OS Darwin 14.4.0 x86_64 i386 64bit\n",
       "numpy 1.10.0.dev+a02f5c8\n",
       "matplotlib 1.4.2\n",
       "pandas 0.16.0\n",
       "ipython 3.0.0.dev0\n",
       "version_information 1.0.3\n",
       "Sun Jul 26 17:00:31 2015 JST"
      ]
     },
     "execution_count": 6,
     "metadata": {},
     "output_type": "execute_result"
    }
   ],
   "source": [
    "%load_ext version_information\n",
    "%version_information numpy, matplotlib, pandas, ipython, version_information"
   ]
  }
 ],
 "metadata": {
  "kernelspec": {
   "display_name": "Python 2",
   "language": "python",
   "name": "python2"
  },
  "language_info": {
   "codemirror_mode": {
    "name": "ipython",
    "version": 2
   },
   "file_extension": ".py",
   "mimetype": "text/x-python",
   "name": "python",
   "nbconvert_exporter": "python",
   "pygments_lexer": "ipython2",
   "version": "2.7.9"
  }
 },
 "nbformat": 4,
 "nbformat_minor": 0
}
