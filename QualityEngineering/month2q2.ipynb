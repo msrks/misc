{
 "cells": [
  {
   "cell_type": "code",
   "execution_count": 2,
   "metadata": {
    "collapsed": false,
    "scrolled": true
   },
   "outputs": [
    {
     "name": "stdout",
     "output_type": "stream",
     "text": [
      "Populating the interactive namespace from numpy and matplotlib\n"
     ]
    }
   ],
   "source": [
    "%pylab inline\n",
    "import pandas as pd\n",
    "pd.set_option('display.precision', 5)"
   ]
  },
  {
   "cell_type": "code",
   "execution_count": 3,
   "metadata": {
    "collapsed": false
   },
   "outputs": [],
   "source": [
    "# 動特性の２乗和分解\n",
    "def dynamicProp(M,A, calcSN=False, calcS=False, calcB=False, calcStandardSN=False):\n",
    "    # Degree of Freedom\n",
    "    Ft = len(A.index)*len(A.columns)\n",
    "    Fb = 1\n",
    "    Fnb = len(A.index) - 1\n",
    "    Fe = Ft - Fb - Fnb\n",
    "    Fn = Fnb + Fe\n",
    "    # Squared Sum\n",
    "    St = (A*A).sum().sum() #eq(4.7)\n",
    "    L = np.asarray(A).dot(M) # A[3,3]とM[3,1]の行列積[3,1]\n",
    "    r = (M*M).sum()\n",
    "    Sb = (L.sum())**2/len(A.index)/r #eq(4.8)\n",
    "    Snb = (L*L).sum()/r - Sb #eq(4.9)\n",
    "    Se = St - Sb - Snb\n",
    "    Sn = Snb + Se\n",
    "    # Variance\n",
    "    Vb = Sb/Fb\n",
    "    Vnb = Snb/Fnb\n",
    "    Ve = Se/Fe\n",
    "    Vn = Sn/Fn\n",
    "    \n",
    "    # calcSNratio[db]\n",
    "    if calcSN==True:\n",
    "        eta = (1./len(A.index)/r*(Sb-Ve))/Vn #eq(4.15)\n",
    "        return 10*np.log10(eta)\n",
    "    \n",
    "    # calc Standard SN ratio[db]\n",
    "    if calcStandardSN==True:\n",
    "        eta = (Sb-Ve)/Vn #eq(7.8)\n",
    "        return 10*np.log10(eta)\n",
    "    \n",
    "    # calcS[db]\n",
    "    if calcS==True:\n",
    "        S = (1./len(A.index)/r*(Sb-Ve))\n",
    "        return 10*np.log10(S)\n",
    "    \n",
    "    # calcB\n",
    "    if calcB==True:\n",
    "        beta = L.mean()/r\n",
    "        return beta\n",
    "    \n",
    "    # PrintTable\n",
    "    data = {'F': [Fb,Fnb,Fe,Fn,Ft], 'S':[Sb,Snb,Se,Sn,St], 'V':[Vb,Vnb,Ve,Vn,nan]}\n",
    "    df = pd.DataFrame(data=data, index=[\"b\",\"N*b\",\"e\",\"(N)\",\"T\"])\n",
    "    print df"
   ]
  },
  {
   "cell_type": "markdown",
   "metadata": {},
   "source": [
    "## 2ヶ月目 - 問2\n",
    ">ワイヤーボンダーの2つの操作条件$A_1（現行）, A_2（新）$について、ループ高さ安定性を比較するため、信号因子としてループ高さを調整するための調整目盛りMを3水準\n",
    "$$M_1=-15, M_2=-10, M_3=-5$$\n",
    "誤差因子はワーヤーの長さ\n",
    "$$N_1=長い, N_2=標準, N_3=短い$$\n",
    "として、ループ高さ（$\\mu{m}$）を測定した。以下にデータを示す。"
   ]
  },
  {
   "cell_type": "code",
   "execution_count": 4,
   "metadata": {
    "collapsed": false
   },
   "outputs": [
    {
     "name": "stdout",
     "output_type": "stream",
     "text": [
      "A1\n",
      "       M1     M2     M3\n",
      "N1  128.7  136.9  154.6\n",
      "N2  123.6  136.4  148.7\n",
      "N3  100.2  119.7  149.1\n",
      "\n",
      "A2\n",
      "       M1     M2     M3\n",
      "N1  113.8  129.6  142.4\n",
      "N2  102.0  120.9  139.3\n",
      "N3   96.6  111.3  135.3\n"
     ]
    },
    {
     "data": {
      "image/png": "[encoded data removed]",
      "text/plain": [
       "<matplotlib.figure.Figure at 0x10c1cb310>"
      ]
     },
     "metadata": {},
     "output_type": "display_data"
    }
   ],
   "source": [
    "MnoFix = np.asarray([-15, -10, -5])\n",
    "A1noFix = pd.DataFrame([[128.7,136.9,154.6],\n",
    "                  [123.6,136.4,148.7],\n",
    "                  [100.2,119.7,149.1]],\n",
    "                 index=[\"N1\",\"N2\",\"N3\"],\n",
    "                 columns=[\"M1\",\"M2\",\"M3\"])\n",
    "A2noFix = pd.DataFrame([[113.8,129.6,142.4],\n",
    "                  [102.0,120.9,139.3],\n",
    "                  [96.6,111.3,135.3]],\n",
    "                 index=[\"N1\",\"N2\",\"N3\"],\n",
    "                 columns=[\"M1\",\"M2\",\"M3\"])\n",
    "print \"A1\\n\",A1noFix\n",
    "print \"\\nA2\\n\",A2noFix\n",
    "\n",
    "fig = figure(figsize=(9,4))\n",
    "ax1 = plt.subplot(121)\n",
    "ax2 = plt.subplot(122)\n",
    "ax1.plot(MnoFix,A1noFix.T,'*-')\n",
    "ax2.plot(MnoFix,A2noFix.T,'*-')\n",
    "ax1.set_title(\"A1\")\n",
    "ax2.set_title(\"A2\")\n",
    "ax1.legend([\"N1\",\"N2\",\"N3\"])\n",
    "ax2.legend([\"N1\",\"N2\",\"N3\"])\n",
    "ax1.set_ylim(90,200)\n",
    "ax2.set_ylim(90,200)\n",
    "plt.show()"
   ]
  },
  {
   "cell_type": "markdown",
   "metadata": {},
   "source": [
    "###1) $A_1, A_2$の優劣を評価するためには、どのようなSN比がよいかを検討せよ。"
   ]
  },
  {
   "cell_type": "markdown",
   "metadata": {},
   "source": [
    "明らかにM=0でy=0ではないため、基準点比例式を適用する。<br>\n",
    "基準点は、とくにどれかに決める根拠が無かったので、中心値のM2を基準にした。<br>\n",
    "（天下り的には、問(3)で目標値120$\\mu{m}$という記述があるので、そのあたりが良さそうか？）<br>\n",
    "補正データーは以下の通り。"
   ]
  },
  {
   "cell_type": "code",
   "execution_count": 5,
   "metadata": {
    "collapsed": false
   },
   "outputs": [
    {
     "name": "stdout",
     "output_type": "stream",
     "text": [
      "M\n",
      "[-5  0  5]\n",
      "\n",
      "A1\n",
      "      M1    M2    M3\n",
      "N1  -2.3   5.9  23.6\n",
      "N2  -7.4   5.4  17.7\n",
      "N3 -30.8 -11.3  18.1\n",
      "\n",
      "A2\n",
      "      M1   M2    M3\n",
      "N1  -6.8  9.0  21.8\n",
      "N2 -18.6  0.3  18.7\n",
      "N3 -24.0 -9.3  14.7\n"
     ]
    }
   ],
   "source": [
    "M = MnoFix-MnoFix[1]\n",
    "A1 = A1noFix-A1noFix[\"M2\"].mean()\n",
    "A2 = A2noFix-A2noFix[\"M2\"].mean()\n",
    "\n",
    "print \"M\\n\", M\n",
    "print \"\\nA1\\n\",A1\n",
    "print \"\\nA2\\n\",A2"
   ]
  },
  {
   "cell_type": "code",
   "execution_count": 6,
   "metadata": {
    "collapsed": false
   },
   "outputs": [
    {
     "name": "stdout",
     "output_type": "stream",
     "text": [
      "A1の2乗和分解表\n",
      "     F         S          V\n",
      "b    1  1663.335  1663.3350\n",
      "N*b  2   182.680    91.3400\n",
      "e    6   552.195    92.0325\n",
      "(N)  8   734.875    91.8594\n",
      "T    9  2398.210        NaN\n"
     ]
    }
   ],
   "source": [
    "print \"A1の2乗和分解表\"\n",
    "dynamicProp(M,A1)    "
   ]
  },
  {
   "cell_type": "code",
   "execution_count": 7,
   "metadata": {
    "collapsed": false
   },
   "outputs": [
    {
     "name": "stdout",
     "output_type": "stream",
     "text": [
      "A2の2乗和分解表\n",
      "     F          S          V\n",
      "b    1  1823.5267  1823.5267\n",
      "N*b  2    29.9433    14.9717\n",
      "e    6   323.3300    53.8883\n",
      "(N)  8   353.2733    44.1592\n",
      "T    9  2176.8000        NaN\n"
     ]
    }
   ],
   "source": [
    "print \"A2の2乗和分解表\"\n",
    "dynamicProp(M,A2)"
   ]
  },
  {
   "cell_type": "markdown",
   "metadata": {},
   "source": [
    "SN比は次の式で求める。\n",
    "$$ \\eta = 10log\\frac{\\frac{1}{nr}(S_\\beta - V_e)}{V_N} [dB]$$"
   ]
  },
  {
   "cell_type": "code",
   "execution_count": 8,
   "metadata": {
    "collapsed": false
   },
   "outputs": [
    {
     "name": "stdout",
     "output_type": "stream",
     "text": [
      "A1のSN比は、-9.43(db)\n",
      "A2のSN比は、-5.73(db)\n"
     ]
    }
   ],
   "source": [
    "print \"A1のSN比は、%.2f(db)\"%dynamicProp(M,A1, calcSN=True)\n",
    "print \"A2のSN比は、%.2f(db)\"%dynamicProp(M,A2, calcSN=True)"
   ]
  },
  {
   "cell_type": "markdown",
   "metadata": {},
   "source": [
    "感度Sは次の式で求める。\n",
    "$$ S = 10log{\\frac{1}{nr}(S_\\beta - V_e)}[dB]$$"
   ]
  },
  {
   "cell_type": "code",
   "execution_count": 9,
   "metadata": {
    "collapsed": false
   },
   "outputs": [
    {
     "name": "stdout",
     "output_type": "stream",
     "text": [
      "A1の感度Sは、10.20(db)\n",
      "A2の感度Sは、10.72(db)\n"
     ]
    }
   ],
   "source": [
    "print \"A1の感度Sは、%.2f(db)\"%dynamicProp(M,A1, calcS=True)\n",
    "print \"A2の感度Sは、%.2f(db)\"%dynamicProp(M,A2, calcS=True)"
   ]
  },
  {
   "cell_type": "markdown",
   "metadata": {},
   "source": [
    "比例係数$\\beta$は次の式で求める。\n",
    "$$ \\beta = average(\\beta_i) = average(\\frac{L_i}{r}) $$"
   ]
  },
  {
   "cell_type": "code",
   "execution_count": 10,
   "metadata": {
    "collapsed": false
   },
   "outputs": [
    {
     "name": "stdout",
     "output_type": "stream",
     "text": [
      "A1の比例係数¥betaは、3.33\n",
      "A2の比例係数¥betaは、3.49\n"
     ]
    }
   ],
   "source": [
    "print \"A1の比例係数¥betaは、%.2f\"%dynamicProp(M,A1, calcB=True)\n",
    "print \"A2の比例係数¥betaは、%.2f\"%dynamicProp(M,A2, calcB=True)"
   ]
  },
  {
   "cell_type": "markdown",
   "metadata": {},
   "source": [
    "###2) ある製品のループ高さの目標値は120$\\mu{m}$である。よい方の操作条件では、高さ調整目盛りはいくらにすればよいか。ただし、調整目盛りの間隔は1である。"
   ]
  },
  {
   "cell_type": "markdown",
   "metadata": {
    "collapsed": true
   },
   "source": [
    "SN比より、いい方の条件は$A_2$である。<br>\n",
    "このときの、比例式は、"
   ]
  },
  {
   "cell_type": "code",
   "execution_count": 11,
   "metadata": {
    "collapsed": false
   },
   "outputs": [
    {
     "name": "stdout",
     "output_type": "stream",
     "text": [
      "y-120.6 = 3.5(M-(-10.0))\n"
     ]
    }
   ],
   "source": [
    "print \"y-%.1f = %.1f(M-(%.1f))\"%(A2noFix[\"M2\"].mean(),dynamicProp(M,A2, calcB=True),MnoFix[1])"
   ]
  },
  {
   "cell_type": "markdown",
   "metadata": {},
   "source": [
    "調整目盛りMの間隔が１であるとすると、yの目標値120に最も近づくのはM=-10。<br>\n",
    "したがって高さ調整目盛りは-10とすればよい。"
   ]
  },
  {
   "cell_type": "code",
   "execution_count": 12,
   "metadata": {
    "collapsed": false
   },
   "outputs": [
    {
     "name": "stdout",
     "output_type": "stream",
     "text": [
      "The version_information extension is already loaded. To reload it, use:\n",
      "  %reload_ext version_information\n"
     ]
    },
    {
     "data": {
      "application/json": {
       "Software versions": [
        {
         "module": "Python",
         "version": "2.7.9 64bit [GCC 4.2.1 Compatible Apple LLVM 6.0 (clang-600.0.56)]"
        },
        {
         "module": "IPython",
         "version": "4.0.0"
        },
        {
         "module": "OS",
         "version": "Darwin 14.4.0 x86_64 i386 64bit"
        },
        {
         "module": "numpy",
         "version": "1.10.0.dev+a02f5c8"
        },
        {
         "module": "matplotlib",
         "version": "1.4.2"
        },
        {
         "module": "pandas",
         "version": "0.16.0"
        },
        {
         "module": "ipython",
         "version": "4.0.0"
        },
        {
         "module": "version_information",
         "version": "1.0.3"
        }
       ]
      },
      "text/html": [
       "<table><tr><th>Software</th><th>Version</th></tr><tr><td>Python</td><td>2.7.9 64bit [GCC 4.2.1 Compatible Apple LLVM 6.0 (clang-600.0.56)]</td></tr><tr><td>IPython</td><td>4.0.0</td></tr><tr><td>OS</td><td>Darwin 14.4.0 x86_64 i386 64bit</td></tr><tr><td>numpy</td><td>1.10.0.dev+a02f5c8</td></tr><tr><td>matplotlib</td><td>1.4.2</td></tr><tr><td>pandas</td><td>0.16.0</td></tr><tr><td>ipython</td><td>4.0.0</td></tr><tr><td>version_information</td><td>1.0.3</td></tr><tr><td colspan='2'>Wed Aug 12 18:30:26 2015 JST</td></tr></table>"
      ],
      "text/latex": [
       "\\begin{tabular}{|l|l|}\\hline\n",
       "{\\bf Software} & {\\bf Version} \\\\ \\hline\\hline\n",
       "Python & 2.7.9 64bit [GCC 4.2.1 Compatible Apple LLVM 6.0 (clang-600.0.56)] \\\\ \\hline\n",
       "IPython & 4.0.0 \\\\ \\hline\n",
       "OS & Darwin 14.4.0 x86\\_64 i386 64bit \\\\ \\hline\n",
       "numpy & 1.10.0.dev+a02f5c8 \\\\ \\hline\n",
       "matplotlib & 1.4.2 \\\\ \\hline\n",
       "pandas & 0.16.0 \\\\ \\hline\n",
       "ipython & 4.0.0 \\\\ \\hline\n",
       "version_information & 1.0.3 \\\\ \\hline\n",
       "\\hline \\multicolumn{2}{|l|}{Wed Aug 12 18:30:26 2015 JST} \\\\ \\hline\n",
       "\\end{tabular}\n"
      ],
      "text/plain": [
       "Software versions\n",
       "Python 2.7.9 64bit [GCC 4.2.1 Compatible Apple LLVM 6.0 (clang-600.0.56)]\n",
       "IPython 4.0.0\n",
       "OS Darwin 14.4.0 x86_64 i386 64bit\n",
       "numpy 1.10.0.dev+a02f5c8\n",
       "matplotlib 1.4.2\n",
       "pandas 0.16.0\n",
       "ipython 4.0.0\n",
       "version_information 1.0.3\n",
       "Wed Aug 12 18:30:26 2015 JST"
      ]
     },
     "execution_count": 12,
     "metadata": {},
     "output_type": "execute_result"
    }
   ],
   "source": [
    "%load_ext version_information\n",
    "%version_information numpy, matplotlib, pandas, ipython, version_information"
   ]
  },
  {
   "cell_type": "code",
   "execution_count": null,
   "metadata": {
    "collapsed": true
   },
   "outputs": [],
   "source": []
  }
 ],
 "metadata": {
  "kernelspec": {
   "display_name": "Python 2",
   "language": "python",
   "name": "python2"
  },
  "language_info": {
   "codemirror_mode": {
    "name": "ipython",
    "version": 2
   },
   "file_extension": ".py",
   "mimetype": "text/x-python",
   "name": "python",
   "nbconvert_exporter": "python",
   "pygments_lexer": "ipython2",
   "version": "2.7.9"
  }
 },
 "nbformat": 4,
 "nbformat_minor": 0
}
