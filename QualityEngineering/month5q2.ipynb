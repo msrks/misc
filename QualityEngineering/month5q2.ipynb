{
 "cells": [
  {
   "cell_type": "code",
   "execution_count": 7,
   "metadata": {
    "collapsed": false,
    "scrolled": true
   },
   "outputs": [
    {
     "name": "stdout",
     "output_type": "stream",
     "text": [
      "Using matplotlib backend: MacOSX\n",
      "Populating the interactive namespace from numpy and matplotlib\n"
     ]
    }
   ],
   "source": [
    "%pylab"
   ]
  },
  {
   "cell_type": "code",
   "execution_count": 8,
   "metadata": {
    "collapsed": true
   },
   "outputs": [],
   "source": [
    "# eq(10.8)\n",
    "def calcL0(A,delta,B,C,n0,u0,D0,l,rho_m):\n",
    "    L0 = B/n0 + C/u0 + A/(delta**2)*((D0**2)/3+((n0+1)/2+l)*(D0**2)/u0+(rho_m**2))\n",
    "    return L0\n",
    "# eq(10.9)\n",
    "def calcN(A,delta,B,u0,D0):\n",
    "    n = np.sqrt(2*u0*B/A)*delta/D0\n",
    "    return n\n",
    "# eq(10.10)\n",
    "def calcD(A,delta,C,u0,D0):\n",
    "    D = (3*C/A*D0*D0/u0*delta*delta)**0.25\n",
    "    return D\n",
    "# eq(10.11)\n",
    "def calcU(u0,D,D0):\n",
    "    u = u0*((D/D0)**2)\n",
    "    return u\n",
    "# eq(10.12)\n",
    "def calcL(A,delta,B,C,n,u,D,l,rho_m):\n",
    "    L = B/n + C/u + A/(delta**2)*((D**2)/3+((n+1)/2+l)*(D**2)/u+(rho_m**2))\n",
    "    return L\n",
    "# eq(10.13)\n",
    "def calcCp(delta,D,n,l,u,rho_m):\n",
    "    Cp = 2*delta/6/np.sqrt((D**2)/3+((n+1)/2+l)*(D**2)/u+(rho_m**2))\n",
    "    return Cp"
   ]
  },
  {
   "cell_type": "markdown",
   "metadata": {},
   "source": [
    "## 5ヶ月目 - 問2\n",
    ">ある部品の曲げ高さの規格は$m_0\\pm70(\\mu{m})$で、規格外になった場合の損失は、部品1個あたり20円である。<br>\n",
    "現在は、18000個間隔で計測し、調整限界($\\pm60\\mu{m}$)を超えたときに工程を調整している。<br>\n",
    "計測コストは250円、平均調整間隔$u_0$は144000個、調整コストは18000円である。<br>\n",
    "なお、タイムラグlは750個、1日(8時間)の生産量は60000個、1ヶ月の稼働は20日である。"
   ]
  },
  {
   "cell_type": "markdown",
   "metadata": {},
   "source": [
    "###1) 最適フィードバック制御システムを設計し、現在よりいくらの利益になるかを年あたりで求めよ。"
   ]
  },
  {
   "cell_type": "markdown",
   "metadata": {},
   "source": [
    "テキストの式eq(10.8)~eq(10.13)に次のパラメータを代入して計算"
   ]
  },
  {
   "cell_type": "code",
   "execution_count": 9,
   "metadata": {
    "collapsed": true
   },
   "outputs": [],
   "source": [
    "A = 20.\n",
    "delta = 70.\n",
    "B = 250.\n",
    "C = 18000.\n",
    "n0 = 18000.\n",
    "u0 = 144000.\n",
    "D0 = 60.\n",
    "l = 750.\n",
    "rho_m = 0. # 計測誤差は、最適システムでも変わらないので比較においては無視する"
   ]
  },
  {
   "cell_type": "markdown",
   "metadata": {},
   "source": [
    "####年間利益"
   ]
  },
  {
   "cell_type": "code",
   "execution_count": 10,
   "metadata": {
    "collapsed": false
   },
   "outputs": [
    {
     "name": "stdout",
     "output_type": "stream",
     "text": [
      "現行での損失は、6.0(円/個)\n",
      "最適フィードバック制御システム\n",
      "- 最適計測間隔:2213個\n",
      "- 最適調整限界:23um\n",
      "- 最適化後の平均調整間隔の予測値:23004個\n",
      "における損失は、1.9(円/個)\n",
      "\n",
      "最適システムによる利益は、4.2(円/個)\n",
      "年間生産量は、14400000(個)\n",
      "したがって、最適システムでは年間59967602(円)の利益になる\n",
      "したがって、最適システムでは年間5997(万円)の利益になる\n",
      "\n"
     ]
    }
   ],
   "source": [
    "L0 = calcL0(A,delta,B,C,n0,u0,D0,l,rho_m)\n",
    "n = calcN(A,delta,B,u0,D0)\n",
    "D = calcD(A,delta,C,u0,D0)\n",
    "u = calcU(u0,D,D0)\n",
    "L = calcL(A,delta,B,C,n,u,D,l,rho_m)\n",
    "print \"現行での損失は、%.1f(円/個)\"%L0\n",
    "print \"最適フィードバック制御システム\"\n",
    "print \"- 最適計測間隔:%d個\"%n\n",
    "print \"- 最適調整限界:%dum\"%D\n",
    "print \"- 最適化後の平均調整間隔の予測値:%d個\"%u\n",
    "print \"における損失は、%.1f(円/個)\\n\"%L\n",
    "\n",
    "print \"最適システムによる利益は、%.1f(円/個)\"%(L0-L)\n",
    "print \"年間生産量は、%d(個)\"%(60000*20*12)\n",
    "print \"したがって、最適システムでは年間%d(円)の利益になる\"%((L0-L)*60000*20*12)\n",
    "print \"したがって、最適システムでは年間%d(万円)の利益になる\\n\"%(((L0-L)*60000*20*12)/10000.+1)#float2intの調整"
   ]
  },
  {
   "cell_type": "markdown",
   "metadata": {},
   "source": [
    "###2) 現行システムと最適システムの工程能力指数を求めよ。"
   ]
  },
  {
   "cell_type": "code",
   "execution_count": 11,
   "metadata": {
    "collapsed": false
   },
   "outputs": [
    {
     "name": "stdout",
     "output_type": "stream",
     "text": [
      "現行システムの工程能力指数は、0.61\n",
      "最適システムの工程能力指数は、1.51\n"
     ]
    }
   ],
   "source": [
    "print \"現行システムの工程能力指数は、%.2f\"%calcCp(delta,D0,n0,l,u0,rho_m)\n",
    "print \"最適システムの工程能力指数は、%.2f\"%calcCp(delta,D ,n ,l,u ,rho_m)"
   ]
  },
  {
   "cell_type": "code",
   "execution_count": 12,
   "metadata": {
    "collapsed": false
   },
   "outputs": [
    {
     "name": "stdout",
     "output_type": "stream",
     "text": [
      "The version_information extension is already loaded. To reload it, use:\n",
      "  %reload_ext version_information\n"
     ]
    },
    {
     "data": {
      "application/json": {
       "Software versions": [
        {
         "module": "Python",
         "version": "2.7.9 64bit [GCC 4.2.1 Compatible Apple LLVM 6.0 (clang-600.0.56)]"
        },
        {
         "module": "IPython",
         "version": "3.0.0-dev"
        },
        {
         "module": "OS",
         "version": "Darwin 14.4.0 x86_64 i386 64bit"
        },
        {
         "module": "numpy",
         "version": "1.10.0.dev+a02f5c8"
        },
        {
         "module": "version_information",
         "version": "1.0.3"
        }
       ]
      },
      "text/html": [
       "<table><tr><th>Software</th><th>Version</th></tr><tr><td>Python</td><td>2.7.9 64bit [GCC 4.2.1 Compatible Apple LLVM 6.0 (clang-600.0.56)]</td></tr><tr><td>IPython</td><td>3.0.0-dev</td></tr><tr><td>OS</td><td>Darwin 14.4.0 x86_64 i386 64bit</td></tr><tr><td>numpy</td><td>1.10.0.dev+a02f5c8</td></tr><tr><td>version_information</td><td>1.0.3</td></tr><tr><td colspan='2'>Sun Jul 26 18:48:15 2015 JST</td></tr></table>"
      ],
      "text/latex": [
       "\\begin{tabular}{|l|l|}\\hline\n",
       "{\\bf Software} & {\\bf Version} \\\\ \\hline\\hline\n",
       "Python & 2.7.9 64bit [GCC 4.2.1 Compatible Apple LLVM 6.0 (clang-600.0.56)] \\\\ \\hline\n",
       "IPython & 3.0.0-dev \\\\ \\hline\n",
       "OS & Darwin 14.4.0 x86\\_64 i386 64bit \\\\ \\hline\n",
       "numpy & 1.10.0.dev+a02f5c8 \\\\ \\hline\n",
       "version_information & 1.0.3 \\\\ \\hline\n",
       "\\hline \\multicolumn{2}{|l|}{Sun Jul 26 18:48:15 2015 JST} \\\\ \\hline\n",
       "\\end{tabular}\n"
      ],
      "text/plain": [
       "Software versions\n",
       "Python 2.7.9 64bit [GCC 4.2.1 Compatible Apple LLVM 6.0 (clang-600.0.56)]\n",
       "IPython 3.0.0-dev\n",
       "OS Darwin 14.4.0 x86_64 i386 64bit\n",
       "numpy 1.10.0.dev+a02f5c8\n",
       "version_information 1.0.3\n",
       "Sun Jul 26 18:48:15 2015 JST"
      ]
     },
     "execution_count": 12,
     "metadata": {},
     "output_type": "execute_result"
    }
   ],
   "source": [
    "%load_ext version_information\n",
    "%version_information numpy, version_information"
   ]
  }
 ],
 "metadata": {
  "kernelspec": {
   "display_name": "Python 2",
   "language": "python",
   "name": "python2"
  },
  "language_info": {
   "codemirror_mode": {
    "name": "ipython",
    "version": 2
   },
   "file_extension": ".py",
   "mimetype": "text/x-python",
   "name": "python",
   "nbconvert_exporter": "python",
   "pygments_lexer": "ipython2",
   "version": "2.7.9"
  }
 },
 "nbformat": 4,
 "nbformat_minor": 0
}
