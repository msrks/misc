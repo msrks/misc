{
 "cells": [
  {
   "cell_type": "markdown",
   "metadata": {},
   "source": [
    "# Quality Engineering\n",
    "\n",
    "M.Riki"
   ]
  },
  {
   "cell_type": "markdown",
   "metadata": {},
   "source": [
    "### 3ヶ月目 問2\n",
    "微粒子分散剤あるいは顔料インクの粘度調整剤として活用されるペースト用ビヒクルは、溶剤でバインダー樹脂を溶解して製造される。\n",
    "ビヒクルの重要な品質特性は粘度であるが、現行の製造条件では、ばらつきが大きく、廃棄や再生などによる損失は、ビヒクル1kgあたり、約65円である。\n",
    "粘度安定性を改善するため、制御因子としてA~Gをとりあげ、直交表$L_{18}$の1~7列にわりつけた。\n",
    "信号因子Mは、粘度を変化させるための因子として樹脂濃度を\n",
    "\n",
    "$$M_1=8\\%, M_2=10\\%, M_3=15\\%$$\n",
    "\n",
    "とし、ノイズは、\n",
    "\n",
    "$$N_1=粘度が低くなる抜き終わり, N_2=粘度が高くなる抜き始め$$\n",
    "\n",
    "として、粘度yを測定した。\n",
    "粘度yは、設定した信号Mの範囲では、Mに比例することが知られているが、M=0でy=0ではないので、$M_1$を基準点にした基準点比例のSN比で評価するのが妥当と考えられる。\n",
    "\n",
    "---"
   ]
  },
  {
   "cell_type": "markdown",
   "metadata": {},
   "source": [
    "#### Initialization"
   ]
  },
  {
   "cell_type": "code",
   "execution_count": 27,
   "metadata": {
    "collapsed": false,
    "scrolled": true
   },
   "outputs": [
    {
     "name": "stdout",
     "output_type": "stream",
     "text": [
      "Populating the interactive namespace from numpy and matplotlib\n"
     ]
    }
   ],
   "source": [
    "%pylab inline\n",
    "import pandas as pd\n",
    "pd.set_option('display.precision', 5)\n",
    "#import seaborn"
   ]
  },
  {
   "cell_type": "code",
   "execution_count": 28,
   "metadata": {
    "collapsed": false
   },
   "outputs": [
    {
     "data": {
      "text/html": [
       "<link href='http://fonts.googleapis.com/css?family=Fenix' rel='stylesheet' type='text/css'>\n",
       "<link href='http://fonts.googleapis.com/css?family=Alegreya+Sans:100,300,400,500,700,800,\n",
       "    900,100italic,300italic,400italic,500italic,700italic,800italic,900italic' rel='stylesheet' type='text/css'>\n",
       "<link href='http://fonts.googleapis.com/css?family=Source+Code+Pro:300,400' rel='stylesheet' type='text/css'>\n",
       "<link href='http://fonts.googleapis.com/css?family=Crimson+Text' rel='stylesheet' type='text/css'>\n",
       "<link href='http://fonts.googleapis.com/css?family=Kameron' rel='stylesheet' type='text/css'>\n",
       "<link href='http://fonts.googleapis.com/css?family=Lato:200' rel='stylesheet' type='text/css'>\n",
       "<link href='http://fonts.googleapis.com/css?family=Lato:300' rel='stylesheet' type='text/css'>\n",
       "<link href='http://fonts.googleapis.com/css?family=Lato:400' rel='stylesheet' type='text/css'>\n",
       "<link href='http://fonts.googleapis.com/css?family=Source+Code+Pro' rel='stylesheet' type='text/css'>\n",
       "\n",
       "<style>\n",
       "\n",
       "@font-face {\n",
       "    font-family: \"Computer Modern\";\n",
       "    src: url('http://mirrors.ctan.org/fonts/cm-unicode/fonts/otf/cmunss.otf');\n",
       "}\n",
       "\n",
       "#notebook_panel { /* establish main background and color */\n",
       "    background: #fff;\n",
       "    color: #ff0000;\n",
       "}\n",
       "\n",
       "div.cell { /* set cell width */\n",
       "    width:800px;\n",
       "    margin-left:0%;\n",
       "    margin-right:auto;\n",
       "}\n",
       "\n",
       "div #notebook { /* centers the content */\n",
       "    background: #fff;\n",
       "    width: 1000px;\n",
       "    margin: auto;\n",
       "    padding-left: 1em;\n",
       "}\n",
       "\n",
       "#notebook li { /* more space between bullet points */\n",
       "    margin-top:0.8em;\n",
       "}\n",
       "\n",
       "/* draw border around running cells */\n",
       "div.cell.border-box-sizing.code_cell.running {\n",
       "    border: 3px solid #111;\n",
       "}\n",
       "\n",
       "/* Put a solid color box around each code cell and its output,\n",
       "     visually linking them together */\n",
       "div.cell.code_cell {\n",
       "    background-color: rgba(171,165,131,0.2);\n",
       "    border-radius: 10px; /* rounded borders */\n",
       "    padding: 1em;\n",
       "    margin-top: 1em;\n",
       "}\n",
       "\n",
       ".CodeMirror {\n",
       "    font-family: \"Source Code Pro\";\n",
       "    font-size: 90%;\n",
       "}\n",
       "\n",
       "div.text_cell_render code {\n",
       "    font-family: \"Source Code Pro\";\n",
       "    font-size: 90%;\n",
       "    color: red;\n",
       "}\n",
       "\n",
       "pre {\n",
       "    font-family: \"Source Code Pro\";\n",
       "    font-size: 90%;\n",
       "}\n",
       "\n",
       "div.text_cell_render { /* rendering of basic text cell */\n",
       "    font-family: 'Alegreya Sans', Computer Modern, \"Helvetica Neue\", Arial, Helvetica, sans-serif;\n",
       "    line-height: 135%;\n",
       "    font-size: 120%;\n",
       "    width:700px;\n",
       "    margin-left:auto;\n",
       "    margin-right:auto;\n",
       "}\n",
       "\n",
       ".text_cell_render h1 {\n",
       "    font-family: 'Alegreya Sans', sans-serif;\n",
       "    font-weight: 300;\n",
       "    font-size: 40pt;\n",
       "    line-height: 100%;\n",
       "    color:#CD2305;\n",
       "    margin-bottom: 0.4em;\n",
       "    margin-top: 0em;\n",
       "    display: block;\n",
       "}\n",
       "\n",
       "h2 {\n",
       "    font-family: 'Fenix', serif;\n",
       "}\n",
       "\n",
       "h3 {\n",
       "    font-family: 'Fenix', serif;\n",
       "    margin-top:12px;\n",
       "    margin-bottom: 3px;\n",
       "}\n",
       "\n",
       "h4 {\n",
       "    font-family: 'Fenix', serif;\n",
       "}\n",
       "\n",
       ".text_cell_render h5 {\n",
       "    font-family: 'Alegreya Sans', sans-serif;\n",
       "    font-weight: 100;\n",
       "    font-size: 16pt;\n",
       "    color: #CD2305;\n",
       "    font-style: italic;\n",
       "    margin-bottom: .5em;\n",
       "    margin-top: 0.5em;\n",
       "    display: block;\n",
       "}\n",
       "\n",
       ".text_cell_render h6 { /*use this for copyright note*/\n",
       "    font-family: 'Alegreya Sans', sans-serif;\n",
       "    font-weight: 400;\n",
       "    font-size: 10pt;\n",
       "    font-style: normal;\n",
       "    line-height: 120%;\n",
       "    margin-bottom: 1px;\n",
       "    margin-top: 1px;\n",
       "}\n",
       "\n",
       ".MathJax, .MathJax_Display  {\n",
       "    font-family: 'Alegreya Sans', sans-serif  !important;\n",
       "    font-size: 90%  !important;\n",
       "    vertical-align: 0px  !important;\n",
       "}\n",
       "\n",
       ".warning{\n",
       "    color: rgb( 240, 20, 20 )\n",
       "}\n",
       "\n",
       "</style>\n",
       "\n",
       "<script>\n",
       "MathJax.Hub.Config({\n",
       "    TeX: {\n",
       "        extensions: [\"AMSmath.js\"]\n",
       "    },\n",
       "    tex2jax: {\n",
       "        inlineMath: [ ['$','$'], [\"\\\\(\",\"\\\\)\"] ],\n",
       "        displayMath: [ ['$$','$$'], [\"\\\\[\",\"\\\\]\"] ],\n",
       "        processEscapes: true\n",
       "    },\n",
       "    displayAlign: 'center', // Change this to 'center' to center equations.\n",
       "    \"HTML-CSS\": {\n",
       "        styles: {'.MathJax_Display': {\"margin\": 4}}\n",
       "    }\n",
       "});\n",
       "</script>\n",
       "\n"
      ],
      "text/plain": [
       "<IPython.core.display.HTML object>"
      ]
     },
     "execution_count": 28,
     "metadata": {},
     "output_type": "execute_result"
    }
   ],
   "source": [
    "from IPython.core.display import HTML\n",
    "HTML(open(\"styles/custom.css\", \"r\").read())"
   ]
  },
  {
   "cell_type": "markdown",
   "metadata": {},
   "source": [
    "#### Function Definition"
   ]
  },
  {
   "cell_type": "code",
   "execution_count": 29,
   "metadata": {
    "collapsed": true
   },
   "outputs": [],
   "source": [
    "def plotEffect(df,margin=0.5):\n",
    "    fig,axes = plt.subplots(1,df.index.size,sharey=True)\n",
    "    fig.set_size_inches(df.index.size*1.5,2)\n",
    "    for i in arange(df.index.size):\n",
    "        ax = axes[i]\n",
    "        ax.plot(df.columns,df.ix[i,:],'o-')\n",
    "        ax.set_xlim(0.7,3.3)\n",
    "        ax.set_ylim(df.min().min()-margin,df.max().max()+margin)\n",
    "        ax.set_title(df.index[i])\n",
    "        ax.set_xticks([1,2,3])\n",
    "    print \"\\n効果図\"\n",
    "    plt.tight_layout()\n",
    "    plt.show()"
   ]
  },
  {
   "cell_type": "code",
   "execution_count": 30,
   "metadata": {
    "collapsed": true
   },
   "outputs": [],
   "source": [
    "# 動特性の２乗和分解\n",
    "def dynamicProp(M,A, calcSN=False, calcS=False, calcB=False, calcStandardSN=False):\n",
    "    # Degree of Freedom\n",
    "    Ft = len(A.index)*len(A.columns)\n",
    "    Fb = 1\n",
    "    Fnb = len(A.index) - 1\n",
    "    Fe = Ft - Fb - Fnb\n",
    "    Fn = Fnb + Fe\n",
    "    # Squared Sum\n",
    "    St = (A*A).sum().sum() #eq(4.7)\n",
    "    L = np.asarray(A).dot(M) # A[3,3]とM[3,1]の行列積[3,1]\n",
    "    r = (M*M).sum()\n",
    "    Sb = (L.sum())**2/len(A.index)/r #eq(4.8)\n",
    "    Snb = (L*L).sum()/r - Sb #eq(4.9)\n",
    "    Se = St - Sb - Snb\n",
    "    Sn = Snb + Se\n",
    "    # Variance\n",
    "    Vb = Sb/Fb\n",
    "    Vnb = Snb/Fnb\n",
    "    Ve = Se/Fe\n",
    "    Vn = Sn/Fn\n",
    "    \n",
    "    # calcSNratio[db]\n",
    "    if calcSN==True:\n",
    "        eta = (1./len(A.index)/r*(Sb-Ve))/Vn #eq(4.15)\n",
    "        return 10*np.log10(eta)\n",
    "    \n",
    "    # calc Standard SN ratio[db]\n",
    "    if calcStandardSN==True:\n",
    "        eta = (Sb-Ve)/Vn #eq(7.8)\n",
    "        return 10*np.log10(eta)\n",
    "    \n",
    "    # calcS[db]\n",
    "    if calcS==True:\n",
    "        S = (1./len(A.index)/r*(Sb-Ve))\n",
    "        return 10*np.log10(S)\n",
    "    \n",
    "    # calcB\n",
    "    if calcB==True:\n",
    "        beta = L.mean()/r\n",
    "        return beta\n",
    "    \n",
    "    # PrintTable\n",
    "    data = {'F': [Fb,Fnb,Fe,Fn,Ft], 'S':[Sb,Snb,Se,Sn,St], 'V':[Vb,Vnb,Ve,Vn,nan]}\n",
    "    df = pd.DataFrame(data=data, index=[\"b\",\"N*b\",\"e\",\"(N)\",\"T\"])\n",
    "    print df"
   ]
  },
  {
   "cell_type": "markdown",
   "metadata": {},
   "source": [
    "---\n",
    "\n",
    "#### 1) No.1のデータは以下のようである。$M_1$を基準点にした基準点比例のSN比を求めよ。"
   ]
  },
  {
   "cell_type": "markdown",
   "metadata": {},
   "source": [
    "N1のデータ↓"
   ]
  },
  {
   "cell_type": "code",
   "execution_count": 31,
   "metadata": {
    "collapsed": false,
    "scrolled": true
   },
   "outputs": [
    {
     "name": "stdout",
     "output_type": "stream",
     "text": [
      "\n",
      "A\n",
      "       M1     M2     M3\n",
      "N1  34.16  55.30  92.37\n",
      "N2  33.18  58.13  92.47\n"
     ]
    },
    {
     "data": {
      "image/png": "[encoded data removed]",
      "text/plain": [
       "<matplotlib.figure.Figure at 0x10841ebd0>"
      ]
     },
     "metadata": {},
     "output_type": "display_data"
    }
   ],
   "source": [
    "MnoFix = np.asarray([8, 10, 15])\n",
    "AnoFix = pd.DataFrame([[34.16,55.30,92.37],\n",
    "                      [33.18,58.13,92.47]],\n",
    "                     index=[\"N1\",\"N2\"],\n",
    "                     columns=[\"M1\",\"M2\",\"M3\"])\n",
    "print \"\\nA\\n\",AnoFix\n",
    "fig = figure(figsize=(4,4))\n",
    "ax = plt.subplot(111)\n",
    "ax.plot(MnoFix,AnoFix.T,'*-')\n",
    "ax.set_title(\"No.1\")\n",
    "ax.legend([\"N1\",\"N2\"],loc=\"best\")\n",
    "ax.set_xlim(0,20)\n",
    "ax.set_ylim(0,100)\n",
    "plt.show()"
   ]
  },
  {
   "cell_type": "markdown",
   "metadata": {},
   "source": [
    "$M_1$を基準点にして補正したデータは以下のようになる。"
   ]
  },
  {
   "cell_type": "code",
   "execution_count": 32,
   "metadata": {
    "collapsed": false,
    "scrolled": true
   },
   "outputs": [
    {
     "name": "stdout",
     "output_type": "stream",
     "text": [
      "M\n",
      "[0 2 7]\n",
      "\n",
      "A\n",
      "      M1     M2    M3\n",
      "N1  0.49  21.63  58.7\n",
      "N2 -0.49  24.46  58.8\n"
     ]
    }
   ],
   "source": [
    "M = MnoFix-MnoFix[0]\n",
    "A = AnoFix-AnoFix[\"M1\"].mean()\n",
    "print \"M\\n\", M\n",
    "print \"\\nA\\n\",A"
   ]
  },
  {
   "cell_type": "markdown",
   "metadata": {},
   "source": [
    "No.1の2乗和分解表する"
   ]
  },
  {
   "cell_type": "code",
   "execution_count": 33,
   "metadata": {
    "collapsed": false
   },
   "outputs": [
    {
     "name": "stdout",
     "output_type": "stream",
     "text": [
      "No.1の2乗和分解表\n",
      "     F          S          V\n",
      "b    1  7892.8255  7892.8255\n",
      "N*b  1     0.3816     0.3816\n",
      "e    4    76.5516    19.1379\n",
      "(N)  5    76.9332    15.3866\n",
      "T    6  7969.7587        NaN\n"
     ]
    }
   ],
   "source": [
    "print \"No.1の2乗和分解表\"\n",
    "dynamicProp(M,A)  "
   ]
  },
  {
   "cell_type": "code",
   "execution_count": 34,
   "metadata": {
    "collapsed": false,
    "scrolled": true
   },
   "outputs": [
    {
     "name": "stdout",
     "output_type": "stream",
     "text": [
      "No.1のSN比は、6.84(db)\n"
     ]
    }
   ],
   "source": [
    "print \"No.1のSN比は、%.2f(db)\"%dynamicProp(M,A, calcSN=True)"
   ]
  },
  {
   "cell_type": "markdown",
   "metadata": {},
   "source": [
    "    No.1のSN比は、6.84(db)"
   ]
  },
  {
   "cell_type": "markdown",
   "metadata": {},
   "source": [
    "---\n",
    "\n",
    "#### 2) SN比の補助表（水準別合計）は次のようである。次の最適条件のSN比を推定し、現行条件のSN比(すべて第1水準)に対する利得を求めよ。"
   ]
  },
  {
   "cell_type": "code",
   "execution_count": 35,
   "metadata": {
    "collapsed": false,
    "scrolled": true
   },
   "outputs": [
    {
     "name": "stdout",
     "output_type": "stream",
     "text": [
      "\n",
      "SN比の水準別合計\n",
      "       1      2      3\n",
      "A  74.69  44.76    NaN\n",
      "B  41.94  40.51  37.00\n",
      "C  39.59  40.83  39.03\n",
      "D  37.87  38.63  42.95\n",
      "E  37.80  36.76  44.89\n",
      "F  39.56  39.02  40.87\n",
      "G  35.62  39.87  43.96\n"
     ]
    }
   ],
   "source": [
    "SNsum = pd.DataFrame([[74.69,44.76,nan],\n",
    "                      [41.94,40.51,37.00],\n",
    "                      [39.59,40.83,39.03],\n",
    "                      [37.87,38.63,42.95],\n",
    "                      [37.80,36.76,44.89],\n",
    "                      [39.56,39.02,40.87],\n",
    "                      [35.62,39.87,43.96]],\n",
    "                     index=list(\"ABCDEFG\"),\n",
    "                     columns=[\"1\",\"2\",\"3\"])\n",
    "print \"\\nSN比の水準別合計\\n\",SNsum"
   ]
  },
  {
   "cell_type": "code",
   "execution_count": 36,
   "metadata": {
    "collapsed": false,
    "scrolled": true
   },
   "outputs": [
    {
     "name": "stdout",
     "output_type": "stream",
     "text": [
      "\n",
      "SN比の水準別平均\n",
      "        1       2       3\n",
      "A  8.2989  4.9733     NaN\n",
      "B  6.9900  6.7517  6.1667\n",
      "C  6.5983  6.8050  6.5050\n",
      "D  6.3117  6.4383  7.1583\n",
      "E  6.3000  6.1267  7.4817\n",
      "F  6.5933  6.5033  6.8117\n",
      "G  5.9367  6.6450  7.3267\n",
      "\n",
      "効果図\n"
     ]
    },
    {
     "data": {
      "image/png": "[encoded data removed]",
      "text/plain": [
       "<matplotlib.figure.Figure at 0x1087eaf90>"
      ]
     },
     "metadata": {},
     "output_type": "display_data"
    }
   ],
   "source": [
    "SNave = pd.DataFrame.copy(SNsum)\n",
    "SNave.ix[:1,:] = SNsum.ix[:1,:]/9\n",
    "SNave.ix[1:,:] = SNsum.ix[1:,:]/6\n",
    "print \"\\nSN比の水準別平均\\n\",SNave\n",
    "plotEffect(SNave)"
   ]
  },
  {
   "cell_type": "markdown",
   "metadata": {},
   "source": [
    "最適条件はA1B1C2D3E3F3G3である"
   ]
  },
  {
   "cell_type": "code",
   "execution_count": 37,
   "metadata": {
    "collapsed": false
   },
   "outputs": [
    {
     "name": "stdout",
     "output_type": "stream",
     "text": [
      "最適条件のSN比は、11.1(db)\n",
      "現行条件のSN比は、7.2(db)\n",
      "\n",
      "利得は、3.8(db)。真数に直すと、2.42。\n"
     ]
    }
   ],
   "source": [
    "ave = SNsum.sum(1)[0]/18\n",
    "eta_opt = SNave.ix[\"A\",\"1\"]+SNave.ix[\"B\",\"1\"]+SNave.ix[\"C\",\"2\"]\\\n",
    "+SNave.ix[\"D\",\"3\"]+SNave.ix[\"E\",\"3\"]+SNave.ix[\"F\",\"3\"]+SNave.ix[\"G\",\"3\"]-6*ave\n",
    "eta_ini = SNave.sum(0)[0]-6*ave \n",
    "eta_diff = eta_opt-eta_ini\n",
    "print \"最適条件のSN比は、%.1f(db)\"%eta_opt\n",
    "print \"現行条件のSN比は、%.1f(db)\"%eta_ini\n",
    "print \"\\n利得は、%.1f(db)。真数に直すと、%.2f。\"%(eta_diff, 10**(eta_diff/10))"
   ]
  },
  {
   "cell_type": "markdown",
   "metadata": {},
   "source": [
    "    最適条件のSN比は、11.1(db)\n",
    "    現行条件のSN比は、7.2(db)\n",
    "    利得は、3.8(db)。真数に直すと、2.42。"
   ]
  },
  {
   "cell_type": "markdown",
   "metadata": {},
   "source": [
    "---\n",
    "\n",
    "#### 3)最適条件について品質水準を求めよ。"
   ]
  },
  {
   "cell_type": "markdown",
   "metadata": {},
   "source": [
    "現行の品質水準は65(円/kg)であり、(2)より最適条件では2.42の利得があるから、"
   ]
  },
  {
   "cell_type": "code",
   "execution_count": 38,
   "metadata": {
    "collapsed": false
   },
   "outputs": [
    {
     "name": "stdout",
     "output_type": "stream",
     "text": [
      "最適条件の品質水準は、26(円/kg)\n"
     ]
    }
   ],
   "source": [
    "print \"最適条件の品質水準は、%d(円/kg)\"%(65/2.42)"
   ]
  },
  {
   "cell_type": "markdown",
   "metadata": {},
   "source": [
    "    最適条件の品質水準は、26(円/kg)"
   ]
  },
  {
   "cell_type": "markdown",
   "metadata": {},
   "source": [
    "---\n",
    "\n",
    "#### 4)各因子の現行水準に対する水準別のコスト差は次表のとおりである。コストを含めた場合、SN比の最適条件と現行条件の優劣を比較せよ。コストを考慮したとき、さらに有利な条件があるか検討せよ。"
   ]
  },
  {
   "cell_type": "code",
   "execution_count": 39,
   "metadata": {
    "collapsed": false
   },
   "outputs": [
    {
     "name": "stdout",
     "output_type": "stream",
     "text": [
      "\n",
      "現行水準に対するコスト差(円/kg)\n",
      "   1     2    3\n",
      "A  0  27.8  NaN\n",
      "B  0   6.5 -7.2\n",
      "C  0   7.5 -4.5\n",
      "D  0   3.8  7.5\n",
      "E  0   3.0  6.0\n",
      "F  0   2.4  4.8\n",
      "G  0   0.6  1.3\n"
     ]
    }
   ],
   "source": [
    "cost = pd.DataFrame([[0.0,27.8,nan],\n",
    "                      [0.0,6.5,-7.2],\n",
    "                      [0.0,7.5,-4.5],\n",
    "                      [0.0,3.8,7.5],\n",
    "                      [0.0,3.0,6.0],\n",
    "                      [0.0,2.4,4.8],\n",
    "                      [0.0,0.6,1.3]],\n",
    "                     index=list(\"ABCDEFG\"),\n",
    "                     columns=[\"1\",\"2\",\"3\"])\n",
    "print \"\\n現行水準に対するコスト差(円/kg)\\n\",cost"
   ]
  },
  {
   "cell_type": "markdown",
   "metadata": {},
   "source": [
    "最適条件A1B1C2D3E3F3G3におけるコストアップは"
   ]
  },
  {
   "cell_type": "code",
   "execution_count": 40,
   "metadata": {
    "collapsed": false
   },
   "outputs": [
    {
     "name": "stdout",
     "output_type": "stream",
     "text": [
      "27(円/kg)\n"
     ]
    }
   ],
   "source": [
    "cost_opt = cost.ix[\"A\",\"1\"]+cost.ix[\"B\",\"1\"]+cost.ix[\"C\",\"2\"]\\\n",
    "+cost.ix[\"D\",\"3\"]+cost.ix[\"E\",\"3\"]+cost.ix[\"F\",\"3\"]+cost.ix[\"G\",\"3\"]\n",
    "print \"%d(円/kg)\"%(cost_opt)"
   ]
  },
  {
   "cell_type": "markdown",
   "metadata": {},
   "source": [
    "最適条件の品質にコストアップを含めても"
   ]
  },
  {
   "cell_type": "code",
   "execution_count": 41,
   "metadata": {
    "collapsed": false
   },
   "outputs": [
    {
     "name": "stdout",
     "output_type": "stream",
     "text": [
      "53(円/kg)\n"
     ]
    }
   ],
   "source": [
    "print \"%d(円/kg)\"%(cost_opt+65/2.42)"
   ]
  },
  {
   "cell_type": "markdown",
   "metadata": {},
   "source": [
    "    となり、現行の65(円/kg)よりも優れている"
   ]
  },
  {
   "cell_type": "markdown",
   "metadata": {},
   "source": [
    "\n",
    "**さらに有利な条件があるかの検討**\n",
    "\n",
    "(2)で導出した、SN比の水準別平均表をすべてコスト変化量に換算すると"
   ]
  },
  {
   "cell_type": "code",
   "execution_count": 42,
   "metadata": {
    "collapsed": false
   },
   "outputs": [
    {
     "name": "stdout",
     "output_type": "stream",
     "text": [
      "\n",
      "SN比の、現行水準に対するコスト差換算(円/kg)\n",
      "   1        2        3\n",
      "A  0  74.7877      NaN\n",
      "B  0   3.6668  13.5682\n",
      "C  0  -3.0207   1.4120\n",
      "D  0  -1.8684 -11.5132\n",
      "E  0   2.6467 -15.4839\n",
      "F  0   1.3611  -3.1870\n",
      "G  0  -9.7821 -17.8031\n"
     ]
    }
   ],
   "source": [
    "SNcost = pd.DataFrame.copy(SNave)\n",
    "SNcost.ix[:,0] = 0\n",
    "SNcost.ix[:,1] = 65/(10**((SNave.ix[:,1]-SNave.ix[:,0])/10))-65\n",
    "SNcost.ix[:,2] = 65/(10**((SNave.ix[:,2]-SNave.ix[:,0])/10))-65\n",
    "print \"\\nSN比の、現行水準に対するコスト差換算(円/kg)\\n\",SNcost"
   ]
  },
  {
   "cell_type": "code",
   "execution_count": 43,
   "metadata": {
    "collapsed": false
   },
   "outputs": [
    {
     "name": "stdout",
     "output_type": "stream",
     "text": [
      "\n",
      "品質水準とコストを合わせた各水準への変更効果(円/kg)\n",
      "   1         2        3\n",
      "A  0  102.5877      NaN\n",
      "B  0   10.1668   6.3682\n",
      "C  0    4.4793  -3.0880\n",
      "D  0    1.9316  -4.0132\n",
      "E  0    5.6467  -9.4839\n",
      "F  0    3.7611   1.6130\n",
      "G  0   -9.1821 -16.5031\n",
      "\n",
      "効果図\n"
     ]
    },
    {
     "data": {
      "image/png": "[encoded data removed]",
      "text/plain": [
       "<matplotlib.figure.Figure at 0x104a44790>"
      ]
     },
     "metadata": {},
     "output_type": "display_data"
    }
   ],
   "source": [
    "quality = cost + SNcost\n",
    "print \"\\n品質水準とコストを合わせた各水準への変更効果(円/kg)\\n\", quality\n",
    "plotEffect(quality,margin=10)"
   ]
  },
  {
   "cell_type": "markdown",
   "metadata": {},
   "source": [
    "したがって、コストまで考慮した最適水準はA1B1C3D3E3F1G3で、\n",
    "このときの品質特性は、"
   ]
  },
  {
   "cell_type": "code",
   "execution_count": 44,
   "metadata": {
    "collapsed": false,
    "scrolled": true
   },
   "outputs": [
    {
     "name": "stdout",
     "output_type": "stream",
     "text": [
      "31(円/kg)\n"
     ]
    }
   ],
   "source": [
    "quality_opt = 65 + quality.ix[\"A\",\"1\"]+quality.ix[\"B\",\"1\"]+quality.ix[\"C\",\"3\"]\\\n",
    "+quality.ix[\"D\",\"3\"]+quality.ix[\"E\",\"3\"]+quality.ix[\"F\",\"1\"]+quality.ix[\"G\",\"3\"]\n",
    "print \"%d(円/kg)\"%(quality_opt)"
   ]
  },
  {
   "cell_type": "markdown",
   "metadata": {},
   "source": [
    "    となり、SN比のみを考慮した最適条件の場合=53(円/kg)よりもさらに有利な条件である。"
   ]
  },
  {
   "cell_type": "markdown",
   "metadata": {},
   "source": [
    "---\n",
    "\n",
    "#### Library Version"
   ]
  },
  {
   "cell_type": "code",
   "execution_count": 45,
   "metadata": {
    "collapsed": false
   },
   "outputs": [
    {
     "name": "stdout",
     "output_type": "stream",
     "text": [
      "The version_information extension is already loaded. To reload it, use:\n",
      "  %reload_ext version_information\n"
     ]
    },
    {
     "data": {
      "application/json": {
       "Software versions": [
        {
         "module": "Python",
         "version": "2.7.9 64bit [GCC 4.2.1 Compatible Apple LLVM 6.0 (clang-600.0.56)]"
        },
        {
         "module": "IPython",
         "version": "4.0.0"
        },
        {
         "module": "OS",
         "version": "Darwin 14.4.0 x86_64 i386 64bit"
        },
        {
         "module": "numpy",
         "version": "1.10.0.dev+a02f5c8"
        },
        {
         "module": "matplotlib",
         "version": "1.4.2"
        },
        {
         "module": "pandas",
         "version": "0.16.0"
        },
        {
         "module": "version_information",
         "version": "1.0.3"
        }
       ]
      },
      "text/html": [
       "<table><tr><th>Software</th><th>Version</th></tr><tr><td>Python</td><td>2.7.9 64bit [GCC 4.2.1 Compatible Apple LLVM 6.0 (clang-600.0.56)]</td></tr><tr><td>IPython</td><td>4.0.0</td></tr><tr><td>OS</td><td>Darwin 14.4.0 x86_64 i386 64bit</td></tr><tr><td>numpy</td><td>1.10.0.dev+a02f5c8</td></tr><tr><td>matplotlib</td><td>1.4.2</td></tr><tr><td>pandas</td><td>0.16.0</td></tr><tr><td>version_information</td><td>1.0.3</td></tr><tr><td colspan='2'>Wed Aug 12 23:47:29 2015 JST</td></tr></table>"
      ],
      "text/latex": [
       "\\begin{tabular}{|l|l|}\\hline\n",
       "{\\bf Software} & {\\bf Version} \\\\ \\hline\\hline\n",
       "Python & 2.7.9 64bit [GCC 4.2.1 Compatible Apple LLVM 6.0 (clang-600.0.56)] \\\\ \\hline\n",
       "IPython & 4.0.0 \\\\ \\hline\n",
       "OS & Darwin 14.4.0 x86\\_64 i386 64bit \\\\ \\hline\n",
       "numpy & 1.10.0.dev+a02f5c8 \\\\ \\hline\n",
       "matplotlib & 1.4.2 \\\\ \\hline\n",
       "pandas & 0.16.0 \\\\ \\hline\n",
       "version_information & 1.0.3 \\\\ \\hline\n",
       "\\hline \\multicolumn{2}{|l|}{Wed Aug 12 23:47:29 2015 JST} \\\\ \\hline\n",
       "\\end{tabular}\n"
      ],
      "text/plain": [
       "Software versions\n",
       "Python 2.7.9 64bit [GCC 4.2.1 Compatible Apple LLVM 6.0 (clang-600.0.56)]\n",
       "IPython 4.0.0\n",
       "OS Darwin 14.4.0 x86_64 i386 64bit\n",
       "numpy 1.10.0.dev+a02f5c8\n",
       "matplotlib 1.4.2\n",
       "pandas 0.16.0\n",
       "version_information 1.0.3\n",
       "Wed Aug 12 23:47:29 2015 JST"
      ]
     },
     "execution_count": 45,
     "metadata": {},
     "output_type": "execute_result"
    }
   ],
   "source": [
    "%load_ext version_information\n",
    "%version_information numpy, matplotlib, pandas, version_information"
   ]
  }
 ],
 "metadata": {
  "kernelspec": {
   "display_name": "Python 2",
   "language": "python",
   "name": "python2"
  },
  "language_info": {
   "codemirror_mode": {
    "name": "ipython",
    "version": 2
   },
   "file_extension": ".py",
   "mimetype": "text/x-python",
   "name": "python",
   "nbconvert_exporter": "python",
   "pygments_lexer": "ipython2",
   "version": "2.7.9"
  }
 },
 "nbformat": 4,
 "nbformat_minor": 0
}
