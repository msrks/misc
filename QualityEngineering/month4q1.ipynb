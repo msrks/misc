{
 "cells": [
  {
   "cell_type": "code",
   "execution_count": 1,
   "metadata": {
    "collapsed": false,
    "scrolled": true
   },
   "outputs": [
    {
     "name": "stdout",
     "output_type": "stream",
     "text": [
      "Populating the interactive namespace from numpy and matplotlib\n"
     ]
    }
   ],
   "source": [
    "%pylab inline\n",
    "import pandas as pd\n",
    "pd.set_option('display.precision', 5)"
   ]
  },
  {
   "cell_type": "code",
   "execution_count": 2,
   "metadata": {
    "collapsed": true
   },
   "outputs": [],
   "source": [
    "def plotEffect(df,margin=0.5):\n",
    "    fig,axes = plt.subplots(1,df.index.size,sharey=True)\n",
    "    fig.set_size_inches(df.index.size*1.5,2)\n",
    "    for i in arange(df.index.size):\n",
    "        ax = axes[i]\n",
    "        ax.plot(df.columns,df.ix[i,:],'o-')\n",
    "        ax.set_xlim(0.7,3.3)\n",
    "        ax.set_ylim(df.min().min()-margin,df.max().max()+margin)\n",
    "        ax.set_title(df.index[i])\n",
    "        ax.set_xticks([1,2,3])\n",
    "    print \"\\n効果図\"\n",
    "    plt.tight_layout()\n",
    "    plt.show()"
   ]
  },
  {
   "cell_type": "code",
   "execution_count": 3,
   "metadata": {
    "collapsed": true
   },
   "outputs": [],
   "source": [
    "# 動特性の２乗和分解\n",
    "def dynamicProp(M,A, calcSN=False, calcS=False, calcB=False, calcStandardSN=False):\n",
    "    # Degree of Freedom\n",
    "    Ft = len(A.index)*len(A.columns)\n",
    "    Fb = 1\n",
    "    Fnb = len(A.index) - 1\n",
    "    Fe = Ft - Fb - Fnb\n",
    "    Fn = Fnb + Fe\n",
    "    # Squared Sum\n",
    "    St = (A*A).sum().sum() #eq(4.7)\n",
    "    L = np.asarray(A).dot(M) # A[3,3]とM[3,1]の行列積[3,1]\n",
    "    r = (M*M).sum()\n",
    "    Sb = (L.sum())**2/len(A.index)/r #eq(4.8)\n",
    "    Snb = (L*L).sum()/r - Sb #eq(4.9)\n",
    "    Se = St - Sb - Snb\n",
    "    Sn = Snb + Se\n",
    "    # Variance\n",
    "    Vb = Sb/Fb\n",
    "    Vnb = Snb/Fnb\n",
    "    Ve = Se/Fe\n",
    "    Vn = Sn/Fn\n",
    "    \n",
    "    # calcSNratio[db]\n",
    "    if calcSN==True:\n",
    "        eta = (1./len(A.index)/r*(Sb-Ve))/Vn #eq(4.15)\n",
    "        return 10*np.log10(eta)\n",
    "    \n",
    "    # calc Standard SN ratio[db]\n",
    "    if calcStandardSN==True:\n",
    "        eta = (Sb-Ve)/Vn #eq(7.8)\n",
    "        return 10*np.log10(eta)\n",
    "    \n",
    "    # calcS[db]\n",
    "    if calcS==True:\n",
    "        S = (1./len(A.index)/r*(Sb-Ve))\n",
    "        return 10*np.log10(S)\n",
    "    \n",
    "    # calcB\n",
    "    if calcB==True:\n",
    "        beta = L.mean()/r\n",
    "        return beta\n",
    "    \n",
    "    # PrintTable\n",
    "    data = {'F': [Fb,Fnb,Fe,Fn,Ft], 'S':[Sb,Snb,Se,Sn,St], 'V':[Vb,Vnb,Ve,Vn,nan]}\n",
    "    df = pd.DataFrame(data=data, index=[\"b\",\"N*b\",\"e\",\"(N)\",\"T\"])\n",
    "    print df"
   ]
  },
  {
   "cell_type": "markdown",
   "metadata": {},
   "source": [
    "## 4ヶ月目 - 問1\n",
    ">応答高速性が要求されるある制御回路では、電流急変速度\n",
    "$$M_1=100, M_2=200, M_3=300 (A/\\mu{s})$$\n",
    "に対する出力変動yの目標値mは\n",
    "$$m_1=0, M_2=50, M_3=67 (mV)$$\n",
    "である。パラメータ設計のために6個の回路素子A,B,C,D,E,Fを各3水準にとり、<br>\n",
    "直交表$L_{18}$の3~8列にわりつけ、$L_{18}$の各条件で3水準の信号に対する出力電圧変動yを\n",
    "$$N_1=負側最悪条件, N_0=標準条件, N_2=正側最悪条件$$\n",
    "で回路シミュレーションで求め、$N_0$を信号とした標準SN比(db)を計算した。<br>\n",
    "また、目的機能に対する合わせ込みを検討するため、目標値を信号m、標準条件$N_0$の出力をyとし、<br>\n",
    "次の直交展開を行い、$\\beta_1, \\beta_2$を、第8章注の式(8.15),(8.16)に従って計算した。\n",
    "$$y=\\beta_1m+\\beta_2(-\\frac{K_3}{K_2}m+m^2)$$\n",
    "標準SN比および$\\beta_1, \\beta_2$に関する水準別合計と効果図を示す。<br>\n",
    "なお、いずれについても分散分析表は示していないが、有意と認められる因子については、効果図に*印を付した"
   ]
  },
  {
   "cell_type": "markdown",
   "metadata": {},
   "source": [
    "###1) 標準SN比の最適条件を指摘し、最適条件と現行条件A2B2C2D2E2F2のSN比を推定せよ。"
   ]
  },
  {
   "cell_type": "code",
   "execution_count": 4,
   "metadata": {
    "collapsed": false,
    "scrolled": true
   },
   "outputs": [
    {
     "name": "stdout",
     "output_type": "stream",
     "text": [
      "\n",
      "標準SN比の水準別合計\n",
      "       1      2      3\n",
      "A  115.1  128.1  134.0\n",
      "B  129.8  125.0  122.4\n",
      "C  131.5  126.0  119.7\n",
      "D  126.0  123.4  127.8\n",
      "E  130.7  124.5  122.0\n",
      "F  135.3  125.2  116.7\n"
     ]
    }
   ],
   "source": [
    "SNsum = pd.DataFrame([[115.1,128.1,134.0],\n",
    "                      [129.8,125.0,122.4],\n",
    "                      [131.5,126.0,119.7],\n",
    "                      [126.0,123.4,127.8],\n",
    "                      [130.7,124.5,122.0],\n",
    "                      [135.3,125.2,116.7]],\n",
    "                     index=list(\"ABCDEF\"),\n",
    "                     columns=[\"1\",\"2\",\"3\"])\n",
    "print \"\\n標準SN比の水準別合計\\n\",SNsum"
   ]
  },
  {
   "cell_type": "code",
   "execution_count": 5,
   "metadata": {
    "collapsed": false,
    "scrolled": false
   },
   "outputs": [
    {
     "name": "stdout",
     "output_type": "stream",
     "text": [
      "\n",
      "標準SN比の水準別平均\n",
      "         1        2        3\n",
      "A  19.1833  21.3500  22.3333\n",
      "B  21.6333  20.8333  20.4000\n",
      "C  21.9167  21.0000  19.9500\n",
      "D  21.0000  20.5667  21.3000\n",
      "E  21.7833  20.7500  20.3333\n",
      "F  22.5500  20.8667  19.4500\n",
      "\n",
      "効果図\n"
     ]
    },
    {
     "data": {
      "image/png": "[encoded data removed]",
      "text/plain": [
       "<matplotlib.figure.Figure at 0x1126b6cd0>"
      ]
     },
     "metadata": {},
     "output_type": "display_data"
    }
   ],
   "source": [
    "SNave = pd.DataFrame.copy(SNsum)/6\n",
    "print \"\\n標準SN比の水準別平均\\n\",SNave\n",
    "plotEffect(SNave)"
   ]
  },
  {
   "cell_type": "markdown",
   "metadata": {},
   "source": [
    "最適条件はA3B1C1D3E1F1である(なお最適条件のSN比の計算にはABCEFを使う。つまりDは使わない）"
   ]
  },
  {
   "cell_type": "code",
   "execution_count": 6,
   "metadata": {
    "collapsed": false
   },
   "outputs": [
    {
     "name": "stdout",
     "output_type": "stream",
     "text": [
      "最適条件のSN比は、26.4(db)\n",
      "現行条件のSN比は、21.0(db)\n",
      "\n",
      "利得は、5.4(db)。真数に直すと、3.48。\n"
     ]
    }
   ],
   "source": [
    "ave = SNsum.sum(1)[0]/18\n",
    "eta_opt = SNave.ix[\"A\",\"3\"]+SNave.ix[\"B\",\"1\"]+SNave.ix[\"C\",\"1\"]+SNave.ix[\"E\",\"1\"]+SNave.ix[\"F\",\"1\"]-4*ave\n",
    "eta_ini = SNave.ix[\"A\",\"2\"]+SNave.ix[\"B\",\"2\"]+SNave.ix[\"C\",\"2\"]+SNave.ix[\"E\",\"2\"]+SNave.ix[\"F\",\"2\"]-4*ave\n",
    "eta_diff = eta_opt-eta_ini\n",
    "print \"最適条件のSN比は、%.1f(db)\"%eta_opt\n",
    "print \"現行条件のSN比は、%.1f(db)\"%eta_ini\n",
    "print \"\\n利得は、%.1f(db)。真数に直すと、%.2f。\"%(eta_diff, 10**(eta_diff/10))"
   ]
  },
  {
   "cell_type": "markdown",
   "metadata": {},
   "source": [
    "###2) 最適条件と現行条件の$\\beta_1, \\beta_2$を推定せよ。"
   ]
  },
  {
   "cell_type": "markdown",
   "metadata": {},
   "source": [
    "#### $\\beta_1$の推定"
   ]
  },
  {
   "cell_type": "code",
   "execution_count": 7,
   "metadata": {
    "collapsed": false,
    "scrolled": true
   },
   "outputs": [
    {
     "name": "stdout",
     "output_type": "stream",
     "text": [
      "\n",
      "¥beta1の水準別合計\n",
      "       1      2      3\n",
      "A  12.39  11.12  10.86\n",
      "B  10.15  11.25  12.97\n",
      "C  10.29  11.30  12.78\n",
      "D  11.53  11.34  11.49\n",
      "E  10.63  11.45  12.29\n",
      "F  11.12  11.35  11.90\n"
     ]
    }
   ],
   "source": [
    "B1sum = pd.DataFrame([[12.39,11.12,10.86],\n",
    "                      [10.15,11.25,12.97],\n",
    "                      [10.29,11.30,12.78],\n",
    "                      [11.53,11.34,11.49],\n",
    "                      [10.63,11.45,12.29],\n",
    "                      [11.12,11.35,11.90]],\n",
    "                     index=list(\"ABCDEF\"),\n",
    "                     columns=[\"1\",\"2\",\"3\"])\n",
    "print \"\\n¥beta1の水準別合計\\n\",B1sum"
   ]
  },
  {
   "cell_type": "code",
   "execution_count": 8,
   "metadata": {
    "collapsed": false,
    "scrolled": true
   },
   "outputs": [
    {
     "name": "stdout",
     "output_type": "stream",
     "text": [
      "\n",
      "¥beta1の水準別平均\n",
      "        1       2       3\n",
      "A  2.0650  1.8533  1.8100\n",
      "B  1.6917  1.8750  2.1617\n",
      "C  1.7150  1.8833  2.1300\n",
      "D  1.9217  1.8900  1.9150\n",
      "E  1.7717  1.9083  2.0483\n",
      "F  1.8533  1.8917  1.9833\n",
      "\n",
      "効果図\n"
     ]
    },
    {
     "data": {
      "image/png": "[encoded data removed]",
      "text/plain": [
       "<matplotlib.figure.Figure at 0x1126b6b10>"
      ]
     },
     "metadata": {},
     "output_type": "display_data"
    }
   ],
   "source": [
    "B1ave = pd.DataFrame.copy(B1sum)/6\n",
    "print \"\\n¥beta1の水準別平均\\n\",B1ave\n",
    "plotEffect(B1ave,margin=0.1)"
   ]
  },
  {
   "cell_type": "markdown",
   "metadata": {},
   "source": [
    "(1)より最適条件はA3B1C1D3E1F1であるが、$\\beta_1$の計算にはABCEを使う。つまりDFは使わない。"
   ]
  },
  {
   "cell_type": "code",
   "execution_count": 9,
   "metadata": {
    "collapsed": false
   },
   "outputs": [
    {
     "name": "stdout",
     "output_type": "stream",
     "text": [
      "最適条件の¥beta1は、1.26\n",
      "現行条件の¥beta1は、1.79\n"
     ]
    }
   ],
   "source": [
    "ave = B1sum.sum(1)[0]/18\n",
    "beta1_opt = B1ave.ix[\"A\",\"3\"]+B1ave.ix[\"B\",\"1\"]+B1ave.ix[\"C\",\"1\"]+B1ave.ix[\"E\",\"1\"]-3*ave\n",
    "beta1_ini = B1ave.ix[\"A\",\"2\"]+B1ave.ix[\"B\",\"2\"]+B1ave.ix[\"C\",\"2\"]+B1ave.ix[\"E\",\"2\"]-3*ave\n",
    "beta1_diff = beta1_opt-beta1_ini\n",
    "print \"最適条件の¥beta1は、%.2f\"%beta1_opt\n",
    "print \"現行条件の¥beta1は、%.2f\"%beta1_ini"
   ]
  },
  {
   "cell_type": "markdown",
   "metadata": {},
   "source": [
    "#### $\\beta_2$の推定"
   ]
  },
  {
   "cell_type": "code",
   "execution_count": 10,
   "metadata": {
    "collapsed": false,
    "scrolled": true
   },
   "outputs": [
    {
     "name": "stdout",
     "output_type": "stream",
     "text": [
      "\n",
      "¥beta2の水準別合計\n",
      "       1      2      3\n",
      "A -0.155 -0.123 -0.104\n",
      "B -0.111 -0.137 -0.134\n",
      "C -0.112 -0.133 -0.138\n",
      "D -0.123 -0.132 -0.128\n",
      "E -0.126 -0.128 -0.128\n",
      "F -0.106 -0.135 -0.141\n"
     ]
    }
   ],
   "source": [
    "B2sum = pd.DataFrame([[-0.155,-0.123,-0.104],\n",
    "                      [-0.111,-0.137,-0.134],\n",
    "                      [-0.112,-0.133,-0.138],\n",
    "                      [-0.123,-0.132,-0.128],\n",
    "                      [-0.126,-0.128,-0.128],\n",
    "                      [-0.106,-0.135,-0.141]],\n",
    "                     index=list(\"ABCDEF\"),\n",
    "                     columns=[\"1\",\"2\",\"3\"])\n",
    "print \"\\n¥beta2の水準別合計\\n\",B2sum"
   ]
  },
  {
   "cell_type": "code",
   "execution_count": 11,
   "metadata": {
    "collapsed": false,
    "scrolled": false
   },
   "outputs": [
    {
     "name": "stdout",
     "output_type": "stream",
     "text": [
      "\n",
      "¥beta2の水準別平均\n",
      "        1       2       3\n",
      "A -0.0258 -0.0205 -0.0173\n",
      "B -0.0185 -0.0228 -0.0223\n",
      "C -0.0187 -0.0222 -0.0230\n",
      "D -0.0205 -0.0220 -0.0213\n",
      "E -0.0210 -0.0213 -0.0213\n",
      "F -0.0177 -0.0225 -0.0235\n",
      "\n",
      "効果図\n"
     ]
    },
    {
     "data": {
      "image/png": "[encoded data removed]",
      "text/plain": [
       "<matplotlib.figure.Figure at 0x1129ca7d0>"
      ]
     },
     "metadata": {},
     "output_type": "display_data"
    }
   ],
   "source": [
    "B2ave = pd.DataFrame.copy(B2sum)/6\n",
    "print \"\\n¥beta2の水準別平均\\n\",B2ave\n",
    "plotEffect(B2ave,margin=0.001)"
   ]
  },
  {
   "cell_type": "markdown",
   "metadata": {},
   "source": [
    "(1)より最適条件はA3B1C1D3E1F1であるが、$\\beta_2$の計算にはAFを使う。つまりBCDEは使わない。"
   ]
  },
  {
   "cell_type": "code",
   "execution_count": 12,
   "metadata": {
    "collapsed": false
   },
   "outputs": [
    {
     "name": "stdout",
     "output_type": "stream",
     "text": [
      "最適条件の¥beta2は、-0.0138\n",
      "現行条件の¥beta2は、-0.0218\n"
     ]
    }
   ],
   "source": [
    "ave = B2sum.sum(1)[0]/18\n",
    "beta2_opt = B2ave.ix[\"A\",\"3\"]+B2ave.ix[\"F\",\"1\"]-ave\n",
    "beta2_ini = B2ave.ix[\"A\",\"2\"]+B2ave.ix[\"F\",\"2\"]-ave\n",
    "beta2_diff = beta2_opt-beta2_ini\n",
    "print \"最適条件の¥beta2は、%.4f\"%beta2_opt\n",
    "print \"現行条件の¥beta2は、%.4f\"%beta2_ini"
   ]
  },
  {
   "cell_type": "markdown",
   "metadata": {},
   "source": [
    "###3)最適条件と初期条件について確認計算を行い、次のデータを得た。<br>2乗和の分解を行い、標準SN比および$\\beta_1$を求め、結果を表にまとめ、再現性について検討せよ。"
   ]
  },
  {
   "cell_type": "markdown",
   "metadata": {},
   "source": [
    "#### 2乗和分解"
   ]
  },
  {
   "cell_type": "code",
   "execution_count": 13,
   "metadata": {
    "collapsed": false,
    "scrolled": true
   },
   "outputs": [
    {
     "name": "stdout",
     "output_type": "stream",
     "text": [
      "\n",
      "確認データ(mV) @最適条件\n",
      "      M1    M2    M3\n",
      "N0  11.0  64.3  73.5\n",
      "N1   8.8  68.7  64.6\n",
      "N2  12.7  63.3  78.5\n",
      "\n",
      "確認データ(mV) @現行条件\n",
      "      M1     M2     M3\n",
      "N0  62.8  101.5  107.3\n",
      "N1  49.8   90.3   98.5\n",
      "N2  96.8  129.5  139.3\n"
     ]
    }
   ],
   "source": [
    "opt = pd.DataFrame([[11.0,64.3,73.5],\n",
    "                    [8.8,68.7,64.6],\n",
    "                    [12.7,63.3,78.5]],\n",
    "                    index=[\"N0\",\"N1\",\"N2\"],\n",
    "                    columns=[\"M1\",\"M2\",\"M3\"])\n",
    "print \"\\n確認データ(mV) @最適条件\\n\",opt\n",
    "ini = pd.DataFrame([[62.8,101.5,107.3],\n",
    "                    [49.8,90.3,98.5],\n",
    "                    [96.8,129.5,139.3]],\n",
    "                    index=[\"N0\",\"N1\",\"N2\"],\n",
    "                    columns=[\"M1\",\"M2\",\"M3\"])\n",
    "print \"\\n確認データ(mV) @現行条件\\n\",ini"
   ]
  },
  {
   "cell_type": "code",
   "execution_count": 14,
   "metadata": {
    "collapsed": false
   },
   "outputs": [
    {
     "name": "stdout",
     "output_type": "stream",
     "text": [
      "最適条件の2乗和分解表\n",
      "     F           S           V\n",
      "b    1  19168.6999  19168.6999\n",
      "N*b  1     26.6399     26.6399\n",
      "e    4    105.3802     26.3450\n",
      "(N)  5    132.0201     26.4040\n",
      "T    6  19300.7200         NaN\n"
     ]
    }
   ],
   "source": [
    "print \"最適条件の2乗和分解表\"\n",
    "dynamicProp(opt.ix[0,:],opt.ix[1:,:])  "
   ]
  },
  {
   "cell_type": "code",
   "execution_count": 15,
   "metadata": {
    "collapsed": false
   },
   "outputs": [
    {
     "name": "stdout",
     "output_type": "stream",
     "text": [
      "現行条件の2乗和分解表\n",
      "     F           S           V\n",
      "b    1  63135.5008  63135.5008\n",
      "N*b  1   2482.1306   2482.1306\n",
      "e    4    263.7286     65.9322\n",
      "(N)  5   2745.8592    549.1718\n",
      "T    6  65881.3600         NaN\n"
     ]
    }
   ],
   "source": [
    "print \"現行条件の2乗和分解表\"\n",
    "dynamicProp(ini.ix[0,:],ini.ix[1:,:])  "
   ]
  },
  {
   "cell_type": "markdown",
   "metadata": {},
   "source": [
    "#### 標準SN比"
   ]
  },
  {
   "cell_type": "code",
   "execution_count": 16,
   "metadata": {
    "collapsed": false,
    "scrolled": false
   },
   "outputs": [
    {
     "name": "stdout",
     "output_type": "stream",
     "text": [
      "最適条件の標準SN比は、28.60(db)\n"
     ]
    }
   ],
   "source": [
    "eta_opt_check = dynamicProp(opt.ix[0,:],opt.ix[1:,:], calcStandardSN=True)\n",
    "print \"最適条件の標準SN比は、%.2f(db)\"%eta_opt_check"
   ]
  },
  {
   "cell_type": "code",
   "execution_count": 17,
   "metadata": {
    "collapsed": false,
    "scrolled": true
   },
   "outputs": [
    {
     "name": "stdout",
     "output_type": "stream",
     "text": [
      "現行条件の標準SN比は、20.60(db)\n"
     ]
    }
   ],
   "source": [
    "eta_ini_check = dynamicProp(ini.ix[0,:],ini.ix[1:,:], calcStandardSN=True)\n",
    "print \"現行条件の標準SN比は、%.2f(db)\"%eta_ini_check"
   ]
  },
  {
   "cell_type": "code",
   "execution_count": 18,
   "metadata": {
    "collapsed": false
   },
   "outputs": [
    {
     "name": "stdout",
     "output_type": "stream",
     "text": [
      "利得は、8.0(db)。真数に直すと、6.31。\n"
     ]
    }
   ],
   "source": [
    "eta_diff_check = eta_opt_check - eta_ini_check\n",
    "print \"利得は、%.1f(db)。真数に直すと、%.2f。\"%(eta_diff_check, 10**(eta_diff_check/10))"
   ]
  },
  {
   "cell_type": "markdown",
   "metadata": {},
   "source": [
    "#### $\\beta_1$"
   ]
  },
  {
   "cell_type": "code",
   "execution_count": 19,
   "metadata": {
    "collapsed": false
   },
   "outputs": [
    {
     "name": "stdout",
     "output_type": "stream",
     "text": [
      "最適条件のbeta1は、1.16\n",
      "現行条件のbeta1は、1.75\n",
      "差は、-0.59。\n"
     ]
    }
   ],
   "source": [
    "# 目標値\n",
    "m = np.asarray([0,50,67]) \n",
    "# 標準条件の出力\n",
    "y_opt = opt.ix[0,:]\n",
    "y_ini = ini.ix[0,:]\n",
    "# beta1 = L1/r1 <-eq(8.15)\n",
    "beta1_opt_check = m.dot(y_opt)/(m*m).sum()\n",
    "beta1_ini_check = m.dot(y_ini)/(m*m).sum()\n",
    "beta1_diff_check = beta1_opt_check - beta1_ini_check\n",
    "print \"最適条件のbeta1は、%.2f\"%beta1_opt_check\n",
    "print \"現行条件のbeta1は、%.2f\"%beta1_ini_check\n",
    "print \"差は、%.2f。\"%beta1_diff_check"
   ]
  },
  {
   "cell_type": "markdown",
   "metadata": {},
   "source": [
    "#### 表にまとめる"
   ]
  },
  {
   "cell_type": "code",
   "execution_count": 20,
   "metadata": {
    "collapsed": false
   },
   "outputs": [
    {
     "name": "stdout",
     "output_type": "stream",
     "text": [
      "   SN比(db)             beta1                beta2               \n",
      "       opt   ini  diff   opt   ini   diff     opt     ini   diff\n",
      "推定    26.4    21  5.42  1.26  1.79 -0.532 -0.0138 -0.0218  0.008\n",
      "確認    28.6  20.6     8  1.16  1.75  -0.59  -0.011  -0.025  0.014\n"
     ]
    }
   ],
   "source": [
    "pd.set_option('display.precision', 3)\n",
    "summary = pd.DataFrame([[\"opt\",\"ini\",\"diff\",\n",
    "                         \"opt\",\"ini\",\"diff\",\n",
    "                         \"opt\",\"ini\",\"diff\"],\n",
    "                        [eta_opt,eta_ini,eta_diff,\n",
    "                         beta1_opt,beta1_ini,beta1_diff,\n",
    "                         beta2_opt,beta2_ini,beta2_diff],\n",
    "                        [eta_opt_check,eta_ini_check,eta_diff_check,\n",
    "                         beta1_opt_check,beta1_ini_check,beta1_diff_check,\n",
    "                         -0.011,-0.025,0.014]],\n",
    "                        index=[\"\",\"推定\",\"確認\"],\n",
    "                        columns=[\"SN比(db)\",\"\",\"\",\n",
    "                                \"beta1\",\"\",\"\",\n",
    "                                \"beta2\",\"\",\"\"])\n",
    "print summary"
   ]
  },
  {
   "cell_type": "markdown",
   "metadata": {},
   "source": [
    "#### 再現性について検討"
   ]
  },
  {
   "cell_type": "markdown",
   "metadata": {},
   "source": [
    "大小関係だけでなく、絶対値もよく再現している。\n",
    "\n",
    "* SN比に関しては、確認実験で推定よりもよい結果(SN比が大きい)を得た。\n",
    "* beta1に関しても、確認実験で推定よりもよい結果(beta1が1に近い)を得た。\n",
    "* beta2に関しても、確認実験で推定よりもよい結果(beta2が0に近い)を得た。"
   ]
  },
  {
   "cell_type": "code",
   "execution_count": 21,
   "metadata": {
    "collapsed": false
   },
   "outputs": [
    {
     "data": {
      "application/json": {
       "Software versions": [
        {
         "module": "Python",
         "version": "2.7.9 64bit [GCC 4.2.1 Compatible Apple LLVM 6.0 (clang-600.0.56)]"
        },
        {
         "module": "IPython",
         "version": "3.0.0-dev"
        },
        {
         "module": "OS",
         "version": "Darwin 14.4.0 x86_64 i386 64bit"
        },
        {
         "module": "numpy",
         "version": "1.10.0.dev+a02f5c8"
        },
        {
         "module": "matplotlib",
         "version": "1.4.2"
        },
        {
         "module": "pandas",
         "version": "0.16.0"
        },
        {
         "module": "ipython",
         "version": "3.0.0.dev0"
        },
        {
         "module": "version_information",
         "version": "1.0.3"
        }
       ]
      },
      "text/html": [
       "<table><tr><th>Software</th><th>Version</th></tr><tr><td>Python</td><td>2.7.9 64bit [GCC 4.2.1 Compatible Apple LLVM 6.0 (clang-600.0.56)]</td></tr><tr><td>IPython</td><td>3.0.0-dev</td></tr><tr><td>OS</td><td>Darwin 14.4.0 x86_64 i386 64bit</td></tr><tr><td>numpy</td><td>1.10.0.dev+a02f5c8</td></tr><tr><td>matplotlib</td><td>1.4.2</td></tr><tr><td>pandas</td><td>0.16.0</td></tr><tr><td>ipython</td><td>3.0.0.dev0</td></tr><tr><td>version_information</td><td>1.0.3</td></tr><tr><td colspan='2'>Sun Jul 26 17:23:52 2015 JST</td></tr></table>"
      ],
      "text/latex": [
       "\\begin{tabular}{|l|l|}\\hline\n",
       "{\\bf Software} & {\\bf Version} \\\\ \\hline\\hline\n",
       "Python & 2.7.9 64bit [GCC 4.2.1 Compatible Apple LLVM 6.0 (clang-600.0.56)] \\\\ \\hline\n",
       "IPython & 3.0.0-dev \\\\ \\hline\n",
       "OS & Darwin 14.4.0 x86\\_64 i386 64bit \\\\ \\hline\n",
       "numpy & 1.10.0.dev+a02f5c8 \\\\ \\hline\n",
       "matplotlib & 1.4.2 \\\\ \\hline\n",
       "pandas & 0.16.0 \\\\ \\hline\n",
       "ipython & 3.0.0.dev0 \\\\ \\hline\n",
       "version_information & 1.0.3 \\\\ \\hline\n",
       "\\hline \\multicolumn{2}{|l|}{Sun Jul 26 17:23:52 2015 JST} \\\\ \\hline\n",
       "\\end{tabular}\n"
      ],
      "text/plain": [
       "Software versions\n",
       "Python 2.7.9 64bit [GCC 4.2.1 Compatible Apple LLVM 6.0 (clang-600.0.56)]\n",
       "IPython 3.0.0-dev\n",
       "OS Darwin 14.4.0 x86_64 i386 64bit\n",
       "numpy 1.10.0.dev+a02f5c8\n",
       "matplotlib 1.4.2\n",
       "pandas 0.16.0\n",
       "ipython 3.0.0.dev0\n",
       "version_information 1.0.3\n",
       "Sun Jul 26 17:23:52 2015 JST"
      ]
     },
     "execution_count": 21,
     "metadata": {},
     "output_type": "execute_result"
    }
   ],
   "source": [
    "%load_ext version_information\n",
    "%version_information numpy, matplotlib, pandas, ipython, version_information"
   ]
  },
  {
   "cell_type": "code",
   "execution_count": null,
   "metadata": {
    "collapsed": true
   },
   "outputs": [],
   "source": []
  }
 ],
 "metadata": {
  "kernelspec": {
   "display_name": "Python 2",
   "language": "python",
   "name": "python2"
  },
  "language_info": {
   "codemirror_mode": {
    "name": "ipython",
    "version": 2
   },
   "file_extension": ".py",
   "mimetype": "text/x-python",
   "name": "python",
   "nbconvert_exporter": "python",
   "pygments_lexer": "ipython2",
   "version": "2.7.9"
  }
 },
 "nbformat": 4,
 "nbformat_minor": 0
}
