{
 "cells": [
  {
   "cell_type": "code",
   "execution_count": 2,
   "metadata": {
    "collapsed": false,
    "scrolled": false
   },
   "outputs": [
    {
     "name": "stdout",
     "output_type": "stream",
     "text": [
      "Populating the interactive namespace from numpy and matplotlib\n"
     ]
    }
   ],
   "source": [
    "%pylab inline\n",
    "import pandas as pd\n",
    "pd.set_option('display.precision', 5)"
   ]
  },
  {
   "cell_type": "code",
   "execution_count": 3,
   "metadata": {
    "collapsed": false
   },
   "outputs": [],
   "source": [
    "# 動特性の２乗和分解\n",
    "def dynamicProp(M,A, calcSN=False, calcS=False, calcB=False, calcStandardSN=False):\n",
    "    # Degree of Freedom\n",
    "    Ft = len(A.index)*len(A.columns)\n",
    "    Fb = 1\n",
    "    Fnb = len(A.index) - 1\n",
    "    Fe = Ft - Fb - Fnb\n",
    "    Fn = Fnb + Fe\n",
    "    # Squared Sum\n",
    "    St = (A*A).sum().sum() #eq(4.7)\n",
    "    L = np.asarray(A).dot(M) # A[3,3]とM[3,1]の行列積[3,1]\n",
    "    r = (M*M).sum()\n",
    "    Sb = (L.sum())**2/len(A.index)/r #eq(4.8)\n",
    "    Snb = (L*L).sum()/r - Sb #eq(4.9)\n",
    "    Se = St - Sb - Snb\n",
    "    Sn = Snb + Se\n",
    "    # Variance\n",
    "    Vb = Sb/Fb\n",
    "    Vnb = Snb/Fnb\n",
    "    Ve = Se/Fe\n",
    "    Vn = Sn/Fn\n",
    "    \n",
    "    # calcSNratio[db]\n",
    "    if calcSN==True:\n",
    "        eta = (1./len(A.index)/r*(Sb-Ve))/Vn #eq(4.15)\n",
    "        return 10*np.log10(eta)\n",
    "    \n",
    "    # calc Standard SN ratio[db]\n",
    "    if calcStandardSN==True:\n",
    "        eta = (Sb-Ve)/Vn #eq(7.8)\n",
    "        return 10*np.log10(eta)\n",
    "    \n",
    "    # calcS[db]\n",
    "    if calcS==True:\n",
    "        S = (1./len(A.index)/r*(Sb-Ve))\n",
    "        return 10*np.log10(S)\n",
    "    \n",
    "    # calcB\n",
    "    if calcB==True:\n",
    "        beta = L.mean()/r\n",
    "        return beta\n",
    "    \n",
    "    # PrintTable\n",
    "    data = {'F': [Fb,Fnb,Fe,Fn,Ft], 'S':[Sb,Snb,Se,Sn,St], 'V':[Vb,Vnb,Ve,Vn,nan]}\n",
    "    df = pd.DataFrame(data=data, index=[\"b\",\"N*b\",\"e\",\"(N)\",\"T\"])\n",
    "    print df"
   ]
  },
  {
   "cell_type": "markdown",
   "metadata": {},
   "source": [
    "## 2ヶ月目 - 問1\n",
    ">プリント基板とICの電気的接続条件として、$A_1, A_2$がある。接続状態が良好であれば、基盤とIC間の電流M(A)と発生する電圧y(V)の間には、$y=\\beta{M}$が成立する。<br>\n",
    "$A_1, A_2$の2条件について、電流Mを\n",
    "$$M_1=0.001, M_2=0.005, M_3=0.010 (A)$$\n",
    "として、接続直後$N_1$、劣化試験後$N_2$の2時点における電圧y(V)を求めたデータは以下のようである。"
   ]
  },
  {
   "cell_type": "code",
   "execution_count": 4,
   "metadata": {
    "collapsed": false
   },
   "outputs": [
    {
     "name": "stdout",
     "output_type": "stream",
     "text": [
      "M\n",
      "[ 0.001  0.005  0.01 ]\n",
      "\n",
      "A1\n",
      "      M1     M2     M3\n",
      "N1  2.81  14.50  29.03\n",
      "N2  3.68  18.45  37.61\n",
      "\n",
      "A2\n",
      "      M1     M2     M3\n",
      "N1  3.08  15.40  30.80\n",
      "N2  3.48  17.42  34.82\n"
     ]
    },
    {
     "data": {
      "image/png": "[encoded data removed]",
      "text/plain": [
       "<matplotlib.figure.Figure at 0x1069f9750>"
      ]
     },
     "metadata": {},
     "output_type": "display_data"
    }
   ],
   "source": [
    "M = np.asarray([0.001, 0.005, 0.010])\n",
    "A1 = pd.DataFrame([[2.81,14.50,29.03],\n",
    "                  [3.68,18.45,37.61]],\n",
    "                 index=[\"N1\",\"N2\"],\n",
    "                 columns=[\"M1\",\"M2\",\"M3\"])\n",
    "A2 = pd.DataFrame([[3.08,15.40,30.80],\n",
    "                  [3.48,17.42,34.82]],\n",
    "                 index=[\"N1\",\"N2\"],\n",
    "                 columns=[\"M1\",\"M2\",\"M3\"])\n",
    "print \"M\\n\",M\n",
    "print \"\\nA1\\n\",A1\n",
    "print \"\\nA2\\n\",A2\n",
    "\n",
    "fig = figure(figsize=(9,4))\n",
    "ax1 = plt.subplot(121)\n",
    "ax2 = plt.subplot(122)\n",
    "ax1.plot(M,A1.T,'*-')\n",
    "ax2.plot(M,A2.T,'*-')\n",
    "ax1.set_title(\"A1\")\n",
    "ax2.set_title(\"A2\")\n",
    "ax1.legend([\"N1\",\"N2\"],loc=\"best\")\n",
    "ax2.legend([\"N1\",\"N2\"],loc=\"best\")\n",
    "ax1.set_xlim(0,0.011)\n",
    "ax1.set_ylim(0,40)\n",
    "ax2.set_xlim(0,0.011)\n",
    "ax2.set_ylim(0,40)\n",
    "plt.show()"
   ]
  },
  {
   "cell_type": "markdown",
   "metadata": {},
   "source": [
    "###1) $A_1, A_2$別に、2乗和の分解を行え。"
   ]
  },
  {
   "cell_type": "code",
   "execution_count": 5,
   "metadata": {
    "collapsed": false
   },
   "outputs": [
    {
     "name": "stdout",
     "output_type": "stream",
     "text": [
      "A1の2乗和分解表\n",
      "     F          S          V\n",
      "b    1  2784.2888  2784.2888\n",
      "N*b  1    44.9413    44.9413\n",
      "e    4     0.1139     0.0285\n",
      "(N)  5    45.0552     9.0110\n",
      "T    6  2829.3440        NaN\n"
     ]
    }
   ],
   "source": [
    "print \"A1の2乗和分解表\"\n",
    "dynamicProp(M,A1)    "
   ]
  },
  {
   "cell_type": "code",
   "execution_count": 6,
   "metadata": {
    "collapsed": false
   },
   "outputs": [
    {
     "name": "stdout",
     "output_type": "stream",
     "text": [
      "A2の2乗和分解表\n",
      "     F          S          V\n",
      "b    1  2713.0852  2713.0852\n",
      "N*b  1    10.2004    10.2004\n",
      "e    4     0.0001     0.0000\n",
      "(N)  5    10.2004     2.0401\n",
      "T    6  2723.2856        NaN\n"
     ]
    }
   ],
   "source": [
    "print \"A2の2乗和分解表\"\n",
    "dynamicProp(M,A2)"
   ]
  },
  {
   "cell_type": "markdown",
   "metadata": {},
   "source": [
    "###2) 各項の意味を考えた上で、接続条件としてどちらの条件がよいかを判断できるかどうかを検討し、結論を述べよ。判断に至った理由も述べよ。"
   ]
  },
  {
   "cell_type": "markdown",
   "metadata": {},
   "source": [
    "####結論\n",
    "A2の条件の方が良い"
   ]
  },
  {
   "cell_type": "markdown",
   "metadata": {},
   "source": [
    "#### 理由\n",
    "(1)より、A1とA2の$S_T$の値にあまり差がない一方で、<br>\n",
    "A1の方が、$劣化による誤差成分S_{N\\times{b}}, そのたの誤差成分S_e$の値が有意に大きいため。"
   ]
  },
  {
   "cell_type": "markdown",
   "metadata": {},
   "source": [
    "###3) $A_1, A_2$のSN比を求め、(2)の結論と比較し、どのようなことがいえるか。"
   ]
  },
  {
   "cell_type": "markdown",
   "metadata": {},
   "source": [
    "SN比は次の式で求める。\n",
    "$$ \\eta = 10log\\frac{\\frac{1}{nr}(S_\\beta - V_e)}{V_N}$$"
   ]
  },
  {
   "cell_type": "code",
   "execution_count": 7,
   "metadata": {
    "collapsed": false
   },
   "outputs": [
    {
     "name": "stdout",
     "output_type": "stream",
     "text": [
      "A1のSN比は、60.89(db)\n",
      "A2のSN比は、67.22(db)\n"
     ]
    }
   ],
   "source": [
    "print \"A1のSN比は、%.2f(db)\"%dynamicProp(M,A1, calcSN=True)\n",
    "print \"A2のSN比は、%.2f(db)\"%dynamicProp(M,A2, calcSN=True)"
   ]
  },
  {
   "cell_type": "markdown",
   "metadata": {},
   "source": [
    "####結論\n",
    "A2の条件の方がSN比が良い。(2)の結論と一致する。"
   ]
  },
  {
   "cell_type": "code",
   "execution_count": 8,
   "metadata": {
    "collapsed": false
   },
   "outputs": [
    {
     "data": {
      "application/json": {
       "Software versions": [
        {
         "module": "Python",
         "version": "2.7.9 64bit [GCC 4.2.1 Compatible Apple LLVM 6.0 (clang-600.0.56)]"
        },
        {
         "module": "IPython",
         "version": "3.0.0-dev"
        },
        {
         "module": "OS",
         "version": "Darwin 14.4.0 x86_64 i386 64bit"
        },
        {
         "module": "numpy",
         "version": "1.10.0.dev+a02f5c8"
        },
        {
         "module": "matplotlib",
         "version": "1.4.2"
        },
        {
         "module": "pandas",
         "version": "0.16.0"
        },
        {
         "module": "ipython",
         "version": "3.0.0.dev0"
        },
        {
         "module": "version_information",
         "version": "1.0.3"
        }
       ]
      },
      "text/html": [
       "<table><tr><th>Software</th><th>Version</th></tr><tr><td>Python</td><td>2.7.9 64bit [GCC 4.2.1 Compatible Apple LLVM 6.0 (clang-600.0.56)]</td></tr><tr><td>IPython</td><td>3.0.0-dev</td></tr><tr><td>OS</td><td>Darwin 14.4.0 x86_64 i386 64bit</td></tr><tr><td>numpy</td><td>1.10.0.dev+a02f5c8</td></tr><tr><td>matplotlib</td><td>1.4.2</td></tr><tr><td>pandas</td><td>0.16.0</td></tr><tr><td>ipython</td><td>3.0.0.dev0</td></tr><tr><td>version_information</td><td>1.0.3</td></tr><tr><td colspan='2'>Sun Jul 26 17:28:20 2015 JST</td></tr></table>"
      ],
      "text/latex": [
       "\\begin{tabular}{|l|l|}\\hline\n",
       "{\\bf Software} & {\\bf Version} \\\\ \\hline\\hline\n",
       "Python & 2.7.9 64bit [GCC 4.2.1 Compatible Apple LLVM 6.0 (clang-600.0.56)] \\\\ \\hline\n",
       "IPython & 3.0.0-dev \\\\ \\hline\n",
       "OS & Darwin 14.4.0 x86\\_64 i386 64bit \\\\ \\hline\n",
       "numpy & 1.10.0.dev+a02f5c8 \\\\ \\hline\n",
       "matplotlib & 1.4.2 \\\\ \\hline\n",
       "pandas & 0.16.0 \\\\ \\hline\n",
       "ipython & 3.0.0.dev0 \\\\ \\hline\n",
       "version_information & 1.0.3 \\\\ \\hline\n",
       "\\hline \\multicolumn{2}{|l|}{Sun Jul 26 17:28:20 2015 JST} \\\\ \\hline\n",
       "\\end{tabular}\n"
      ],
      "text/plain": [
       "Software versions\n",
       "Python 2.7.9 64bit [GCC 4.2.1 Compatible Apple LLVM 6.0 (clang-600.0.56)]\n",
       "IPython 3.0.0-dev\n",
       "OS Darwin 14.4.0 x86_64 i386 64bit\n",
       "numpy 1.10.0.dev+a02f5c8\n",
       "matplotlib 1.4.2\n",
       "pandas 0.16.0\n",
       "ipython 3.0.0.dev0\n",
       "version_information 1.0.3\n",
       "Sun Jul 26 17:28:20 2015 JST"
      ]
     },
     "execution_count": 8,
     "metadata": {},
     "output_type": "execute_result"
    }
   ],
   "source": [
    "%load_ext version_information\n",
    "%version_information numpy, matplotlib, pandas, ipython, version_information"
   ]
  },
  {
   "cell_type": "code",
   "execution_count": null,
   "metadata": {
    "collapsed": true
   },
   "outputs": [],
   "source": []
  }
 ],
 "metadata": {
  "kernelspec": {
   "display_name": "Python 2",
   "language": "python",
   "name": "python2"
  },
  "language_info": {
   "codemirror_mode": {
    "name": "ipython",
    "version": 2
   },
   "file_extension": ".py",
   "mimetype": "text/x-python",
   "name": "python",
   "nbconvert_exporter": "python",
   "pygments_lexer": "ipython2",
   "version": "2.7.9"
  }
 },
 "nbformat": 4,
 "nbformat_minor": 0
}
