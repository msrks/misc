{
 "cells": [
  {
   "cell_type": "code",
   "execution_count": 9,
   "metadata": {
    "collapsed": false
   },
   "outputs": [
    {
     "data": {
      "text/plain": [
       "datetime.date(2015, 8, 12)"
      ]
     },
     "execution_count": 9,
     "metadata": {},
     "output_type": "execute_result"
    }
   ],
   "source": [
    "import datetime\n",
    "datetime.date.today()"
   ]
  },
  {
   "cell_type": "markdown",
   "metadata": {},
   "source": [
    "### 参考@[Qiita](http://qiita.com/mzmttks/items/82ea3a51e4dbea8fbc17)"
   ]
  },
  {
   "cell_type": "code",
   "execution_count": 16,
   "metadata": {
    "collapsed": false,
    "scrolled": true
   },
   "outputs": [
    {
     "name": "stdout",
     "output_type": "stream",
     "text": [
      "Status Optimal\n",
      "\n",
      "sample:\n",
      "MINIMIZE\n",
      "1*a + 1*b + 0\n",
      "SUBJECT TO\n",
      "_C1: a >= 0\n",
      "\n",
      "_C2: b >= 0.1\n",
      "\n",
      "_C3: a + b = 0.5\n",
      "\n",
      "VARIABLES\n",
      "a <= 1 Continuous\n",
      "b <= 1 Continuous\n",
      "\n",
      "Result\n",
      "a 0.4\n",
      "b 0.1\n"
     ]
    }
   ],
   "source": [
    "import pulp\n",
    "\n",
    "problem = pulp.LpProblem('sample', pulp.LpMinimize)\n",
    "\n",
    "a = pulp.LpVariable('a', 0, 1)\n",
    "b = pulp.LpVariable('b', 0, 1)\n",
    "\n",
    "problem += a + b\n",
    "\n",
    "problem += a >= 0\n",
    "problem += b >= 0.1\n",
    "problem += a + b == 0.5\n",
    "\n",
    "status = problem.solve()\n",
    "print \"Status\", pulp.LpStatus[status]\n",
    "print\n",
    "print problem\n",
    "\n",
    "print \"Result\"\n",
    "print \"a\", a.value()\n",
    "print \"b\", b.value()"
   ]
  },
  {
   "cell_type": "code",
   "execution_count": 20,
   "metadata": {
    "collapsed": false
   },
   "outputs": [
    {
     "name": "stdout",
     "output_type": "stream",
     "text": [
      "Optimal\n",
      "5 3 4 6 7 8 9 1 2\n",
      "6 7 2 1 9 5 3 4 8\n",
      "1 9 8 3 4 2 5 6 7\n",
      "8 5 9 7 6 1 4 2 3\n",
      "4 2 6 8 5 3 7 9 1\n",
      "7 1 3 9 2 4 8 5 6\n",
      "9 6 1 5 3 7 2 8 4\n",
      "2 8 7 4 1 9 6 3 5\n",
      "3 4 5 2 8 6 1 7 9\n"
     ]
    }
   ],
   "source": [
    "import pulp\n",
    "import numpy\n",
    "\n",
    "# make problem\n",
    "board = \"\"\"\n",
    "530070000\n",
    "600195000\n",
    "098000060\n",
    "800060003\n",
    "400803001\n",
    "700020006\n",
    "060000280\n",
    "000419005\n",
    "000080079\"\"\"\n",
    "\n",
    "# board = map(lambda line: map(int, line.rstrip()), open(\"sudoku.txt\").readlines())\n",
    "board = [map(int, list(line)) for line in board.strip().split(\"\\n\")]\n",
    "#print board\n",
    "width = len(board[0])\n",
    "height = len(board)\n",
    "\n",
    "\n",
    "## initialize\n",
    "# Create a problem\n",
    "prob = pulp.LpProblem('Sudoku', pulp.LpMinimize) # or minimize\n",
    "\n",
    "## objective\n",
    "# No objective function\n",
    "prob += 0\n",
    "\n",
    "# make \n",
    "numbers = range(1, 10)\n",
    "xs = range(1, 10)\n",
    "ys = range(1, 10)\n",
    "choices = pulp.LpVariable.dicts(\"Choice\",(xs, ys, numbers),0,1,pulp.LpInteger)\n",
    "\n",
    "\n",
    "## constraints\n",
    "# Add given-value constraints\n",
    "for x in range(width):\n",
    "    for y in range(height):\n",
    "        if board[y][x] > 0:\n",
    "            prob += choices[board[y][x]][x+1][y+1] == 1\n",
    "\n",
    "# one cell must have one value\n",
    "for y in ys:\n",
    "    for x in xs:\n",
    "        prob += pulp.lpSum([choices[v][x][y] for v in numbers]) == 1, \"\"\n",
    "\n",
    "# horizontal line must have different values\n",
    "for v in numbers:\n",
    "    for y in ys:\n",
    "        prob += pulp.lpSum([choices[v][x][y] for x in xs]) == 1\n",
    "\n",
    "    for x in xs:\n",
    "        prob += pulp.lpSum([choices[v][x][y] for y in ys]) == 1\n",
    "\n",
    "    for x in [1, 4, 7]:\n",
    "        vs = []\n",
    "        for y in [1, 4, 7]:\n",
    "            #print [[choices[v][x+i][y+j] for i in range(3) for j in range(3)]]\n",
    "            prob += pulp.lpSum([[choices[v][x+i][y+j] for i in range(3) for j in range(3)]]) == 1\n",
    "\n",
    "\n",
    "# print prob\n",
    "\n",
    "s = prob.solve()\n",
    "# solve it\n",
    "\n",
    "print pulp.LpStatus[s]\n",
    "\n",
    "# print result\n",
    "for y in ys:\n",
    "    for x in xs:\n",
    "        for v in numbers:\n",
    "            if choices[v][x][y].value() == 1:\n",
    "                print v,\n",
    "    print"
   ]
  },
  {
   "cell_type": "code",
   "execution_count": null,
   "metadata": {
    "collapsed": true
   },
   "outputs": [],
   "source": []
  }
 ],
 "metadata": {
  "kernelspec": {
   "display_name": "Python 2",
   "language": "python",
   "name": "python2"
  },
  "language_info": {
   "codemirror_mode": {
    "name": "ipython",
    "version": 2
   },
   "file_extension": ".py",
   "mimetype": "text/x-python",
   "name": "python",
   "nbconvert_exporter": "python",
   "pygments_lexer": "ipython2",
   "version": "2.7.9"
  }
 },
 "nbformat": 4,
 "nbformat_minor": 0
}
