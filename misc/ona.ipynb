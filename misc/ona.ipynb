{
 "cells": [
  {
   "cell_type": "markdown",
   "metadata": {},
   "source": [
    "# 配牌ドラ枚数計算\n",
    "\n",
    "*@2015.9.1*"
   ]
  },
  {
   "cell_type": "code",
   "execution_count": 1,
   "metadata": {
    "collapsed": true
   },
   "outputs": [],
   "source": [
    "%matplotlib inline\n",
    "import matplotlib.pyplot as plt\n",
    "import numpy as np\n",
    "import scipy.misc"
   ]
  },
  {
   "cell_type": "markdown",
   "metadata": {},
   "source": [
    "## ヨンマ用関数"
   ]
  },
  {
   "cell_type": "code",
   "execution_count": 2,
   "metadata": {
    "collapsed": true
   },
   "outputs": [],
   "source": [
    "def yonma(dora, aka, total=134, show=True):\n",
    "    bunbo = scipy.misc.comb(total,13)\n",
    "    if aka==False:\n",
    "        bunshi = scipy.misc.comb((total-4),(13-dora)) * scipy.misc.comb(4,dora)\n",
    "    if aka==True:\n",
    "        bunshi = scipy.misc.comb((total-4-3),(13-dora)) * scipy.misc.comb(4+3,dora)\n",
    "    if show==True:\n",
    "        print \"ドラ%d枚: 確率%.3f\"%(dora,bunshi/bunbo)\n",
    "    return bunshi/bunbo"
   ]
  },
  {
   "cell_type": "markdown",
   "metadata": {},
   "source": [
    "### ヨンマ赤なし"
   ]
  },
  {
   "cell_type": "code",
   "execution_count": 3,
   "metadata": {
    "collapsed": false
   },
   "outputs": [
    {
     "name": "stdout",
     "output_type": "stream",
     "text": [
      "ドラ0枚: 確率0.662\n",
      "ドラ1枚: 確率0.292\n",
      "ドラ2枚: 確率0.044\n",
      "ドラ3枚: 確率0.003\n",
      "ドラ4枚: 確率0.000\n"
     ]
    }
   ],
   "source": [
    "yonma(0, False)\n",
    "yonma(1, False)\n",
    "yonma(2, False)\n",
    "yonma(3, False)\n",
    "yonma(4, False);"
   ]
  },
  {
   "cell_type": "markdown",
   "metadata": {},
   "source": [
    "### ヨンマ赤あり"
   ]
  },
  {
   "cell_type": "code",
   "execution_count": 4,
   "metadata": {
    "collapsed": false
   },
   "outputs": [
    {
     "name": "stdout",
     "output_type": "stream",
     "text": [
      "ドラ0枚: 確率0.481\n",
      "ドラ1枚: 確率0.381\n",
      "ドラ2枚: 確率0.118\n",
      "ドラ3枚: 確率0.019\n",
      "ドラ4枚: 確率0.002\n"
     ]
    }
   ],
   "source": [
    "yonma(0, True)\n",
    "yonma(1, True)\n",
    "yonma(2, True)\n",
    "yonma(3, True)\n",
    "yonma(4, True);"
   ]
  },
  {
   "cell_type": "markdown",
   "metadata": {},
   "source": [
    "## サンマ用関数"
   ]
  },
  {
   "cell_type": "code",
   "execution_count": 5,
   "metadata": {
    "collapsed": true
   },
   "outputs": [],
   "source": [
    "def sanma(dora, akaAndKita, total=108, show=True):\n",
    "    bunbo = scipy.misc.comb(total,13)\n",
    "    if akaAndKita==False:\n",
    "        bunshi = scipy.misc.comb((total-4),(13-dora)) * scipy.misc.comb(4,dora)\n",
    "    if akaAndKita==True:\n",
    "        bunshi = scipy.misc.comb((total-4-4-2),(13-dora)) * scipy.misc.comb(4+4+2,dora)\n",
    "    if show==True:\n",
    "        print \"ドラ%d枚: 確率%.3f\"%(dora,bunshi/bunbo)\n",
    "    return bunshi/bunbo"
   ]
  },
  {
   "cell_type": "markdown",
   "metadata": {},
   "source": [
    "### サンマ：赤と北は、ドラと数え無い場合"
   ]
  },
  {
   "cell_type": "code",
   "execution_count": 6,
   "metadata": {
    "collapsed": false
   },
   "outputs": [
    {
     "name": "stdout",
     "output_type": "stream",
     "text": [
      "ドラ0枚: 確率0.594\n",
      "ドラ1枚: 確率0.336\n",
      "ドラ2枚: 確率0.065\n",
      "ドラ3枚: 確率0.005\n",
      "ドラ4枚: 確率0.000\n"
     ]
    }
   ],
   "source": [
    "sanma(0, False)\n",
    "sanma(1, False)\n",
    "sanma(2, False)\n",
    "sanma(3, False)\n",
    "sanma(4, False);"
   ]
  },
  {
   "cell_type": "markdown",
   "metadata": {},
   "source": [
    "### サンマ：赤と北も、ドラと数える場合"
   ]
  },
  {
   "cell_type": "code",
   "execution_count": 7,
   "metadata": {
    "collapsed": false
   },
   "outputs": [
    {
     "name": "stdout",
     "output_type": "stream",
     "text": [
      "ドラ0枚: 確率0.261\n",
      "ドラ1枚: 確率0.394\n",
      "ドラ2枚: 確率0.245\n",
      "ドラ3枚: 確率0.082\n",
      "ドラ4枚: 確率0.016\n",
      "ドラ5枚: 確率0.002\n"
     ]
    }
   ],
   "source": [
    "sanma(0, True)\n",
    "sanma(1, True)\n",
    "sanma(2, True)\n",
    "sanma(3, True)\n",
    "sanma(4, True)\n",
    "sanma(5, True);"
   ]
  },
  {
   "cell_type": "code",
   "execution_count": 8,
   "metadata": {
    "collapsed": false
   },
   "outputs": [
    {
     "data": {
      "text/plain": [
       "array([0, 1, 2, 3, 4, 5, 6, 7])"
      ]
     },
     "execution_count": 8,
     "metadata": {},
     "output_type": "execute_result"
    }
   ],
   "source": [
    "x = np.arange(8)\n",
    "x"
   ]
  },
  {
   "cell_type": "markdown",
   "metadata": {},
   "source": [
    "## グラフにしてみる"
   ]
  },
  {
   "cell_type": "code",
   "execution_count": 10,
   "metadata": {
    "collapsed": false
   },
   "outputs": [
    {
     "data": {
      "image/png": "[encoded data removed]",
      "text/plain": [
       "<matplotlib.figure.Figure at 0x105644390>"
      ]
     },
     "metadata": {},
     "output_type": "display_data"
    }
   ],
   "source": [
    "plt.plot(x, yonma(x,True,show=False),'m-o', label='yonma')\n",
    "plt.plot(x, sanma(x,True,show=False),'b-o', label='sanma')\n",
    "plt.ylim(0,0.5)\n",
    "plt.ylabel('Probability')\n",
    "plt.xlabel('Number of Dora')\n",
    "plt.legend()\n",
    "plt.grid();"
   ]
  },
  {
   "cell_type": "code",
   "execution_count": null,
   "metadata": {
    "collapsed": true
   },
   "outputs": [],
   "source": []
  }
 ],
 "metadata": {
  "kernelspec": {
   "display_name": "Python 2",
   "language": "python",
   "name": "python2"
  },
  "language_info": {
   "codemirror_mode": {
    "name": "ipython",
    "version": 2
   },
   "file_extension": ".py",
   "mimetype": "text/x-python",
   "name": "python",
   "nbconvert_exporter": "python",
   "pygments_lexer": "ipython2",
   "version": "2.7.9"
  }
 },
 "nbformat": 4,
 "nbformat_minor": 0
}
