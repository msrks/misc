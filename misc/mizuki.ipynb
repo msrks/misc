{
 "cells": [
  {
   "cell_type": "markdown",
   "metadata": {},
   "source": [
    "## 20150816"
   ]
  },
  {
   "cell_type": "markdown",
   "metadata": {},
   "source": [
    "$$\\frac{dC_R}{dC_A} = -1 + \\kappa\\frac{C_R}{C_A} ...(1)$$\n",
    "\n",
    "$$u = \\frac{C_R}{C_A} と置き換え。C_R = uC_A ...(2)$$"
   ]
  },
  {
   "cell_type": "markdown",
   "metadata": {},
   "source": [
    "$$両辺C_Aで微分して、\\frac{dC_R}{dC_A}=\\frac{du}{dC_A}C_A + uを(1)に代入すると$$"
   ]
  },
  {
   "cell_type": "markdown",
   "metadata": {},
   "source": [
    "$$\\frac{du}{dC_A}C_A + u = -1 + \\kappa{u}$$"
   ]
  },
  {
   "cell_type": "markdown",
   "metadata": {},
   "source": [
    "$$ちょっとだけ整理（uをまとめた）して、\\frac{du}{dC_A}C_A= -1 + (\\kappa-1){u}$$"
   ]
  },
  {
   "cell_type": "markdown",
   "metadata": {},
   "source": [
    "$$変数分離したら、\\frac{du}{-1 + (\\kappa-1){u}}= \\frac{dC_A}{C_A} ...(3)$$"
   ]
  },
  {
   "cell_type": "markdown",
   "metadata": {},
   "source": [
    "## 場合分けその１"
   ]
  },
  {
   "cell_type": "markdown",
   "metadata": {},
   "source": [
    "$${\\kappa-1}が0じゃないとき、(3)を積分して、\\frac{1}{\\kappa-1}ln(u - \\frac{1}{\\kappa -1}) = ln(C_A) + Const ...(4)$$"
   ]
  },
  {
   "cell_type": "markdown",
   "metadata": {},
   "source": [
    "$$ 初期条件より、C_A = C_{A0}のとき、u = \\frac{C_R}{C_A} = 0なので（t=0に対応）、$$\n",
    "\n",
    "$$Const. = \\frac{1}{\\kappa-1}ln(- \\frac{1}{\\kappa -1}) - ln(C_{A0})$$"
   ]
  },
  {
   "cell_type": "markdown",
   "metadata": {},
   "source": [
    "$$したがって(4)に代入して、\\frac{1}{\\kappa-1}ln(\\frac{C_R}{C_A} - \\frac{1}{\\kappa -1}) = ln(C_A) + \\frac{1}{\\kappa-1}ln(- \\frac{1}{\\kappa -1}) - ln(C_{A0})$$"
   ]
  },
  {
   "cell_type": "markdown",
   "metadata": {},
   "source": [
    "$$右辺第２項を左辺にもってきて、整理して、\\frac{1}{\\kappa-1}ln(1+(1-\\kappa)\\frac{C_R}{C_A}) = ln(\\frac{C_A}{C_{A0}}) $$"
   ]
  },
  {
   "cell_type": "markdown",
   "metadata": {},
   "source": [
    "$$1+(1-\\kappa)\\frac{C_R}{C_A} = (\\frac{C_A}{C_{A0}})^{\\kappa-1}$$"
   ]
  },
  {
   "cell_type": "markdown",
   "metadata": {},
   "source": [
    "$$こいつの両辺を(\\frac{C_A}{C_{A0}})倍してあげると(k)になる。・・・（なんでこれが必要なのか不明）$$"
   ]
  },
  {
   "cell_type": "markdown",
   "metadata": {},
   "source": [
    "## 場合分けその2"
   ]
  },
  {
   "cell_type": "markdown",
   "metadata": {},
   "source": [
    "$$さっきの整理した微分方程式(3)はこれだったけど、\\frac{du}{-1 + (\\kappa-1){u}}= \\frac{dC_A}{C_A}$$"
   ]
  },
  {
   "cell_type": "markdown",
   "metadata": {},
   "source": [
    "$$\\kappa-1=0のときは、-du = \\frac{dC_A}{C_A}になるので、そのまま積分して、初期条件同様に解決すれば(l)になる$$"
   ]
  },
  {
   "cell_type": "markdown",
   "metadata": {},
   "source": [
    "---"
   ]
  },
  {
   "cell_type": "markdown",
   "metadata": {},
   "source": [
    "## おまけ（便利なプログラムsympyくんに微分方程式を解いてもらう）"
   ]
  },
  {
   "cell_type": "code",
   "execution_count": 1,
   "metadata": {
    "collapsed": false,
    "scrolled": false
   },
   "outputs": [
    {
     "data": {
      "text/latex": [
       "$$\\frac{d}{d x} f{\\left (x \\right )} = \\frac{k}{x} f{\\left (x \\right )} - 1$$"
      ],
      "text/plain": [
       "d          k⋅f(x)    \n",
       "──(f(x)) = ────── - 1\n",
       "dx           x       "
      ]
     },
     "execution_count": 1,
     "metadata": {},
     "output_type": "execute_result"
    }
   ],
   "source": [
    "from IPython.display import display\n",
    "from sympy.interactive import printing\n",
    "printing.init_printing(use_latex='mathjax')\n",
    "from sympy import *\n",
    "\n",
    "x = symbols(\"x\")\n",
    "k = symbols(\"k\", integer=True)\n",
    "f = Function('f')\n",
    "eq = Eq(f(x).diff(x),-1+k*(f(x)/x))\n",
    "eq"
   ]
  },
  {
   "cell_type": "code",
   "execution_count": 2,
   "metadata": {
    "collapsed": false
   },
   "outputs": [
    {
     "data": {
      "text/latex": [
       "$$f{\\left (x \\right )} = \\left(C_{1} - \\begin{cases} \\log{\\left (x \\right )} & \\text{for}\\: k = 1 \\\\- \\frac{x}{k e^{k \\log{\\left (x \\right )}} - e^{k \\log{\\left (x \\right )}}} & \\text{otherwise} \\end{cases}\\right) e^{k \\log{\\left (x \\right )}}$$"
      ],
      "text/plain": [
       "       ⎛     ⎛⎧        log(x)           for k = 1⎞⎞          \n",
       "       ⎜     ⎜⎪                                  ⎟⎟          \n",
       "       ⎜     ⎜⎪          -x                      ⎟⎟  k⋅log(x)\n",
       "f(x) = ⎜C₁ - ⎜⎨───────────────────────  otherwise⎟⎟⋅ℯ        \n",
       "       ⎜     ⎜⎪   k⋅log(x)    k⋅log(x)           ⎟⎟          \n",
       "       ⎜     ⎜⎪k⋅ℯ         - ℯ                   ⎟⎟          \n",
       "       ⎝     ⎝⎩                                  ⎠⎠          "
      ]
     },
     "execution_count": 2,
     "metadata": {},
     "output_type": "execute_result"
    }
   ],
   "source": [
    "dsolve(eq)"
   ]
  },
  {
   "cell_type": "markdown",
   "metadata": {},
   "source": [
    "初期条件、x=A0のときf(x)=0（t=0のときに対応)で、C1を求めれば、上と同じになるはず（それが面倒くさい）"
   ]
  }
 ],
 "metadata": {
  "kernelspec": {
   "display_name": "Python 3",
   "language": "python",
   "name": "python3"
  },
  "language_info": {
   "codemirror_mode": {
    "name": "ipython",
    "version": 3
   },
   "file_extension": ".py",
   "mimetype": "text/x-python",
   "name": "python",
   "nbconvert_exporter": "python",
   "pygments_lexer": "ipython3",
   "version": "3.4.2"
  }
 },
 "nbformat": 4,
 "nbformat_minor": 0
}
