{
 "metadata": {
  "name": "",
  "signature": "sha256:251d360c97783a08f432794e04828a7e10d305dee4f6815a5b8bf505583bed24"
 },
 "nbformat": 3,
 "nbformat_minor": 0,
 "worksheets": [
  {
   "cells": [
    {
     "cell_type": "heading",
     "level": 1,
     "metadata": {},
     "source": [
      "Monty Hall Problem"
     ]
    },
    {
     "cell_type": "code",
     "collapsed": false,
     "input": [
      "%pylab inline"
     ],
     "language": "python",
     "metadata": {},
     "outputs": [
      {
       "output_type": "stream",
       "stream": "stdout",
       "text": [
        "Populating the interactive namespace from numpy and matplotlib\n"
       ]
      }
     ],
     "prompt_number": 1
    },
    {
     "cell_type": "code",
     "collapsed": false,
     "input": [
      "import sys\n",
      "import numpy as np\n",
      "import matplotlib.pyplot as plt\n",
      "from random import choice\n",
      "\n",
      "def montyhall(N, doors):\n",
      "    \"\"\" Return Result \"\"\"\n",
      "    # \u8a66\u884c\u56de\u6570\u3068\u540c\u3058\u9577\u3055\u306e\u30d9\u30af\u30c8\u30eb\u3092\u7528\u610f\u3059\u308b\n",
      "    arr_picked = np.zeros(N)\n",
      "    arr_switch = np.zeros(N)\n",
      "\n",
      "    for i in range(N):\n",
      "        car = choice(doors) # \u8eca\u304c\u5165\u3063\u3066\u3044\u308b\u30c9\u30a2\u3092\u30e9\u30f3\u30c0\u30e0\u306b\u6c7a\u3081\u308b\n",
      "        picked = choice(doors) # \u6b63\u89e3\u3060\u3068\u601d\u3046\u30c9\u30a2\u3092\u9078\u3076\n",
      "\n",
      "        # \u53f8\u4f1a\u8005\u304c\u30e4\u30ae\u306e\u5165\u3063\u305f\u30c9\u30a2\u3092\u30aa\u30fc\u30d7\u30f3\u3059\u308b\n",
      "        goat = choice(list(set(doors) - set([picked, car])))\n",
      "\n",
      "        # \u9078\u3073\u306a\u304a\u3059\n",
      "        switch = choice(list(set(doors) - set([picked, goat])))\n",
      "\n",
      "        # \u305d\u308c\u305e\u308c\u306e\u30d9\u30af\u30c8\u30eb\u306e\u8a72\u5f53\u306e\u4f4d\u7f6e\u306b\u6b63\u89e3\u304b\u3069\u3046\u304b\u306e\u7d50\u679c\u3092\u683c\u7d0d\u3059\u308b\n",
      "        if picked == car:\n",
      "            arr_picked[i] = 1 # \u9078\u3073\u306a\u304a\u3055\u306a\u304b\u3063\u305f\u5834\u5408\u306b\u6b63\u89e3\u306a\u3089 1\n",
      "        if switch == car:\n",
      "            arr_switch[i] = 1 # \u9078\u3073\u306a\u304a\u3057\u305f\u5834\u5408\u306b\u6b63\u89e3\u306a\u3089 1\n",
      "\n",
      "    # 2 \u3064\u306e\u30d9\u30af\u30c8\u30eb\u3092\u8fd4\u5374\u3059\u308b\n",
      "    return (arr_picked, arr_switch)\n",
      "\n",
      "def plot(N, arr_picked, arr_switch):\n",
      "\n",
      "    fig = plt.figure()\n",
      "    ax = fig.add_subplot(1, 1, 1)\n",
      "\n",
      "    X = np.arange(N) + 1 # \u8a66\u884c\u56de\u6570\u3092 X \u8ef8\u306b\u6301\u3063\u3066\u304f\u308b\n",
      "    picked_car = arr_picked.cumsum() # \u7d2f\u7a4d\u6b63\u89e3\u6570\u3092\u6c42\u3081\u308b\n",
      "    switch_car = arr_switch.cumsum()\n",
      "\n",
      "    ax.plot(X, picked_car, label='picked up')\n",
      "    ax.plot(X, switch_car, label='switched car')\n",
      "    ax.set_title('numSuccess')\n",
      "    ax.legend(loc='best')\n",
      "    plt.savefig('image.png')\n",
      "\n",
      "\n",
      "N = 10000 # 10000 \u56de\u30b7\u30df\u30e5\u30ec\u30fc\u30b7\u30e7\u30f3\u3059\u308b\n",
      "doors = np.array([1, 2, 3])\n",
      "\n",
      "# \u30e2\u30f3\u30c6\u30a3\u30db\u30fc\u30eb\u554f\u984c\u3092\u89e3\u304f\n",
      "(arr_picked, arr_switch) = montyhall(N, doors)\n",
      "# \u7d50\u679c\u3092\u30d7\u30ed\u30c3\u30c8\u3059\u308b\n",
      "plot(N, arr_picked, arr_switch)\n",
      "\n",
      "# \u7d2f\u8a08\u52dd\u5229\u6570\u3092\u7b97\u51fa\u3059\u308b\n",
      "win_picked = arr_picked.sum()\n",
      "win_switch = arr_switch.sum()\n",
      "\n",
      "print(\"\u30c9\u30a2\u3092\u5909\u66f4\u3057\u306a\u304b\u3063\u305f\u5834\u5408: %f %% (%d)\" % (100.0 * win_picked / N, win_picked))\n",
      "print(\"\u30c9\u30a2\u3092\u5909\u66f4\u3057\u305f\u5834\u5408:      %f %% (%d)\" % (100.0 * win_switch / N, win_switch))"
     ],
     "language": "python",
     "metadata": {},
     "outputs": [
      {
       "output_type": "stream",
       "stream": "stdout",
       "text": [
        "\u30c9\u30a2\u3092\u5909\u66f4\u3057\u306a\u304b\u3063\u305f\u5834\u5408: 32.580000 % (3258)\n",
        "\u30c9\u30a2\u3092\u5909\u66f4\u3057\u305f\u5834\u5408:      67.420000 % (6742)\n"
       ]
      },
      {
       "metadata": {},
       "output_type": "display_data",
       "png": "[encoded data removed]",
       "text": [
        "<matplotlib.figure.Figure at 0x4b64450>"
       ]
      }
     ],
     "prompt_number": 2
    },
    {
     "cell_type": "code",
     "collapsed": false,
     "input": [],
     "language": "python",
     "metadata": {},
     "outputs": []
    }
   ],
   "metadata": {}
  }
 ]
}