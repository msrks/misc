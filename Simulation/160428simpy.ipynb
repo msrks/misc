{
 "cells": [
  {
   "cell_type": "markdown",
   "metadata": {},
   "source": [
    "# Simpyサンプル\n",
    "\n",
    "*@160428 riki*\n",
    "\n",
    "可視化コード追加ばーじょん"
   ]
  },
  {
   "cell_type": "markdown",
   "metadata": {},
   "source": [
    "---"
   ]
  },
  {
   "cell_type": "markdown",
   "metadata": {},
   "source": [
    "### 1. 可視化ライブラリをimport\n",
    "\n",
    "* matplotlib\n",
    "* seaborn"
   ]
  },
  {
   "cell_type": "code",
   "execution_count": 1,
   "metadata": {
    "collapsed": false,
    "scrolled": true
   },
   "outputs": [
    {
     "name": "stderr",
     "output_type": "stream",
     "text": [
      "c:\\python34\\lib\\site-packages\\matplotlib\\__init__.py:872: UserWarning: axes.color_cycle is deprecated and replaced with axes.prop_cycle; please use the latter.\n",
      "  warnings.warn(self.msg_depr % (key, alt_key))\n"
     ]
    }
   ],
   "source": [
    "import simpy\n",
    "import matplotlib.pyplot as plt\n",
    "import seaborn\n",
    "%matplotlib inline"
   ]
  },
  {
   "cell_type": "markdown",
   "metadata": {},
   "source": [
    "### 2. plot用に、時刻とデバイス名を記録しておくリストを追加\n",
    "\n",
    "* time(時刻を記録)\n",
    "* name_of_device(デバイスの名前を記録。senderA=3, senderB=2, receiver=1とした。)"
   ]
  },
  {
   "cell_type": "code",
   "execution_count": 2,
   "metadata": {
    "collapsed": true
   },
   "outputs": [],
   "source": [
    "time = []\n",
    "name_of_device = []"
   ]
  },
  {
   "cell_type": "markdown",
   "metadata": {},
   "source": [
    "### 3. sender, receiverを定義"
   ]
  },
  {
   "cell_type": "code",
   "execution_count": 3,
   "metadata": {
    "collapsed": true
   },
   "outputs": [],
   "source": [
    "def senderA(env, queue, waittime, name='A'):\n",
    "    while True:\n",
    "        yield env.timeout(waittime)\n",
    "        queue.put((name, env.now))\n",
    "        time.append(env.now)\n",
    "        name_of_device.append(3)"
   ]
  },
  {
   "cell_type": "code",
   "execution_count": 4,
   "metadata": {
    "collapsed": true
   },
   "outputs": [],
   "source": [
    "def senderB(env, queue, waittime, name='B'):\n",
    "    while True:\n",
    "        yield env.timeout(waittime)\n",
    "        queue.put((name, env.now))\n",
    "        time.append(env.now)\n",
    "        name_of_device.append(2)"
   ]
  },
  {
   "cell_type": "code",
   "execution_count": 5,
   "metadata": {
    "collapsed": false
   },
   "outputs": [],
   "source": [
    "def receiver(env, queue):\n",
    "    while True:\n",
    "        sender_name, sendtime = yield queue.get()\n",
    "        time.append(env.now)\n",
    "        name_of_device.append(1)\n",
    "        yield env.timeout(2)\n",
    "        latency = env.now - sendtime\n",
    "        print('%s send at %d, receive at %d, latency= %d'%(sender_name, sendtime, env.now, latency))"
   ]
  },
  {
   "cell_type": "markdown",
   "metadata": {},
   "source": [
    "### 4. schedularを作成して、simulationを開始"
   ]
  },
  {
   "cell_type": "code",
   "execution_count": 6,
   "metadata": {
    "collapsed": false
   },
   "outputs": [],
   "source": [
    "env = simpy.Environment()"
   ]
  },
  {
   "cell_type": "code",
   "execution_count": 7,
   "metadata": {
    "collapsed": false
   },
   "outputs": [],
   "source": [
    "queue = simpy.Store(env)"
   ]
  },
  {
   "cell_type": "code",
   "execution_count": 8,
   "metadata": {
    "collapsed": false
   },
   "outputs": [
    {
     "data": {
      "text/plain": [
       "<Process(receiver) object at 0x81e4e90>"
      ]
     },
     "execution_count": 8,
     "metadata": {},
     "output_type": "execute_result"
    }
   ],
   "source": [
    "env.process(senderA(env, queue, 3 ))\n",
    "env.process(senderB(env, queue, 5 ))\n",
    "env.process(receiver(env,queue))"
   ]
  },
  {
   "cell_type": "code",
   "execution_count": 9,
   "metadata": {
    "collapsed": false,
    "scrolled": false
   },
   "outputs": [
    {
     "name": "stdout",
     "output_type": "stream",
     "text": [
      "A send at 3, receive at 5, latency= 2\n",
      "B send at 5, receive at 7, latency= 2\n",
      "A send at 6, receive at 9, latency= 3\n",
      "A send at 9, receive at 11, latency= 2\n",
      "B send at 10, receive at 13, latency= 3\n",
      "A send at 12, receive at 15, latency= 3\n",
      "B send at 15, receive at 17, latency= 2\n",
      "A send at 15, receive at 19, latency= 4\n",
      "A send at 18, receive at 21, latency= 3\n",
      "B send at 20, receive at 23, latency= 3\n",
      "A send at 21, receive at 25, latency= 4\n",
      "A send at 24, receive at 27, latency= 3\n",
      "B send at 25, receive at 29, latency= 4\n"
     ]
    }
   ],
   "source": [
    "env.run(until=30)"
   ]
  },
  {
   "cell_type": "markdown",
   "metadata": {},
   "source": [
    "### 5.各送信機のputした時刻と、受信機のgetした時刻をプロット"
   ]
  },
  {
   "cell_type": "code",
   "execution_count": 10,
   "metadata": {
    "collapsed": false
   },
   "outputs": [
    {
     "data": {
      "image/png": "[encoded data removed]",
      "text/plain": [
       "<matplotlib.figure.Figure at 0x81e4470>"
      ]
     },
     "metadata": {},
     "output_type": "display_data"
    }
   ],
   "source": [
    "plt.figure(figsize=(15,2))\n",
    "plt.scatter(time,name_of_device,s=20)\n",
    "plt.xlabel('simulation_time',size=20)\n",
    "plt.xticks(size=15)\n",
    "plt.yticks([1,2,3],['receiver','senderB','senderA'],size=20);"
   ]
  },
  {
   "cell_type": "markdown",
   "metadata": {},
   "source": [
    "## コメント\n",
    "\n",
    "receiverは受信処理するのに2秒かかるから、2秒未満でqueueにpushされてもすぐに処理できないので、最大4秒の遅延時間が発生"
   ]
  }
 ],
 "metadata": {
  "kernelspec": {
   "display_name": "Python 3",
   "language": "python",
   "name": "python3"
  },
  "language_info": {
   "codemirror_mode": {
    "name": "ipython",
    "version": 3
   },
   "file_extension": ".py",
   "mimetype": "text/x-python",
   "name": "python",
   "nbconvert_exporter": "python",
   "pygments_lexer": "ipython3",
   "version": "3.4.2"
  }
 },
 "nbformat": 4,
 "nbformat_minor": 0
}
