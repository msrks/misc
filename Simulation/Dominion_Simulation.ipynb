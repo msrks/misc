{
 "cells": [
  {
   "cell_type": "markdown",
   "metadata": {},
   "source": [
    "# ドミニオン圧縮プレイをモンテカルロ法で分析"
   ]
  },
  {
   "cell_type": "markdown",
   "metadata": {},
   "source": [
    "[Qiita](http://qiita.com/puriketu99/items/1f17333e56bcccd1c6d9)"
   ]
  },
  {
   "cell_type": "code",
   "execution_count": 3,
   "metadata": {
    "collapsed": false
   },
   "outputs": [],
   "source": [
    "%matplotlib inline\n",
    "import numpy as np\n",
    "import pandas as pd\n",
    "import matplotlib.pyplot as plt"
   ]
  },
  {
   "cell_type": "code",
   "execution_count": 4,
   "metadata": {
    "collapsed": false
   },
   "outputs": [
    {
     "name": "stdout",
     "output_type": "stream",
     "text": [
      "9.147\n"
     ]
    }
   ],
   "source": [
    "import random\n",
    "\n",
    "class Player(object):\n",
    "    def __init__(self, lib):\n",
    "        self.lib = lib[:]\n",
    "        self.hand = []\n",
    "        self.trush = []\n",
    "        self.played = []\n",
    "\n",
    "    def draw(self):\n",
    "        if len(self.lib) == 0:\n",
    "            self.lib = self.trush[:]\n",
    "            random.shuffle(self.lib)\n",
    "            self.trush = []\n",
    "        self.hand.append(self.lib.pop(0))\n",
    "\n",
    "    def buy(self, card):\n",
    "        self.trush.append(card)\n",
    "\n",
    "    def end_turn(self):\n",
    "        self.trush.extend(self.played)\n",
    "        self.trush.extend(self.hand)\n",
    "        self.hand = []\n",
    "        self.played = []\n",
    "\n",
    "    def start_turn(self):\n",
    "        for i in range(5):\n",
    "            self.draw()\n",
    "\n",
    "moto = ['s', 's', 's', 'g', 'z']\n",
    "answer = 0.0\n",
    "division = 0.0\n",
    "turn = 0.0\n",
    "\n",
    "player = Player(moto)\n",
    "\n",
    "while division < 3000:\n",
    "    if player.lib.count('z') + player.trush.count('z') == 6:\n",
    "        answer = answer + turn\n",
    "        division = division + 1.0\n",
    "        player = Player(moto)\n",
    "        turn = 0\n",
    "    player.start_turn()\n",
    "    point = 3 * player.hand.count('g') + 2 * player.hand.count('s')\n",
    "    if point >= 8:\n",
    "        player.buy('z')\n",
    "    if point == 6 or point == 7:\n",
    "        player.buy('g')\n",
    "    player.end_turn()\n",
    "    turn = turn + 1\n",
    "\n",
    "print (answer / division)"
   ]
  },
  {
   "cell_type": "code",
   "execution_count": null,
   "metadata": {
    "collapsed": false
   },
   "outputs": [],
   "source": []
  }
 ],
 "metadata": {
  "kernelspec": {
   "display_name": "Python 3",
   "language": "python",
   "name": "python3"
  },
  "language_info": {
   "codemirror_mode": {
    "name": "ipython",
    "version": 3
   },
   "file_extension": ".py",
   "mimetype": "text/x-python",
   "name": "python",
   "nbconvert_exporter": "python",
   "pygments_lexer": "ipython3",
   "version": "3.4.2"
  }
 },
 "nbformat": 4,
 "nbformat_minor": 0
}
