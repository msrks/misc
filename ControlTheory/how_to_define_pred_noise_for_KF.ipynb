{
 "cells": [
  {
   "cell_type": "code",
   "execution_count": 13,
   "metadata": {},
   "outputs": [
    {
     "name": "stdout",
     "output_type": "stream",
     "text": [
      "Initial State:\n",
      "[[1.]\n",
      " [0.]]\n",
      "\n",
      "Time 0:\n",
      "[[1.]\n",
      " [0.]]\n",
      "[[1.99503278]\n",
      " [0.03973773]]\n",
      "\n",
      "Time 1:\n",
      "[[1.99662229]\n",
      " [0.03973773]]\n",
      "[[3.1356194 ]\n",
      " [6.97814121]]\n",
      "\n",
      "Time 2:\n",
      "[[3.41474505]\n",
      " [6.97814121]]\n",
      "[[ 4.78089515]\n",
      " [19.58200693]]\n",
      "\n",
      "Time 3:\n",
      "[[ 5.56417543]\n",
      " [19.58200693]]\n",
      "[[ 6.8471255 ]\n",
      " [30.80455998]]\n",
      "\n",
      "Time 4:\n",
      "[[ 8.0793079 ]\n",
      " [30.80455998]]\n",
      "[[ 9.04816802]\n",
      " [38.10743631]]\n"
     ]
    }
   ],
   "source": [
    "# %load test.py\n",
    "\"\"\"\n",
    "1D KF Simulation using Filterpy\n",
    "\n",
    "2018-01-24 msrks\n",
    "\"\"\"\n",
    "\n",
    "import numpy as np\n",
    "from filterpy.kalman import KalmanFilter\n",
    "from filterpy.common import Q_discrete_white_noise\n",
    "\n",
    "FRAME_RATE = 25\n",
    "DT = 1/FRAME_RATE\n",
    "VAR = 0.1 \n",
    "\n",
    "f = KalmanFilter(dim_x=2, dim_z=1)\n",
    "\n",
    "# init state\n",
    "f.x = np.array([[1.],\n",
    "                [0.]])       \n",
    "# init covariance matrix\n",
    "f.P *= 1000.                 \n",
    "\n",
    "# state transition matrix\n",
    "f.F = np.array([[1.,DT], # 1じゃなくて dtだと思われるので修正\n",
    "                [0.,1.]])    \n",
    "# measurement matrix\n",
    "f.H = np.array([[1.,0.]])    \n",
    "\n",
    "# prediction noise\n",
    "f.Q = Q_discrete_white_noise(2, dt=DT, var=VAR)\n",
    "# observation noise\n",
    "f.R = 5 \n",
    "\n",
    "# >>> f.Q = Q_discrete_white_noise(2, dt=1.0, var=0.1)\n",
    "# >>> print (f.Q)\n",
    "# [[0.025 0.05 ]\n",
    "#  [0.05  0.1  ]]\n",
    "\n",
    "print (\"Initial State:\")\n",
    "print (f.x)\n",
    "\n",
    "meas = [2,4,6,8,10]\n",
    "# loop\n",
    "for t in range(len(meas)):\n",
    "    print (f\"\\nTime {t}:\")\n",
    "    f.predict()\n",
    "    print (f.x)\n",
    "    f.update(meas[t])\n",
    "    print (f.x)"
   ]
  },
  {
   "cell_type": "markdown",
   "metadata": {},
   "source": [
    "## Q_discrete_white_noise のパラメーター varの決め方"
   ]
  },
  {
   "cell_type": "markdown",
   "metadata": {},
   "source": [
    "<div class=\"alert alert-success\">\n",
    "var = 4*D/(T**4) と決めると良い！！！\n",
    "</div>"
   ]
  },
  {
   "cell_type": "markdown",
   "metadata": {},
   "source": [
    "#### 証明\n",
    "\n",
    "T時刻後に、Dメートルくらバラついているとすると"
   ]
  },
  {
   "cell_type": "code",
   "execution_count": 4,
   "metadata": {},
   "outputs": [],
   "source": [
    "T = 10\n",
    "D = 1"
   ]
  },
  {
   "cell_type": "markdown",
   "metadata": {},
   "source": [
    "$$D = (0.5T^2)^2\\cdot var = 0.25T^4\\cdot var$$\n",
    "\n",
    "$$var = \\frac{D}{0.25T^4} = \\frac{4D}{T^4}$$"
   ]
  },
  {
   "cell_type": "code",
   "execution_count": 10,
   "metadata": {},
   "outputs": [
    {
     "data": {
      "text/plain": [
       "0.0004"
      ]
     },
     "execution_count": 10,
     "metadata": {},
     "output_type": "execute_result"
    }
   ],
   "source": [
    "var = 4*D/(T**4)\n",
    "var"
   ]
  },
  {
   "cell_type": "code",
   "execution_count": 11,
   "metadata": {},
   "outputs": [
    {
     "data": {
      "text/plain": [
       "array([[1.  , 0.2 ],\n",
       "       [0.2 , 0.04]])"
      ]
     },
     "execution_count": 11,
     "metadata": {},
     "output_type": "execute_result"
    }
   ],
   "source": [
    "f.Q = Q_discrete_white_noise(2, dt=T, var=var)\n",
    "f.Q"
   ]
  },
  {
   "cell_type": "code",
   "execution_count": null,
   "metadata": {},
   "outputs": [],
   "source": []
  }
 ],
 "metadata": {
  "kernelspec": {
   "display_name": "Python 3",
   "language": "python",
   "name": "python3"
  },
  "language_info": {
   "codemirror_mode": {
    "name": "ipython",
    "version": 3
   },
   "file_extension": ".py",
   "mimetype": "text/x-python",
   "name": "python",
   "nbconvert_exporter": "python",
   "pygments_lexer": "ipython3",
   "version": "3.6.2"
  }
 },
 "nbformat": 4,
 "nbformat_minor": 2
}
